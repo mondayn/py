{
 "cells": [
  {
   "cell_type": "code",
   "execution_count": 1,
   "metadata": {},
   "outputs": [],
   "source": [
    "# import cv2\n",
    "# # conda install -c conda-forge opencv\n",
    "\n",
    "# # then run \n",
    "# ## conda install -c defaults libprotobuf protobuf\n",
    "# # per https://github.com/ContinuumIO/anaconda-issues/issues/9601"
   ]
  },
  {
   "cell_type": "code",
   "execution_count": 1,
   "metadata": {
    "ExecuteTime": {
     "end_time": "2019-06-21T23:54:26.106500Z",
     "start_time": "2019-06-21T23:54:25.680986Z"
    }
   },
   "outputs": [],
   "source": [
    "from PIL import Image\n",
    "import IPython.display as ip\n",
    "import pytesseract #install using pip install pytesseract"
   ]
  },
  {
   "cell_type": "code",
   "execution_count": 4,
   "metadata": {
    "ExecuteTime": {
     "end_time": "2019-06-21T23:57:05.560139Z",
     "start_time": "2019-06-21T23:57:05.546728Z"
    }
   },
   "outputs": [
    {
     "data": {
      "image/png": "[encoded data removed]",
      "text/plain": [
       "<IPython.core.display.Image object>"
      ]
     },
     "execution_count": 4,
     "metadata": {},
     "output_type": "execute_result"
    }
   ],
   "source": [
    "# file='/media/sf_C_DRIVE/Users/Nathan/Documents/ocr.jpg'\n",
    "file='/media/sf_C_DRIVE/Users/Nathan/Desktop/WithGridlines.png'\n",
    "ip.Image(file)"
   ]
  },
  {
   "cell_type": "code",
   "execution_count": 5,
   "metadata": {
    "ExecuteTime": {
     "end_time": "2019-06-21T23:57:10.789202Z",
     "start_time": "2019-06-21T23:57:10.392540Z"
    }
   },
   "outputs": [
    {
     "name": "stdout",
     "output_type": "stream",
     "text": [
      "\\Immbww—I\n",
      "\n",
      "A B C\n",
      "Facility Value Another Col\n",
      "\n",
      "A 1000 77\n",
      "B 1250 85\n",
      "C 9999 69\n",
      "D 1650 36\n",
      "Bob 129 12\n"
     ]
    }
   ],
   "source": [
    "print(pytesseract.image_to_string(Image.open(file)))"
   ]
  }
 ],
 "metadata": {
  "kernelspec": {
   "display_name": "Python 3",
   "language": "python",
   "name": "python3"
  },
  "language_info": {
   "codemirror_mode": {
    "name": "ipython",
    "version": 3
   },
   "file_extension": ".py",
   "mimetype": "text/x-python",
   "name": "python",
   "nbconvert_exporter": "python",
   "pygments_lexer": "ipython3",
   "version": "3.6.8"
  },
  "toc": {
   "base_numbering": 1,
   "nav_menu": {},
   "number_sections": true,
   "sideBar": true,
   "skip_h1_title": false,
   "title_cell": "Table of Contents",
   "title_sidebar": "Contents",
   "toc_cell": false,
   "toc_position": {},
   "toc_section_display": true,
   "toc_window_display": false
  }
 },
 "nbformat": 4,
 "nbformat_minor": 2
}
