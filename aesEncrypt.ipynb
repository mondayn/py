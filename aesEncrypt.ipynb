{
 "cells": [
  {
   "cell_type": "code",
   "execution_count": null,
   "metadata": {},
   "outputs": [],
   "source": [
    ">>> from Crypto.Cipher import AES\n",
    ">>> obj = AES.new('This is a key123', AES.MODE_CBC, 'This is an IV456')\n",
    ">>> message = \"The answer is no\"\n",
    ">>> ciphertext = obj.encrypt(message)\n",
    ">>> ciphertext\n",
    "'\\xd6\\x83\\x8dd!VT\\x92\\xaa`A\\x05\\xe0\\x9b\\x8b\\xf1'\n",
    ">>> obj2 = AES.new('This is a key123', AES.MODE_CBC, 'This is an IV456')\n",
    ">>> obj2.decrypt(ciphertext)"
   ]
  },
  {
   "cell_type": "code",
   "execution_count": null,
   "metadata": {},
   "outputs": [],
   "source": [
    "from Crypto.Cipher import AES\n",
    "from getpass import getpass\n",
    "import bcrypt\n",
    "\n",
    "salt=b'$2b$12$GEv8UIe.6h9KaCYYpie.Ye'\n",
    "\n",
    "# generate hash using master\n",
    "pwattempt = getpass('master key')\n",
    "hashAttempt = bcrypt.hashpw(pwattempt.encode(\"utf-8\"),salt)\n",
    "\n",
    "# encrypt pw with hash\n",
    "# pw = REDACTED\n",
    "# obj = AES.new(hashAttempt[-16:], AES.MODE_CBC, hashAttempt[-16:])\n",
    "# ciphertext = obj.encrypt(pw)\n",
    "# print(ciphertext)\n",
    "\n",
    "hashedVal=b'\\x91SN\\xd7\\xa6aR\\x92\\xf2\\xfc1/nJ\\xfe&'\n",
    "\n",
    "# decrypt pw using hash of 16 length\n",
    "obj2 = AES.new(hashAttempt[-16:], AES.MODE_CBC,hashAttempt[-16:])\n",
    "pw = obj2.decrypt(hashedVal)\n",
    "print(pw)\n"
   ]
  },
  {
   "cell_type": "code",
   "execution_count": null,
   "metadata": {
    "collapsed": true
   },
   "outputs": [],
   "source": []
  }
 ],
 "metadata": {
  "kernelspec": {
   "display_name": "Python 3",
   "language": "python",
   "name": "python3"
  },
  "language_info": {
   "codemirror_mode": {
    "name": "ipython",
    "version": 3
   },
   "file_extension": ".py",
   "mimetype": "text/x-python",
   "name": "python",
   "nbconvert_exporter": "python",
   "pygments_lexer": "ipython3",
   "version": "3.6.1"
  }
 },
 "nbformat": 4,
 "nbformat_minor": 2
}
