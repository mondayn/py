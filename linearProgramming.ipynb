{
 "cells": [
  {
   "cell_type": "markdown",
   "metadata": {},
   "source": [
    "## Google solution"
   ]
  },
  {
   "cell_type": "code",
   "execution_count": 11,
   "metadata": {},
   "outputs": [],
   "source": [
    "from IPython.core.interactiveshell import InteractiveShell\n",
    "InteractiveShell.ast_node_interactivity = \"all\" "
   ]
  },
  {
   "cell_type": "code",
   "execution_count": 15,
   "metadata": {},
   "outputs": [
    {
     "name": "stdout",
     "output_type": "stream",
     "text": [
      "Packed items:  [3, 8, 9]\n",
      "Packed weights:  [130, 393, 125]\n",
      "Total weight (same as total value):  648\n"
     ]
    }
   ],
   "source": [
    "from ortools.algorithms import pywrapknapsack_solver\n",
    "\n",
    "weights = [[565, 406, 194, 130, 435, 367, 230, 315, 393,\n",
    "          125, 670, 892, 600, 293, 712, 147, 421, 255]]\n",
    "capacities = [648]\n",
    "\n",
    "values = weights[0]\n",
    "\n",
    "solver = pywrapknapsack_solver.KnapsackSolver(\n",
    "  pywrapknapsack_solver.KnapsackSolver.\n",
    "  KNAPSACK_DYNAMIC_PROGRAMMING_SOLVER,\n",
    "  'test')\n",
    "\n",
    "solver.Init(values, weights, capacities)\n",
    "computed_value = solver.Solve()\n",
    "\n",
    "packed_items = [x for x in range(0, len(weights[0]))\n",
    "                if solver.BestSolutionContains(x)]\n",
    "packed_weights = [weights[0][i] for i in packed_items]\n",
    "\n",
    "print(\"Packed items: \", packed_items)\n",
    "print(\"Packed weights: \", packed_weights)\n",
    "print(\"Total weight (same as total value): \", computed_value)"
   ]
  },
  {
   "cell_type": "markdown",
   "metadata": {},
   "source": [
    "?s decimals, negative values?"
   ]
  },
  {
   "cell_type": "markdown",
   "metadata": {},
   "source": [
    "## Other libraries"
   ]
  },
  {
   "cell_type": "code",
   "execution_count": 5,
   "metadata": {},
   "outputs": [
    {
     "name": "stdout",
     "output_type": "stream",
     "text": [
      "1.0.21\n",
      "1.16.2\n"
     ]
    }
   ],
   "source": [
    "# didn't research\n",
    "# from scipy.optimize import linprog\n",
    "# from scipy.optimize import minimize\n",
    "# res = minimize(fn,x0,method='nelder-mead', options={'xtol': 1e-8, 'disp': True})\n",
    "\n",
    "# had issues installing on py 3.6, upgraded to py 3.7\n",
    "import cvxpy\n",
    "import cvxpy\n",
    "import numpy as np\n",
    "print(cvxpy.__version__)\n",
    "print(np.__version__)"
   ]
  },
  {
   "cell_type": "code",
   "execution_count": 4,
   "metadata": {},
   "outputs": [
    {
     "name": "stdout",
     "output_type": "stream",
     "text": [
      "3.7.3 (default, Mar 27 2019, 22:11:17) \n",
      "[GCC 7.3.0]\n"
     ]
    }
   ],
   "source": [
    "import sys\n",
    "print(sys.version)"
   ]
  }
 ],
 "metadata": {
  "kernelspec": {
   "display_name": "Python 3",
   "language": "python",
   "name": "python3"
  },
  "language_info": {
   "codemirror_mode": {
    "name": "ipython",
    "version": 3
   },
   "file_extension": ".py",
   "mimetype": "text/x-python",
   "name": "python",
   "nbconvert_exporter": "python",
   "pygments_lexer": "ipython3",
   "version": "3.7.3"
  },
  "toc": {
   "base_numbering": 1,
   "nav_menu": {},
   "number_sections": true,
   "sideBar": true,
   "skip_h1_title": false,
   "title_cell": "Table of Contents",
   "title_sidebar": "Contents",
   "toc_cell": false,
   "toc_position": {},
   "toc_section_display": true,
   "toc_window_display": false
  }
 },
 "nbformat": 4,
 "nbformat_minor": 2
}
