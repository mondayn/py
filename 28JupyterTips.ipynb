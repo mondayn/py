{
 "cells": [
  {
   "cell_type": "raw",
   "metadata": {},
   "source": [
    "#from https://www.dataquest.io/blog/jupyter-notebook-tips-tricks-shortcuts/\n",
    "\n",
    "shorcuts: cltr + shift + p: \n",
    "    toggle out: esc o\n",
    "    multi-cursor: alt while dragging\n",
    "\n",
    "edit mode\n",
    "    (un)comment: ctrl + / \n",
    "    split cells: cltr + shift + -\n",
    "    find/replace: esc f\n",
    "    docstring: shift+tab\n",
    "\n",
    "cmd mode\n",
    "    select next cell:shift+down\n",
    "    merge cells:shift+m\n",
    "    markdown:m\n",
    "    add cell: a\n",
    "    delete cell: d+d"
   ]
  },
  {
   "cell_type": "code",
   "execution_count": 5,
   "metadata": {},
   "outputs": [
    {
     "name": "stdout",
     "output_type": "stream",
     "text": [
      "Wall time: 60.6 ms\n"
     ]
    }
   ],
   "source": [
    "%%time\n",
    "import time\n",
    "for _ in range(5):\n",
    "   time.sleep(0.01)# sleep for 0.01 seconds"
   ]
  },
  {
   "cell_type": "code",
   "execution_count": null,
   "metadata": {
    "collapsed": true
   },
   "outputs": [],
   "source": [
    "#measure subloop time\n",
    "%timeit 'time.sleep(0.01) for _ in range(5)'\n",
    "# %timeit 'print(\"test\")'"
   ]
  },
  {
   "cell_type": "code",
   "execution_count": 1,
   "metadata": {},
   "outputs": [
    {
     "name": "stdout",
     "output_type": "stream",
     "text": [
      " "
     ]
    }
   ],
   "source": [
    "%%prun\n",
    "#shows most time spent in sleep\n",
    "import time\n",
    "def myFunction(i):\n",
    "    time.sleep(1)\n",
    "    return i\n",
    "\n",
    "for j in range(5):\n",
    "    k = myFunction(j)"
   ]
  },
  {
   "cell_type": "code",
   "execution_count": null,
   "metadata": {
    "collapsed": true
   },
   "outputs": [],
   "source": [
    "#magic commands\n",
    "%ls\n",
    "#%lsmagic\n",
    "# lsmagic\n",
    "#%quickref #magic commands\n",
    "# to list current variables\n",
    "#who "
   ]
  },
  {
   "cell_type": "code",
   "execution_count": null,
   "metadata": {
    "collapsed": true
   },
   "outputs": [],
   "source": [
    "# install r\n",
    "# !conda install -c r r-essentials"
   ]
  },
  {
   "cell_type": "code",
   "execution_count": null,
   "metadata": {
    "collapsed": true
   },
   "outputs": [],
   "source": [
    "import pandas as pd\n",
    "import numpy as np\n",
    "\n",
    "from IPython.core.display import HTML\n",
    "HTML(\"<style>.container{ width: 100% !important; }</style>\")\n",
    "\n",
    "from IPython.core.interactiveshell import InteractiveShell\n",
    "InteractiveShell.ast_node_interactivity = \"all\" \n",
    "\n",
    "pd.options.display.float_format = '{:,.2f}'.format\n",
    "\n",
    "import matplotlib.pyplot as plt\n",
    "%matplotlib inline\n",
    "\n",
    "from matplotlib.pylab import rcParams\n",
    "rcParams['figure.figsize'] = 15, 4\n",
    "\n",
    "pd.set_option('display.max_columns', 10)     \n",
    "pd.set_option('display.width', 500)\n",
    "pd.set_option('display.max_rows', 15)"
   ]
  }
 ],
 "metadata": {
  "kernelspec": {
   "display_name": "Python 3",
   "language": "python",
   "name": "python3"
  },
  "language_info": {
   "codemirror_mode": {
    "name": "ipython",
    "version": 3
   },
   "file_extension": ".py",
   "mimetype": "text/x-python",
   "name": "python",
   "nbconvert_exporter": "python",
   "pygments_lexer": "ipython3",
   "version": "3.6.4"
  }
 },
 "nbformat": 4,
 "nbformat_minor": 2
}
