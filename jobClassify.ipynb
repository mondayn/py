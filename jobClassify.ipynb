{
 "cells": [
  {
   "cell_type": "code",
   "execution_count": null,
   "metadata": {
    "ExecuteTime": {
     "end_time": "2019-05-29T21:38:50.576357Z",
     "start_time": "2019-05-29T21:38:49.104200Z"
    }
   },
   "outputs": [],
   "source": [
    "import pandas as pd\n",
    "import numpy as np\n",
    "\n",
    "import matplotlib.pyplot as plt\n",
    "%matplotlib inline\n",
    "\n",
    "from IPython.core.interactiveshell import InteractiveShell\n",
    "InteractiveShell.ast_node_interactivity = \"all\""
   ]
  },
  {
   "cell_type": "code",
   "execution_count": null,
   "metadata": {
    "ExecuteTime": {
     "end_time": "2019-05-29T21:38:50.581345Z",
     "start_time": "2019-05-29T21:38:50.577355Z"
    },
    "code_folding": [
     0
    ]
   },
   "outputs": [],
   "source": [
    "# not used\n",
    "#https://www.kaggle.com/JobsPikrHQ/usa-based-job-data-set-from-300-companies\n",
    "# file = 'C:/users/hvu7470/Downloads/US-based jobs.csv'"
   ]
  },
  {
   "cell_type": "markdown",
   "metadata": {},
   "source": [
    "# download job postings"
   ]
  },
  {
   "cell_type": "code",
   "execution_count": null,
   "metadata": {
    "ExecuteTime": {
     "end_time": "2019-05-29T21:38:51.724362Z",
     "start_time": "2019-05-29T21:38:50.583342Z"
    }
   },
   "outputs": [],
   "source": [
    "#from https://www.kaggle.com/madhab/jobposts/version/1\n",
    "file = 'data/data job posts.csv'\n",
    "df = pd.read_csv(file)\n",
    "df.shape"
   ]
  },
  {
   "cell_type": "code",
   "execution_count": null,
   "metadata": {
    "ExecuteTime": {
     "end_time": "2019-05-30T18:33:39.098331Z",
     "start_time": "2019-05-30T18:33:39.086362Z"
    }
   },
   "outputs": [],
   "source": [
    "cols = ['Title']\n",
    "# , 'JobDescription']\n",
    "# , 'JobRequirment','RequiredQual']\n",
    "df[cols].head()\n",
    "df.columns"
   ]
  },
  {
   "cell_type": "code",
   "execution_count": null,
   "metadata": {
    "ExecuteTime": {
     "end_time": "2019-05-29T21:38:51.745308Z",
     "start_time": "2019-05-29T21:38:51.741319Z"
    },
    "code_folding": [
     0
    ]
   },
   "outputs": [],
   "source": [
    "# def profileDs(df):    \n",
    "#     pd.options.display.float_format = '{:.0f}'.format\n",
    "\n",
    "#     df2 = pd.DataFrame()\n",
    "#     for c in df.columns:\n",
    "#         d = dict()\n",
    "#         d['col'] = c\n",
    "#         d['dtype'] = str(type(df.iloc[0][c])).replace(\"<class '\",'').replace('numpy.','').replace(\"'>\",'')\n",
    "#         d['nulls'] = df[df[c].isna()].shape[0]\n",
    "#         d['zeros'] = df[df[c].astype('str')=='0'].shape[0]\n",
    "#         d['empty']=df[df[c].astype('str').replace(\" \",'').apply(lambda x: len(x)==0)].shape[0]\n",
    "#         d['min'] = df[~df[c].isna()][c].min()\n",
    "#         d['max'] = df[~df[c].isna()][c].max()\n",
    "#         d['unique'] = df[c].nunique()\n",
    "\n",
    "#         lst = [len(x) for x in df[c].astype('str').unique()]\n",
    "#         d['minLength'] = min(lst)\n",
    "#         d['maxLength'] = max(lst)\n",
    "\n",
    "#         d['count'] = df[c].shape[0]\n",
    "\n",
    "#         df1 = pd.DataFrame.from_dict(d,orient='index') \n",
    "#         df2 = pd.concat([df2,df1],axis=1)\n",
    "#     return df2.T.reset_index().drop('index',axis=1)\n",
    "\n",
    "# profileDs(df[cols].copy(deep=True))"
   ]
  },
  {
   "cell_type": "markdown",
   "metadata": {},
   "source": [
    "# create features from text"
   ]
  },
  {
   "cell_type": "code",
   "execution_count": 399,
   "metadata": {
    "ExecuteTime": {
     "end_time": "2019-05-30T21:00:32.012528Z",
     "start_time": "2019-05-30T21:00:30.398831Z"
    }
   },
   "outputs": [],
   "source": [
    "import re\n",
    "import nltk\n",
    "\n",
    "# nltk.download('punkt')\n",
    "from nltk.tokenize import word_tokenize as wt \n",
    "# nltk.download('stopwords')\n",
    "from nltk.corpus import stopwords\n",
    "\n",
    "# from nltk.stem.porter import PorterStemmer\n",
    "# stemmer = PorterStemmer()\n",
    "\n",
    "data = []\n",
    "# for i in range(df.shape[0]):\n",
    "#     sms = \"\".join([str(df.iloc[i][c]) for c in cols])\n",
    "# for r in zip(df.Title, df.JobDescription):\n",
    "#     sms = \"\".join(str(r[0])+' '+str(r[1])).lower()\n",
    "for r in zip(df.Title):\n",
    "    sms = \"\".join(str(r[0])).lower()\n",
    "    sms = re.sub('[^A-Za-z]', ' ', sms)  # alpha characters only\n",
    "    tokenized_sms = wt(sms)\n",
    "#     sms_processed = []\n",
    "#     for word in tokenized_sms:\n",
    "#         if word not in set(stopwords.words('english')):\n",
    "#             sms_processed.append(word)\n",
    "    sms_text = \" \".join(tokenized_sms)\n",
    "    data.append(sms_text)"
   ]
  },
  {
   "cell_type": "code",
   "execution_count": 400,
   "metadata": {
    "ExecuteTime": {
     "end_time": "2019-05-30T21:00:38.142187Z",
     "start_time": "2019-05-30T21:00:36.476627Z"
    }
   },
   "outputs": [
    {
     "data": {
      "text/html": [
       "<div>\n",
       "<style scoped>\n",
       "    .dataframe tbody tr th:only-of-type {\n",
       "        vertical-align: middle;\n",
       "    }\n",
       "\n",
       "    .dataframe tbody tr th {\n",
       "        vertical-align: top;\n",
       "    }\n",
       "\n",
       "    .dataframe thead th {\n",
       "        text-align: right;\n",
       "    }\n",
       "</style>\n",
       "<table border=\"1\" class=\"dataframe\">\n",
       "  <thead>\n",
       "    <tr style=\"text-align: right;\">\n",
       "      <th></th>\n",
       "      <th>WordCount</th>\n",
       "      <th>stopword</th>\n",
       "    </tr>\n",
       "  </thead>\n",
       "  <tbody>\n",
       "    <tr>\n",
       "      <th>manager</th>\n",
       "      <td>2590</td>\n",
       "      <td>0</td>\n",
       "    </tr>\n",
       "    <tr>\n",
       "      <th>specialist</th>\n",
       "      <td>2045</td>\n",
       "      <td>0</td>\n",
       "    </tr>\n",
       "    <tr>\n",
       "      <th>developer</th>\n",
       "      <td>1913</td>\n",
       "      <td>0</td>\n",
       "    </tr>\n",
       "    <tr>\n",
       "      <th>engineer</th>\n",
       "      <td>1607</td>\n",
       "      <td>0</td>\n",
       "    </tr>\n",
       "    <tr>\n",
       "      <th>senior</th>\n",
       "      <td>1492</td>\n",
       "      <td>0</td>\n",
       "    </tr>\n",
       "  </tbody>\n",
       "</table>\n",
       "</div>"
      ],
      "text/plain": [
       "            WordCount  stopword\n",
       "manager          2590         0\n",
       "specialist       2045         0\n",
       "developer        1913         0\n",
       "engineer         1607         0\n",
       "senior           1492         0"
      ]
     },
     "execution_count": 400,
     "metadata": {},
     "output_type": "execute_result"
    }
   ],
   "source": [
    "wordCount = pd.DataFrame.from_dict(dict(FreqDist(wt(pd.Series(data).str.cat(sep='\\n')))), orient='index')\n",
    "wordCount.columns=['WordCount']\n",
    "wordCount = wordCount.sort_values(by='WordCount',ascending=False)\n",
    "wordCount['stopword'] = [1 if r.Index in stopwords.words('english') else 0 for r in wordCount.itertuples()]\n",
    "wordCount.head()"
   ]
  },
  {
   "cell_type": "code",
   "execution_count": 401,
   "metadata": {
    "ExecuteTime": {
     "end_time": "2019-05-30T21:00:40.191724Z",
     "start_time": "2019-05-30T21:00:40.183745Z"
    }
   },
   "outputs": [
    {
     "data": {
      "text/plain": [
       "'manager|specialist|developer|engineer|senior|assistant|software|sales|accountant|department|officer|project|head|marketing|development|chief|director|coordinator|c|administrator|administrative|representative|web|consultant|financial|expert|designer|analyst|net|program|java|medical|division|service|technical|qa|business|language|credit|management|system|branch|unit|executive|finance|support|translator|english|lawyer|office|legal|customer|junior|team|php|hr|quality|receptionist|programmer|database|intern|internal|monitoring|leader|secretary|national|training|procurement|information|network|corporate|operations|auditor|deputy|supervisor|programme|agent|operator|loan|center|cashier|public|advisor|design|security|assurance|courses|human|services|product|architect|relations|asp|graphic|control|accounting|pr|commercial|logistics|local|reporting|systems|risk|interpreter|market|driver|international|research|audit|leading|mobile|armenia|general|social|application|administration|resources|associate|regional|education|communication|banking|lending|policy|trainer|data|contractor|test|communications|health|adviser|analysis|group|evaluation|android|retail|planning|ios|account|controller|area|lead|technician|economic|brand|teacher|advertising|civil|construction|client|teller|economist|production|r|tax|media|course|writer|submicron|deep|clerk|editor|care|merchandiser|community|store|environmental|ui|gyumri'"
      ]
     },
     "execution_count": 401,
     "metadata": {},
     "output_type": "execute_result"
    }
   ],
   "source": [
    "# top words i might use as features\n",
    "cond = (wordCount.stopword!=1) & (wordCount.WordCount>50)\n",
    "wordCount[cond].index.str.cat(sep='|')"
   ]
  },
  {
   "cell_type": "code",
   "execution_count": 408,
   "metadata": {
    "ExecuteTime": {
     "end_time": "2019-05-30T21:02:32.311790Z",
     "start_time": "2019-05-30T21:02:32.184130Z"
    }
   },
   "outputs": [
    {
     "data": {
      "text/plain": [
       "(19001, 50)"
      ]
     },
     "execution_count": 408,
     "metadata": {},
     "output_type": "execute_result"
    },
    {
     "data": {
      "text/plain": [
       "manager           1904.934473\n",
       "specialist        1490.598495\n",
       "developer         1347.116213\n",
       "engineer          1207.603226\n",
       "assistant          873.242127\n",
       "software           748.314434\n",
       "accountant         660.836775\n",
       "sales              626.540727\n",
       "officer            548.703864\n",
       "department         527.722057\n",
       "project            458.744762\n",
       "marketing          456.392193\n",
       "director           411.079358\n",
       "coordinator        401.980280\n",
       "administrator      397.506783\n",
       "chief              387.699207\n",
       "development        387.309908\n",
       "administrative     340.014769\n",
       "expert             339.538305\n",
       "designer           334.525033\n",
       "consultant         328.951309\n",
       "web                315.812189\n",
       "representative     301.260334\n",
       "analyst            294.133056\n",
       "financial          281.827606\n",
       "net                274.429710\n",
       "program            268.035573\n",
       "java               263.440600\n",
       "medical            248.341337\n",
       "division           247.611393\n",
       "qa                 234.940794\n",
       "technical          231.451045\n",
       "service            230.679453\n",
       "business           217.445201\n",
       "branch             215.503233\n",
       "lawyer             215.387338\n",
       "translator         207.805912\n",
       "executive          207.692680\n",
       "finance            207.119846\n",
       "credit             206.529979\n",
       "management         201.200321\n",
       "language           199.555644\n",
       "unit               198.272642\n",
       "system             196.672339\n",
       "support            179.569853\n",
       "legal              176.146176\n",
       "english            167.039113\n",
       "team               154.470861\n",
       "junior             147.209852\n",
       "customer           142.065107\n",
       "dtype: float64"
      ]
     },
     "execution_count": 408,
     "metadata": {},
     "output_type": "execute_result"
    }
   ],
   "source": [
    "wordsToExclude = stopwords.words('english') + ['nan','head','armenia','qualified','incumbent','highly','well'\\\n",
    ",'work','responsible','senior','office','seeking','responsible','llc','looking']\n",
    "\n",
    "# creating the feature matrix \n",
    "# from sklearn.feature_extraction.text import CountVectorizer\n",
    "from sklearn.feature_extraction.text import TfidfVectorizer\n",
    "# matrix = CountVectorizer(max_features=50)\n",
    "matrix = TfidfVectorizer(max_features=50,stop_words=wordsToExclude)\n",
    "X = matrix.fit_transform(data).toarray()\n",
    "X.shape\n",
    "\n",
    "# feature words\n",
    "pd.DataFrame(X,columns=matrix.get_feature_names()).sum().sort_values(ascending=False)"
   ]
  },
  {
   "cell_type": "markdown",
   "metadata": {},
   "source": [
    "# use kmeans to cluster job postings"
   ]
  },
  {
   "cell_type": "code",
   "execution_count": 509,
   "metadata": {
    "ExecuteTime": {
     "end_time": "2019-05-30T22:03:50.228289Z",
     "start_time": "2019-05-30T22:03:48.259546Z"
    },
    "scrolled": false
   },
   "outputs": [
    {
     "data": {
      "image/png": "[encoded data removed]",
      "text/plain": [
       "<Figure size 432x288 with 1 Axes>"
      ]
     },
     "metadata": {
      "needs_background": "light"
     },
     "output_type": "display_data"
    },
    {
     "data": {
      "image/png": "[encoded data removed]",
      "text/plain": [
       "<Figure size 432x288 with 1 Axes>"
      ]
     },
     "metadata": {
      "needs_background": "light"
     },
     "output_type": "display_data"
    },
    {
     "data": {
      "image/png": "[encoded data removed]",
      "text/plain": [
       "<Figure size 432x288 with 1 Axes>"
      ]
     },
     "metadata": {
      "needs_background": "light"
     },
     "output_type": "display_data"
    },
    {
     "data": {
      "image/png": "[encoded data removed]",
      "text/plain": [
       "<Figure size 432x288 with 1 Axes>"
      ]
     },
     "metadata": {
      "needs_background": "light"
     },
     "output_type": "display_data"
    },
    {
     "data": {
      "image/png": "[encoded data removed]",
      "text/plain": [
       "<Figure size 432x288 with 1 Axes>"
      ]
     },
     "metadata": {
      "needs_background": "light"
     },
     "output_type": "display_data"
    },
    {
     "data": {
      "image/png": "[encoded data removed]",
      "text/plain": [
       "<Figure size 432x288 with 1 Axes>"
      ]
     },
     "metadata": {
      "needs_background": "light"
     },
     "output_type": "display_data"
    },
    {
     "data": {
      "image/png": "[encoded data removed]",
      "text/plain": [
       "<Figure size 432x288 with 1 Axes>"
      ]
     },
     "metadata": {
      "needs_background": "light"
     },
     "output_type": "display_data"
    }
   ],
   "source": [
    "from sklearn.cluster import KMeans\n",
    "clf = KMeans(n_clusters=7, random_state=0)\n",
    "y = clf.fit_predict(X)\n",
    "df['cluster'] = y\n",
    "\n",
    "# attempt to explain each cluster\n",
    "# name each cluster using its top word found\n",
    "clusterNames = []\n",
    "for c in np.unique(y):\n",
    "    topStrings = pd.DataFrame(X[df[df.cluster==c].index],columns=matrix.get_feature_names()).sum().sort_values(ascending=False) \n",
    "    s = topStrings.index[0]\n",
    "    ax = topStrings.reset_index().head(10).sort_values(by=0,ascending=True).plot(kind='barh',y=0,x='index'\\\n",
    "    ,title='cluster {} the \"{}\" '.format(c,s),legend=False)\n",
    "    clusterNames.append((c,s))\n",
    "#     'cluster {}: {}'.format(c, topStrings.index[:20].to_list())\n",
    "#     print(df[df.cluster==c].head(20).Title.to_list())"
   ]
  },
  {
   "cell_type": "code",
   "execution_count": 510,
   "metadata": {
    "ExecuteTime": {
     "end_time": "2019-05-30T22:03:53.388851Z",
     "start_time": "2019-05-30T22:03:53.236259Z"
    }
   },
   "outputs": [
    {
     "data": {
      "image/png": "[encoded data removed]",
      "text/plain": [
       "<Figure size 1080x288 with 1 Axes>"
      ]
     },
     "metadata": {
      "needs_background": "light"
     },
     "output_type": "display_data"
    }
   ],
   "source": [
    "ax = df.groupby('cluster').size().plot(kind='bar',figsize=(15,4))\n",
    "_ = plt.xticks(rotation=45)\n",
    "_ = ax.axes.set_xticklabels(clusterNames)"
   ]
  },
  {
   "cell_type": "code",
   "execution_count": 511,
   "metadata": {
    "ExecuteTime": {
     "end_time": "2019-05-30T22:04:01.810366Z",
     "start_time": "2019-05-30T22:04:01.758505Z"
    }
   },
   "outputs": [
    {
     "name": "stdout",
     "output_type": "stream",
     "text": [
      "top titles are\n"
     ]
    },
    {
     "data": {
      "text/plain": [
       "Title\n",
       "Accountant                  328\n",
       "Chief Accountant            219\n",
       "Medical Representative      216\n",
       "Sales Manager               166\n",
       "Administrative Assistant    155\n",
       "dtype: int64"
      ]
     },
     "execution_count": 511,
     "metadata": {},
     "output_type": "execute_result"
    },
    {
     "data": {
      "text/html": [
       "<div>\n",
       "<style scoped>\n",
       "    .dataframe tbody tr th:only-of-type {\n",
       "        vertical-align: middle;\n",
       "    }\n",
       "\n",
       "    .dataframe tbody tr th {\n",
       "        vertical-align: top;\n",
       "    }\n",
       "\n",
       "    .dataframe thead th {\n",
       "        text-align: right;\n",
       "    }\n",
       "</style>\n",
       "<table border=\"1\" class=\"dataframe\">\n",
       "  <thead>\n",
       "    <tr style=\"text-align: right;\">\n",
       "      <th></th>\n",
       "      <th>Title</th>\n",
       "      <th>cluster</th>\n",
       "    </tr>\n",
       "  </thead>\n",
       "  <tbody>\n",
       "    <tr>\n",
       "      <th>6</th>\n",
       "      <td>Chief Accountant/ Finance Assistant</td>\n",
       "      <td>6</td>\n",
       "    </tr>\n",
       "    <tr>\n",
       "      <th>29</th>\n",
       "      <td>Chief Accountant</td>\n",
       "      <td>6</td>\n",
       "    </tr>\n",
       "    <tr>\n",
       "      <th>53</th>\n",
       "      <td>Accountant</td>\n",
       "      <td>6</td>\n",
       "    </tr>\n",
       "    <tr>\n",
       "      <th>74</th>\n",
       "      <td>Accountant</td>\n",
       "      <td>6</td>\n",
       "    </tr>\n",
       "    <tr>\n",
       "      <th>120</th>\n",
       "      <td>Accountant/ Financial Officer</td>\n",
       "      <td>4</td>\n",
       "    </tr>\n",
       "  </tbody>\n",
       "</table>\n",
       "</div>"
      ],
      "text/plain": [
       "                                   Title  cluster\n",
       "6    Chief Accountant/ Finance Assistant        6\n",
       "29                      Chief Accountant        6\n",
       "53                            Accountant        6\n",
       "74                            Accountant        6\n",
       "120        Accountant/ Financial Officer        4"
      ]
     },
     "execution_count": 511,
     "metadata": {},
     "output_type": "execute_result"
    }
   ],
   "source": [
    "print('top titles are')\n",
    "df.groupby(\"Title\").size().sort_values(ascending=False)[:5]\n",
    "\n",
    "df[df.Title.fillna('').str.lower().str.contains('accountant')][cols + ['cluster']].head(5)\n",
    "# df[df.Title == 'Accountant'][cols + ['cluster']].head(5)\n"
   ]
  },
  {
   "cell_type": "markdown",
   "metadata": {},
   "source": [
    "# explain cluster chosen for some samples within the data\n",
    "use lime text explainer"
   ]
  },
  {
   "cell_type": "code",
   "execution_count": 512,
   "metadata": {
    "ExecuteTime": {
     "end_time": "2019-05-30T22:04:06.100911Z",
     "start_time": "2019-05-30T22:04:06.078969Z"
    }
   },
   "outputs": [
    {
     "name": "stdout",
     "output_type": "stream",
     "text": [
      "MultinomialNB(alpha=0.01, class_prior=None, fit_prior=True)\n",
      " train score = 0.977    test score = 0.973\n",
      "\n"
     ]
    }
   ],
   "source": [
    "# can't compute probabilities off kmeans.  use a supervised approach to generate probabilities\n",
    "from sklearn.model_selection import train_test_split\n",
    "X_train, X_test, y_train, y_test = train_test_split(X, y, test_size=0.33, random_state=42)\n",
    "\n",
    "from sklearn.ensemble import RandomForestClassifier\n",
    "from sklearn.naive_bayes import MultinomialNB\n",
    "\n",
    "for clf in [\n",
    "    MultinomialNB(alpha=.01)\n",
    "#     ,RandomForestClassifier(n_estimators=10)\n",
    "]:\n",
    "    _ = clf.fit(X_train,y_train)\n",
    "    print('{}\\n train score = {:.3f}    test score = {:.3f}\\n'.format(\n",
    "        clf\n",
    "        ,clf.score(X_train,y_train)\n",
    "        ,clf.score(X_test,y_test)\n",
    "    ))\n",
    "    "
   ]
  },
  {
   "cell_type": "code",
   "execution_count": 513,
   "metadata": {
    "ExecuteTime": {
     "end_time": "2019-05-30T22:04:17.987174Z",
     "start_time": "2019-05-30T22:04:12.778083Z"
    }
   },
   "outputs": [
    {
     "data": {
      "text/plain": [
       "\"0. Cluster for chief financial officer is (4, 'officer')\""
      ]
     },
     "execution_count": 513,
     "metadata": {},
     "output_type": "execute_result"
    },
    {
     "name": "stdout",
     "output_type": "stream",
     "text": [
      "('officer', -0.4190067788229789)\n",
      "('chief', -0.07079471749567959)\n",
      "('financial', 0.03404587476589352)\n",
      "\n"
     ]
    },
    {
     "data": {
      "text/plain": [
       "\"1. Cluster for full time community connections intern paid internship is (1, 'assistant')\""
      ]
     },
     "execution_count": 513,
     "metadata": {},
     "output_type": "execute_result"
    },
    {
     "name": "stdout",
     "output_type": "stream",
     "text": [
      "('full', 0.0)\n",
      "('time', 0.0)\n",
      "('community', 0.0)\n",
      "\n"
     ]
    },
    {
     "data": {
      "text/plain": [
       "\"2. Cluster for country coordinator is (1, 'assistant')\""
      ]
     },
     "execution_count": 513,
     "metadata": {},
     "output_type": "execute_result"
    },
    {
     "name": "stdout",
     "output_type": "stream",
     "text": [
      "('coordinator', 0.3462776919397144)\n",
      "('country', -0.12157244585187034)\n",
      "\n"
     ]
    },
    {
     "data": {
      "text/plain": [
       "\"3. Cluster for bcc specialist is (5, 'specialist')\""
      ]
     },
     "execution_count": 513,
     "metadata": {},
     "output_type": "execute_result"
    },
    {
     "name": "stdout",
     "output_type": "stream",
     "text": [
      "('specialist', -0.3654413596427356)\n",
      "('bcc', 0.1285300363744355)\n",
      "\n"
     ]
    },
    {
     "data": {
      "text/plain": [
       "\"4. Cluster for software developer is (2, 'developer')\""
      ]
     },
     "execution_count": 513,
     "metadata": {},
     "output_type": "execute_result"
    },
    {
     "name": "stdout",
     "output_type": "stream",
     "text": [
      "('developer', -0.17307467094516393)\n",
      "('software', -0.05282089037936951)\n",
      "\n"
     ]
    },
    {
     "data": {
      "text/plain": [
       "\"5. Cluster for saleswoman is (1, 'assistant')\""
      ]
     },
     "execution_count": 513,
     "metadata": {},
     "output_type": "execute_result"
    },
    {
     "name": "stdout",
     "output_type": "stream",
     "text": [
      "('saleswoman', 0.0)\n",
      "\n"
     ]
    },
    {
     "data": {
      "text/plain": [
       "\"6. Cluster for chief accountant finance assistant is (6, 'accountant')\""
      ]
     },
     "execution_count": 513,
     "metadata": {},
     "output_type": "execute_result"
    },
    {
     "name": "stdout",
     "output_type": "stream",
     "text": [
      "('accountant', -0.5940678533340434)\n",
      "('assistant', 0.11985295783604667)\n",
      "('chief', -0.11251959807735855)\n",
      "\n"
     ]
    },
    {
     "data": {
      "text/plain": [
       "\"7. Cluster for non paid part or full time programmatic intern is (1, 'assistant')\""
      ]
     },
     "execution_count": 513,
     "metadata": {},
     "output_type": "execute_result"
    },
    {
     "name": "stdout",
     "output_type": "stream",
     "text": [
      "('non', 0.0)\n",
      "('paid', 0.0)\n",
      "('part', 0.0)\n",
      "\n"
     ]
    },
    {
     "data": {
      "text/plain": [
       "\"8. Cluster for assistant to managing director is (1, 'assistant')\""
      ]
     },
     "execution_count": 513,
     "metadata": {},
     "output_type": "execute_result"
    },
    {
     "name": "stdout",
     "output_type": "stream",
     "text": [
      "('director', 0.19126895098249286)\n",
      "('assistant', 0.14622123405153223)\n",
      "('to', 0.025016874213424512)\n",
      "\n"
     ]
    },
    {
     "data": {
      "text/plain": [
       "\"9. Cluster for program assistant inl fsn fp is (1, 'assistant')\""
      ]
     },
     "execution_count": 513,
     "metadata": {},
     "output_type": "execute_result"
    },
    {
     "name": "stdout",
     "output_type": "stream",
     "text": [
      "('assistant', 0.22717124134348374)\n",
      "('program', 0.10811739050179554)\n",
      "('inl', 0.012735243032912546)\n",
      "\n"
     ]
    }
   ],
   "source": [
    "from sklearn.pipeline import make_pipeline\n",
    "c = make_pipeline(matrix,clf)\n",
    "\n",
    "from lime.lime_text import LimeTextExplainer\n",
    "explainer = LimeTextExplainer(class_names=np.unique(y))\n",
    "exp = explainer.explain_instance(data[i],c.predict_proba,num_features=1)\n",
    "# ,top_labels=1)\n",
    "# print(exp.available_labels())\n",
    "# exp.show_in_notebook(text=df.Title.iloc[i],labels=(1,))\n",
    "\n",
    "for i in range(10):\n",
    "    exp = explainer.explain_instance(data[i],c.predict_proba,num_features=3)\n",
    "    '{}. Cluster for {} is {}'.format(i,data[i],clusterNames[y[i]])\n",
    "#     print ('Explanation for class %s' % data[i])\n",
    "    print ('\\n'.join(map(str, exp.as_list())))\n",
    "    print ()"
   ]
  },
  {
   "cell_type": "code",
   "execution_count": 544,
   "metadata": {
    "ExecuteTime": {
     "end_time": "2019-05-30T22:17:48.323323Z",
     "start_time": "2019-05-30T22:17:47.435694Z"
    }
   },
   "outputs": [
    {
     "data": {
      "text/plain": [
       "<matplotlib.collections.PathCollection at 0x15e81645240>"
      ]
     },
     "execution_count": 544,
     "metadata": {},
     "output_type": "execute_result"
    },
    {
     "data": {
      "image/png": "[encoded data removed]",
      "text/plain": [
       "<Figure size 864x432 with 1 Axes>"
      ]
     },
     "metadata": {
      "needs_background": "light"
     },
     "output_type": "display_data"
    }
   ],
   "source": [
    "# from sklearn import manifold\n",
    "from sklearn import decomposition\n",
    "\n",
    "numPoints = 1000\n",
    "\n",
    "# dimRed = decomposition.PCA(n_components=2)\n",
    "dimRed = decomposition.TruncatedSVD(n_components=2)\n",
    "# dimRed = manifold.TSNE()\n",
    "Xt = dimRed.fit_transform(X_train)\n",
    "\n",
    "\n",
    "import matplotlib.cm as cm\n",
    "from pylab import rcParams\n",
    "rcParams['figure.figsize'] = 12, 6\n",
    "# myCm = cm.rainbow(np.linspace(0, 1, len(np.linspace(0, 1,len(y_train[:numPoints])))))\n",
    "fig, ax = plt.subplots()\n",
    "ax.scatter(x=Xt[:,0],y=Xt[:,1],c=y_train)\n",
    "# ,label=[clusterNames[i][1] for i in y_train[:numPoints]] )\n",
    "# ax.legend()\n",
    "# ax.grid(True)\n",
    "# plt.show()"
   ]
  }
 ],
 "metadata": {
  "kernelspec": {
   "display_name": "Python 3",
   "language": "python",
   "name": "python3"
  },
  "language_info": {
   "codemirror_mode": {
    "name": "ipython",
    "version": 3
   },
   "file_extension": ".py",
   "mimetype": "text/x-python",
   "name": "python",
   "nbconvert_exporter": "python",
   "pygments_lexer": "ipython3",
   "version": "3.7.3"
  },
  "toc": {
   "base_numbering": 1,
   "nav_menu": {},
   "number_sections": true,
   "sideBar": true,
   "skip_h1_title": false,
   "title_cell": "Table of Contents",
   "title_sidebar": "Contents",
   "toc_cell": false,
   "toc_position": {},
   "toc_section_display": true,
   "toc_window_display": false
  },
  "varInspector": {
   "cols": {
    "lenName": 16,
    "lenType": 16,
    "lenVar": 40
   },
   "kernels_config": {
    "python": {
     "delete_cmd_postfix": "",
     "delete_cmd_prefix": "del ",
     "library": "var_list.py",
     "varRefreshCmd": "print(var_dic_list())"
    },
    "r": {
     "delete_cmd_postfix": ") ",
     "delete_cmd_prefix": "rm(",
     "library": "var_list.r",
     "varRefreshCmd": "cat(var_dic_list()) "
    }
   },
   "position": {
    "height": "548.8px",
    "left": "1272.6px",
    "right": "20px",
    "top": "120px",
    "width": "243.4px"
   },
   "types_to_exclude": [
    "module",
    "function",
    "builtin_function_or_method",
    "instance",
    "_Feature"
   ],
   "window_display": false
  }
 },
 "nbformat": 4,
 "nbformat_minor": 2
}
