{
 "cells": [
  {
   "cell_type": "markdown",
   "metadata": {},
   "source": [
    "#Password Analysis\n",
    "\n",
    "Great article: https://medium.com/policygenius-stories/the-sophisticates-guide-to-passwords-4bb6b5d9ecb5\n",
    "        It states password length trumps complexity.  Short passwords already have hash lookups in rainbow tables.\n",
    "\n",
    "Most common password length: 8 characters.  Special characters seldom used. Commonly used phrases: love, man, wang"
   ]
  },
  {
   "cell_type": "code",
   "execution_count": 1,
   "metadata": {},
   "outputs": [
    {
     "data": {
      "text/html": [
       "<style>.container{ width: 100% !important; }</style>"
      ],
      "text/plain": [
       "<IPython.core.display.HTML object>"
      ]
     },
     "execution_count": 1,
     "metadata": {},
     "output_type": "execute_result"
    }
   ],
   "source": [
    "import numpy as np\n",
    "import pandas as pd\n",
    "%matplotlib inline\n",
    "import matplotlib.pyplot as plt\n",
    "\n",
    "pd.set_option('display.max_columns', 10)\n",
    "pd.set_option('display.width', 500)\n",
    "pd.set_option('display.max_rows', 75)\n",
    "pd.options.mode.chained_assignment = None     # default='warn'\n",
    "\n",
    "from IPython.core.interactiveshell import InteractiveShell\n",
    "InteractiveShell.ast_node_interactivity = \"all\"\n",
    "\n",
    "# make width of notebook track with width of browser window\n",
    "from IPython.core.display import HTML\n",
    "HTML(\"<style>.container{ width: 100% !important; }</style>\")"
   ]
  },
  {
   "cell_type": "code",
   "execution_count": 2,
   "metadata": {},
   "outputs": [
    {
     "name": "stdout",
     "output_type": "stream",
     "text": [
      "passwords =  2,151,220 \n",
      "dups =  399 \n",
      "totalCharacters =  18011567\n",
      "Wall time: 2.38 s\n"
     ]
    }
   ],
   "source": [
    "%%time\n",
    "# df = pd.read_table('http://datashaping.com/passwords.txt',skiprows=16,names=('A'),quoting=3)  # nrows=10\n",
    "df = pd.read_csv('pwAnalysis.csv',usecols=['A'])\n",
    "# df.A[df.A.str.len()>50] # should return nothing\n",
    "# df.to_csv('pwAnalysis.csv')\n",
    "# df.info()\n",
    "\n",
    "totalChar=len(df.A.str.cat())\n",
    "print('passwords = ',\"{:,}\".format(df.A.size)\n",
    "      ,'\\ndups = ',df.A.size - df.A.unique().size\n",
    "      ,'\\ntotalCharacters = ',totalChar)"
   ]
  },
  {
   "cell_type": "code",
   "execution_count": 323,
   "metadata": {},
   "outputs": [
    {
     "name": "stdout",
     "output_type": "stream",
     "text": [
      "people use  windows 0.013574%  of the time\n"
     ]
    },
    {
     "data": {
      "text/plain": [
       "'windows1|Windows98++|windows|windows03|Windows7|windowssever23|windows1985|windows2k|windows10|windows11|windowsaa|windows789|windowsa|WINDOWS123|windows7|windowshopper|windows1991|windows2006|windowsill4|windowstkm|Windowsxp|windowsucdosa|Windows2004|windowsmonster|windowsxp2'"
      ]
     },
     "execution_count": 323,
     "metadata": {},
     "output_type": "execute_result"
    }
   ],
   "source": [
    "#how many contain certain string\n",
    "s = 'windows'\n",
    "print('people use ',s,\n",
    "      \"{:%}\".format(df[df['A'].str.lower().str.match(s,na=False)].size / df.size),' of the time')\n",
    "\n",
    "df[df['A'].str.lower().str.match(s,na=False)].A.head(25).str.cat(sep='|')"
   ]
  },
  {
   "cell_type": "code",
   "execution_count": 275,
   "metadata": {},
   "outputs": [
    {
     "data": {
      "text/html": [
       "<div>\n",
       "<style>\n",
       "    .dataframe thead tr:only-child th {\n",
       "        text-align: right;\n",
       "    }\n",
       "\n",
       "    .dataframe thead th {\n",
       "        text-align: left;\n",
       "    }\n",
       "\n",
       "    .dataframe tbody tr th {\n",
       "        vertical-align: top;\n",
       "    }\n",
       "</style>\n",
       "<table border=\"1\" class=\"dataframe\">\n",
       "  <thead>\n",
       "    <tr style=\"text-align: right;\">\n",
       "      <th></th>\n",
       "      <th>char</th>\n",
       "      <th>freq</th>\n",
       "      <th>occurence</th>\n",
       "    </tr>\n",
       "  </thead>\n",
       "  <tbody>\n",
       "    <tr>\n",
       "      <th>7</th>\n",
       "      <td>123</td>\n",
       "      <td>11887</td>\n",
       "      <td>0.005526</td>\n",
       "    </tr>\n",
       "    <tr>\n",
       "      <th>3</th>\n",
       "      <td>wang</td>\n",
       "      <td>5135</td>\n",
       "      <td>0.002387</td>\n",
       "    </tr>\n",
       "    <tr>\n",
       "      <th>0</th>\n",
       "      <td>love</td>\n",
       "      <td>4739</td>\n",
       "      <td>0.002203</td>\n",
       "    </tr>\n",
       "    <tr>\n",
       "      <th>2</th>\n",
       "      <td>man</td>\n",
       "      <td>3623</td>\n",
       "      <td>0.001684</td>\n",
       "    </tr>\n",
       "    <tr>\n",
       "      <th>6</th>\n",
       "      <td>and</td>\n",
       "      <td>2429</td>\n",
       "      <td>0.001129</td>\n",
       "    </tr>\n",
       "    <tr>\n",
       "      <th>1</th>\n",
       "      <td>pass</td>\n",
       "      <td>1812</td>\n",
       "      <td>0.000842</td>\n",
       "    </tr>\n",
       "    <tr>\n",
       "      <th>4</th>\n",
       "      <td>dragon</td>\n",
       "      <td>648</td>\n",
       "      <td>0.000301</td>\n",
       "    </tr>\n",
       "    <tr>\n",
       "      <th>5</th>\n",
       "      <td>zzzz</td>\n",
       "      <td>112</td>\n",
       "      <td>0.000052</td>\n",
       "    </tr>\n",
       "  </tbody>\n",
       "</table>\n",
       "</div>"
      ],
      "text/plain": [
       "     char   freq  occurence\n",
       "7     123  11887   0.005526\n",
       "3    wang   5135   0.002387\n",
       "0    love   4739   0.002203\n",
       "2     man   3623   0.001684\n",
       "6     and   2429   0.001129\n",
       "1    pass   1812   0.000842\n",
       "4  dragon    648   0.000301\n",
       "5    zzzz    112   0.000052"
      ]
     },
     "execution_count": 275,
     "metadata": {},
     "output_type": "execute_result"
    }
   ],
   "source": [
    "df5 = pd.DataFrame({'char':['love','pass','man','wang','dragon','zzzz','and','123']})\n",
    "df5['freq']= df5.char.apply(lambda ch: df[df.A.str.lower().str.match(ch.lower(),na=False)].size)\n",
    "df5['occurence']= df5.char.apply(lambda ch: df[df.A.str.lower().str.match(ch.lower(),na=False)].size / df.size)\n",
    "df5.sort_values(by='occurence',ascending=False)"
   ]
  },
  {
   "cell_type": "code",
   "execution_count": 33,
   "metadata": {},
   "outputs": [
    {
     "name": "stdout",
     "output_type": "stream",
     "text": [
      "most common length:  8.0 characters\n"
     ]
    },
    {
     "data": {
      "image/png": "[encoded data removed]",
      "text/plain": [
       "<matplotlib.figure.Figure at 0xa62ed68>"
      ]
     },
     "metadata": {},
     "output_type": "display_data"
    }
   ],
   "source": [
    "df['pwlength']=df.A.str.len()\n",
    "pp = df['pwlength'].hist()\n",
    "z = pp.set_xlabel(\"Character Length\")\n",
    "z = pp.set_ylabel(\"Passwords\")\n",
    "print('most common length: ',df['pwlength'].mode().max(), 'characters')"
   ]
  },
  {
   "cell_type": "code",
   "execution_count": 34,
   "metadata": {
    "scrolled": true
   },
   "outputs": [
    {
     "name": "stdout",
     "output_type": "stream",
     "text": [
      "people use special characters  3.104471% of the time\n"
     ]
    }
   ],
   "source": [
    "# how often are special case used?\n",
    "df['specialChar']=df.A.apply(lambda s: not str(s).isalnum())\n",
    "# df.A[df['specialChar']==True].head(50).str.cat(sep='|')  # print some passwords containing special characters\n",
    "print('people use special characters ', \"{:%}\".format(df.A[df['specialChar']==True].size / df.A.size),'of the time')"
   ]
  },
  {
   "cell_type": "code",
   "execution_count": 90,
   "metadata": {},
   "outputs": [
    {
     "data": {
      "text/html": [
       "<div>\n",
       "<style>\n",
       "    .dataframe thead tr:only-child th {\n",
       "        text-align: right;\n",
       "    }\n",
       "\n",
       "    .dataframe thead th {\n",
       "        text-align: left;\n",
       "    }\n",
       "\n",
       "    .dataframe tbody tr th {\n",
       "        vertical-align: top;\n",
       "    }\n",
       "</style>\n",
       "<table border=\"1\" class=\"dataframe\">\n",
       "  <thead>\n",
       "    <tr style=\"text-align: right;\">\n",
       "      <th></th>\n",
       "      <th>char</th>\n",
       "      <th>occurence</th>\n",
       "    </tr>\n",
       "  </thead>\n",
       "  <tbody>\n",
       "    <tr>\n",
       "      <th>0</th>\n",
       "      <td>a</td>\n",
       "      <td>0.059467</td>\n",
       "    </tr>\n",
       "    <tr>\n",
       "      <th>1</th>\n",
       "      <td>e</td>\n",
       "      <td>0.045304</td>\n",
       "    </tr>\n",
       "    <tr>\n",
       "      <th>2</th>\n",
       "      <td>i</td>\n",
       "      <td>0.040045</td>\n",
       "    </tr>\n",
       "  </tbody>\n",
       "</table>\n",
       "</div>"
      ],
      "text/plain": [
       "  char  occurence\n",
       "0    a   0.059467\n",
       "1    e   0.045304\n",
       "2    i   0.040045"
      ]
     },
     "execution_count": 90,
     "metadata": {},
     "output_type": "execute_result"
    }
   ],
   "source": [
    "# what alpha character is most often used?\n",
    "import nltk\n",
    "\n",
    "def printMostCommon(n):\n",
    "    df2 = pd.DataFrame(fdist.most_common(n))\n",
    "    df2.columns = ['char','freq']\n",
    "    df2['occurence']= df2.freq / len(df.A.str.cat()) \n",
    "    return df2\n",
    "    \n",
    "fdist = nltk.FreqDist(ch.lower() for ch in df.A.str.cat() if ch.isalpha())\n",
    "printMostCommon(3)[['char','occurence']]"
   ]
  },
  {
   "cell_type": "code",
   "execution_count": 96,
   "metadata": {},
   "outputs": [
    {
     "name": "stdout",
     "output_type": "stream",
     "text": [
      "char  occurence\n",
      "  1   0.070659\n",
      "  0   0.055075\n",
      "  2   0.052167\n",
      "  3   0.040011\n",
      "  8   0.039114\n",
      "  9   0.037986\n",
      "  5   0.036266\n",
      "  6   0.033089\n",
      "  7   0.031876\n",
      "  4   0.031412\n"
     ]
    }
   ],
   "source": [
    "#most common digits\n",
    "fdist = nltk.FreqDist(ch.lower() for ch in df.A.str.cat() if ch.isdigit())\n",
    "print(printMostCommon(10)[['char','occurence']].to_string(index=False))\n",
    "# df2.loc[:,['char','freq']"
   ]
  },
  {
   "cell_type": "code",
   "execution_count": 93,
   "metadata": {},
   "outputs": [
    {
     "data": {
      "text/html": [
       "<div>\n",
       "<style>\n",
       "    .dataframe thead tr:only-child th {\n",
       "        text-align: right;\n",
       "    }\n",
       "\n",
       "    .dataframe thead th {\n",
       "        text-align: left;\n",
       "    }\n",
       "\n",
       "    .dataframe tbody tr th {\n",
       "        vertical-align: top;\n",
       "    }\n",
       "</style>\n",
       "<table border=\"1\" class=\"dataframe\">\n",
       "  <thead>\n",
       "    <tr style=\"text-align: right;\">\n",
       "      <th></th>\n",
       "      <th>char</th>\n",
       "      <th>occurence</th>\n",
       "    </tr>\n",
       "  </thead>\n",
       "  <tbody>\n",
       "    <tr>\n",
       "      <th>0</th>\n",
       "      <td>.</td>\n",
       "      <td>0.001021</td>\n",
       "    </tr>\n",
       "    <tr>\n",
       "      <th>1</th>\n",
       "      <td>@</td>\n",
       "      <td>0.000675</td>\n",
       "    </tr>\n",
       "    <tr>\n",
       "      <th>2</th>\n",
       "      <td>!</td>\n",
       "      <td>0.000595</td>\n",
       "    </tr>\n",
       "    <tr>\n",
       "      <th>3</th>\n",
       "      <td>-</td>\n",
       "      <td>0.000428</td>\n",
       "    </tr>\n",
       "    <tr>\n",
       "      <th>4</th>\n",
       "      <td>_</td>\n",
       "      <td>0.000423</td>\n",
       "    </tr>\n",
       "    <tr>\n",
       "      <th>5</th>\n",
       "      <td>*</td>\n",
       "      <td>0.000357</td>\n",
       "    </tr>\n",
       "    <tr>\n",
       "      <th>6</th>\n",
       "      <td>#</td>\n",
       "      <td>0.000260</td>\n",
       "    </tr>\n",
       "    <tr>\n",
       "      <th>7</th>\n",
       "      <td></td>\n",
       "      <td>0.000232</td>\n",
       "    </tr>\n",
       "  </tbody>\n",
       "</table>\n",
       "</div>"
      ],
      "text/plain": [
       "  char  occurence\n",
       "0    .   0.001021\n",
       "1    @   0.000675\n",
       "2    !   0.000595\n",
       "3    -   0.000428\n",
       "4    _   0.000423\n",
       "5    *   0.000357\n",
       "6    #   0.000260\n",
       "7        0.000232"
      ]
     },
     "execution_count": 93,
     "metadata": {},
     "output_type": "execute_result"
    }
   ],
   "source": [
    "#most common special character\n",
    "fdist = nltk.FreqDist(ch.lower() for ch in df.A.str.cat() if not ch.isalnum())\n",
    "printMostCommon(8)[['char','occurence']]"
   ]
  },
  {
   "cell_type": "code",
   "execution_count": 60,
   "metadata": {
    "collapsed": true
   },
   "outputs": [],
   "source": [
    "import datetime\n",
    "\n",
    "def printTimeDuration (msg):\n",
    "    global dtStart, dtLast\n",
    "    dtNow = datetime.datetime.now()\n",
    "    cumDelta = dtNow - dtStart\n",
    "    curDelta = dtNow - dtLast\n",
    "    \n",
    "    hours, remainder = divmod(curDelta.seconds, 3600)\n",
    "    minutes, seconds = divmod(remainder, 60)\n",
    "\n",
    "    cumHours, cumRemainder = divmod(cumDelta.seconds, 3600)\n",
    "    cumMinutes, cumSeconds = divmod(cumRemainder, 60)\n",
    "    \n",
    "    print(msg,'incr:','%s:%s:%s' % (hours, minutes, seconds),'ttl:','%s:%s:%s' % (cumHours, cumMinutes, cumSeconds))\n",
    "    dtLast = dtNow"
   ]
  },
  {
   "cell_type": "code",
   "execution_count": 351,
   "metadata": {},
   "outputs": [
    {
     "name": "stdout",
     "output_type": "stream",
     "text": [
      "records= 306\n",
      " "
     ]
    }
   ],
   "source": [
    "%%prun\n",
    "# what character combo is most often used?\n",
    "\n",
    "import re\n",
    "import math\n",
    "from collections import Counter\n",
    "\n",
    "def mostCommonStrings(charLen,cnt):\n",
    "    s=df.A.head(10000).str.cat()\n",
    "#     s=df.A.str.cat()\n",
    "\n",
    "    t = len(s) - (charLen - 1)\n",
    "    for i in range(t):\n",
    "        char = s[i:i+charLen]               # a sequence of characters being considered\n",
    "        allAlpha = True\n",
    "        for j in range(charLen):\n",
    "            if not char[j].isalpha():\n",
    "                allAlpha = False\n",
    "                break\n",
    "        if allAlpha:\n",
    "            numFound = len(re.findall(char,s))\n",
    "            if numFound>8 and not cnt[char]:\n",
    "                cnt[char] += numFound\n",
    "\n",
    "    printTimeDuration('charLen'+str(charLen))\n",
    "    return cnt\n",
    "\n",
    "# for timing\n",
    "dtStart = datetime.datetime.now()\n",
    "dtLast = dtStart\n",
    "printTimeDuration('start')\n",
    "    \n",
    "cnt = Counter()\n",
    "for i in range(4,9):\n",
    "    cnt = mostCommonStrings(i,cnt)\n",
    "\n",
    "df3 = pd.DataFrame.from_dict(cnt, orient='index').reset_index()\n",
    "if df3.columns.size==2:\n",
    "    df3.columns = ['char','freq']\n",
    "    #df3['freq']=df3.freq.apply(lambda x: math.sqrt(x))\n",
    "    df3['charLen']=df3.char.apply(lambda str: len(str))\n",
    "print('records=',df3.size)"
   ]
  },
  {
   "cell_type": "code",
   "execution_count": 324,
   "metadata": {},
   "outputs": [
    {
     "data": {
      "text/plain": [
       "574"
      ]
     },
     "execution_count": 324,
     "metadata": {},
     "output_type": "execute_result"
    },
    {
     "data": {
      "text/plain": [
       "168"
      ]
     },
     "execution_count": 324,
     "metadata": {},
     "output_type": "execute_result"
    }
   ],
   "source": [
    "# df2.drop(df.index, inplace=True)\n",
    "# df2 = df2.iloc[0:0].copy()\n",
    "cnt['love']"
   ]
  },
  {
   "cell_type": "code",
   "execution_count": null,
   "metadata": {},
   "outputs": [],
   "source": [
    "# df3[df3.charLen==8].sort_values('freq',ascending=False).head(25)\n",
    "#remove those found with higher frequency\n",
    "#add column if found in english\n",
    "\n",
    "# df4 = df3.copy()\n",
    "# df4.sort_values('freq',ascending=False).head(10)\n",
    "# df4.to_csv('pwpatterns.csv')\n",
    "# df4 = pd.read_csv('pwpatterns.csv',usecols=['char','freq','charLen'])\n"
   ]
  },
  {
   "cell_type": "code",
   "execution_count": 339,
   "metadata": {},
   "outputs": [
    {
     "data": {
      "text/plain": [
       "6"
      ]
     },
     "execution_count": 339,
     "metadata": {},
     "output_type": "execute_result"
    }
   ],
   "source": [
    "s=df.A.head(10000).str.cat()\n",
    "len(re.findall('gun',s))"
   ]
  },
  {
   "cell_type": "code",
   "execution_count": 335,
   "metadata": {},
   "outputs": [
    {
     "data": {
      "text/plain": [
       "0.02321091773969472"
      ]
     },
     "execution_count": 335,
     "metadata": {},
     "output_type": "execute_result"
    }
   ],
   "source": [
    "len(df.A.head(50000).str.cat()) /  len(df.A.str.cat())"
   ]
  },
  {
   "cell_type": "code",
   "execution_count": 66,
   "metadata": {},
   "outputs": [
    {
     "name": "stdout",
     "output_type": "stream",
     "text": [
      "finished\n"
     ]
    }
   ],
   "source": [
    "df4['small']=False\n",
    "\n",
    "# for timing\n",
    "# dtStart = datetime.datetime.now()\n",
    "# dtLast = dtStart\n",
    "# printTimeDuration('start')\n",
    "\n",
    "#cols 0..:0 char, 1 freq, 2 charLen, 3 small\n",
    "# for i in df4.index:\n",
    "#     if i % 100 == 0: printTimeDuration(i)  \n",
    "#     charLen = df4.iat[i,2]\n",
    "#     for j in df4.index:\n",
    "#         if df4.iat[j,0][0:charLen] == df4.iat[i,0] and df4.iat[j,2] > charLen:\n",
    "#             df4.iat[i,3]=True\n",
    "\n",
    "# df4[df4.char=='acces']\n",
    "# df4[df4.char=='access']\n",
    "\n",
    "# df4.sort_values('char',ascending=True).head(100)\n",
    "print('finished')"
   ]
  },
  {
   "cell_type": "code",
   "execution_count": null,
   "metadata": {},
   "outputs": [],
   "source": [
    "2+4"
   ]
  },
  {
   "cell_type": "code",
   "execution_count": 49,
   "metadata": {},
   "outputs": [
    {
     "data": {
      "text/plain": [
       "True"
      ]
     },
     "execution_count": 49,
     "metadata": {},
     "output_type": "execute_result"
    },
    {
     "data": {
      "text/plain": [
       "char       acces\n",
       "freq           9\n",
       "charLen        5\n",
       "small       True\n",
       "Name: 6892, dtype: object"
      ]
     },
     "execution_count": 49,
     "metadata": {},
     "output_type": "execute_result"
    },
    {
     "data": {
      "text/html": [
       "<div>\n",
       "<style>\n",
       "    .dataframe thead tr:only-child th {\n",
       "        text-align: right;\n",
       "    }\n",
       "\n",
       "    .dataframe thead th {\n",
       "        text-align: left;\n",
       "    }\n",
       "\n",
       "    .dataframe tbody tr th {\n",
       "        vertical-align: top;\n",
       "    }\n",
       "</style>\n",
       "<table border=\"1\" class=\"dataframe\">\n",
       "  <thead>\n",
       "    <tr style=\"text-align: right;\">\n",
       "      <th></th>\n",
       "      <th>char</th>\n",
       "      <th>freq</th>\n",
       "      <th>charLen</th>\n",
       "      <th>small</th>\n",
       "    </tr>\n",
       "  </thead>\n",
       "  <tbody>\n",
       "    <tr>\n",
       "      <th>6892</th>\n",
       "      <td>acces</td>\n",
       "      <td>9</td>\n",
       "      <td>5</td>\n",
       "      <td>True</td>\n",
       "    </tr>\n",
       "  </tbody>\n",
       "</table>\n",
       "</div>"
      ],
      "text/plain": [
       "       char  freq  charLen  small\n",
       "6892  acces     9        5   True"
      ]
     },
     "execution_count": 49,
     "metadata": {},
     "output_type": "execute_result"
    }
   ],
   "source": [
    "#cols 0..:0 char, 1 freq, 2 charLen, 3 small\n",
    "# df4.iat[6892,3]\n",
    "# df4.iloc[6892]\n",
    "# df4[df4.char=='acces']\n"
   ]
  }
 ],
 "metadata": {
  "kernelspec": {
   "display_name": "Python 3",
   "language": "python",
   "name": "python3"
  },
  "language_info": {
   "codemirror_mode": {
    "name": "ipython",
    "version": 3
   },
   "file_extension": ".py",
   "mimetype": "text/x-python",
   "name": "python",
   "nbconvert_exporter": "python",
   "pygments_lexer": "ipython3",
   "version": "3.6.1"
  }
 },
 "nbformat": 4,
 "nbformat_minor": 2
}
