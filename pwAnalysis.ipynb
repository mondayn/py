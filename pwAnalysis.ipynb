{
 "cells": [
  {
   "cell_type": "markdown",
   "metadata": {},
   "source": [
    "#Password Analysis\n",
    "\n",
    "Great article: https://medium.com/policygenius-stories/the-sophisticates-guide-to-passwords-4bb6b5d9ecb5\n",
    "        It states password length trumps complexity.  Short passwords already have hash lookups in rainbow tables.\n",
    "\n",
    "Most common password length: 8 characters.  Special characters seldom used. Commonly used phrases: love, man, wang"
   ]
  },
  {
   "cell_type": "code",
   "execution_count": 45,
   "metadata": {},
   "outputs": [
    {
     "data": {
      "text/html": [
       "<style>.container{ width: 100% !important; }</style>"
      ],
      "text/plain": [
       "<IPython.core.display.HTML object>"
      ]
     },
     "execution_count": 45,
     "metadata": {},
     "output_type": "execute_result"
    }
   ],
   "source": [
    "import numpy as np\n",
    "import pandas as pd\n",
    "%matplotlib inline\n",
    "import matplotlib.pyplot as plt\n",
    "\n",
    "pd.set_option('display.max_columns', 10)\n",
    "pd.set_option('display.width', 500)\n",
    "pd.set_option('display.max_rows', 75)\n",
    "pd.options.mode.chained_assignment = None     # default='warn'\n",
    "\n",
    "from IPython.core.interactiveshell import InteractiveShell\n",
    "InteractiveShell.ast_node_interactivity = \"all\"\n",
    "\n",
    "# make width of notebook track with width of browser window\n",
    "from IPython.core.display import HTML\n",
    "HTML(\"<style>.container{ width: 100% !important; }</style>\")"
   ]
  },
  {
   "cell_type": "code",
   "execution_count": 2,
   "metadata": {},
   "outputs": [
    {
     "name": "stdout",
     "output_type": "stream",
     "text": [
      "rows =  2,151,220 \n",
      " dups =  399\n",
      "Wall time: 1.98 s\n"
     ]
    }
   ],
   "source": [
    "%%time\n",
    "# df = pd.read_table('http://datashaping.com/passwords.txt',skiprows=16,names=('A'),quoting=3)  # nrows=10\n",
    "df = pd.read_csv('pwAnalysis.csv',usecols=['A'])\n",
    "# df.A[df.A.str.len()>50] # should return nothing\n",
    "# df.to_csv('pwAnalysis.csv')\n",
    "# df.info()\n",
    "print('rows = ',\"{:,}\".format(df.A.size),'\\n','dups = ',df.A.size - df.A.unique().size)"
   ]
  },
  {
   "cell_type": "code",
   "execution_count": 81,
   "metadata": {},
   "outputs": [
    {
     "name": "stdout",
     "output_type": "stream",
     "text": [
      "people use  pass 0.084231%  of the time\n"
     ]
    },
    {
     "data": {
      "text/plain": [
       "'passme|pass6789|passw<>|passwort24|password@123|pass1990|password-1|passtoefl|passat37|passat12|passwordjoy?|pass2727|pass2431|pass66|passmedearbook|pass4pulse|Passat|password321|passwdCas|password301415|pass9033|passactuel|pass`123|passat10|passcode1013|password4632383|passorde|PASSMASS|passat81|password/|passmaniru|passat21|passwordancoramoltosemplice|pass=0|pass234|Passw0rd99|pass1970|password00|password82|pass321|pass14|Pass123.|passphrase|passwordla|Passion76|passpo10|passwords12|passed|passwordis|PASS123456789'"
      ]
     },
     "execution_count": 81,
     "metadata": {},
     "output_type": "execute_result"
    }
   ],
   "source": [
    "#how many contain certain string\n",
    "s = 'pass'\n",
    "print('people use ',s,\n",
    "      \"{:%}\".format(df[df['A'].str.lower().str.match(s,na=False)].size / df.size),' of the time')\n",
    "df[df['A'].str.lower().str.match(s,na=False)].A.head(50).str.cat(sep='|')"
   ]
  },
  {
   "cell_type": "code",
   "execution_count": 82,
   "metadata": {},
   "outputs": [
    {
     "data": {
      "text/html": [
       "<div>\n",
       "<style>\n",
       "    .dataframe thead tr:only-child th {\n",
       "        text-align: right;\n",
       "    }\n",
       "\n",
       "    .dataframe thead th {\n",
       "        text-align: left;\n",
       "    }\n",
       "\n",
       "    .dataframe tbody tr th {\n",
       "        vertical-align: top;\n",
       "    }\n",
       "</style>\n",
       "<table border=\"1\" class=\"dataframe\">\n",
       "  <thead>\n",
       "    <tr style=\"text-align: right;\">\n",
       "      <th></th>\n",
       "      <th>char</th>\n",
       "      <th>occurence</th>\n",
       "    </tr>\n",
       "  </thead>\n",
       "  <tbody>\n",
       "    <tr>\n",
       "      <th>7</th>\n",
       "      <td>123</td>\n",
       "      <td>0.005526</td>\n",
       "    </tr>\n",
       "    <tr>\n",
       "      <th>3</th>\n",
       "      <td>wang</td>\n",
       "      <td>0.002387</td>\n",
       "    </tr>\n",
       "    <tr>\n",
       "      <th>0</th>\n",
       "      <td>love</td>\n",
       "      <td>0.002203</td>\n",
       "    </tr>\n",
       "    <tr>\n",
       "      <th>2</th>\n",
       "      <td>man</td>\n",
       "      <td>0.001684</td>\n",
       "    </tr>\n",
       "    <tr>\n",
       "      <th>6</th>\n",
       "      <td>and</td>\n",
       "      <td>0.001129</td>\n",
       "    </tr>\n",
       "    <tr>\n",
       "      <th>1</th>\n",
       "      <td>pass</td>\n",
       "      <td>0.000842</td>\n",
       "    </tr>\n",
       "    <tr>\n",
       "      <th>4</th>\n",
       "      <td>dragon</td>\n",
       "      <td>0.000301</td>\n",
       "    </tr>\n",
       "    <tr>\n",
       "      <th>5</th>\n",
       "      <td>zzzz</td>\n",
       "      <td>0.000052</td>\n",
       "    </tr>\n",
       "  </tbody>\n",
       "</table>\n",
       "</div>"
      ],
      "text/plain": [
       "     char  occurence\n",
       "7     123   0.005526\n",
       "3    wang   0.002387\n",
       "0    love   0.002203\n",
       "2     man   0.001684\n",
       "6     and   0.001129\n",
       "1    pass   0.000842\n",
       "4  dragon   0.000301\n",
       "5    zzzz   0.000052"
      ]
     },
     "execution_count": 82,
     "metadata": {},
     "output_type": "execute_result"
    }
   ],
   "source": [
    "df5 = pd.DataFrame({'char':['love','pass','man','wang','dragon','zzzz','and','123']})\n",
    "df5['occurence']= df5.char.apply(lambda ch: df[df.A.str.lower().str.match(ch.lower(),na=False)].size / df.size)\n",
    "df5.sort_values(by='occurence',ascending=False)"
   ]
  },
  {
   "cell_type": "code",
   "execution_count": 33,
   "metadata": {},
   "outputs": [
    {
     "name": "stdout",
     "output_type": "stream",
     "text": [
      "most common length:  8.0 characters\n"
     ]
    },
    {
     "data": {
      "image/png": "[encoded data removed]",
      "text/plain": [
       "<matplotlib.figure.Figure at 0xa62ed68>"
      ]
     },
     "metadata": {},
     "output_type": "display_data"
    }
   ],
   "source": [
    "df['pwlength']=df.A.str.len()\n",
    "pp = df['pwlength'].hist()\n",
    "z = pp.set_xlabel(\"Character Length\")\n",
    "z = pp.set_ylabel(\"Passwords\")\n",
    "print('most common length: ',df['pwlength'].mode().max(), 'characters')"
   ]
  },
  {
   "cell_type": "code",
   "execution_count": 34,
   "metadata": {
    "scrolled": true
   },
   "outputs": [
    {
     "name": "stdout",
     "output_type": "stream",
     "text": [
      "people use special characters  3.104471% of the time\n"
     ]
    }
   ],
   "source": [
    "# how often are special case used?\n",
    "df['specialChar']=df.A.apply(lambda s: not str(s).isalnum())\n",
    "# df.A[df['specialChar']==True].head(50).str.cat(sep='|')  # print some passwords containing special characters\n",
    "print('people use special characters ', \"{:%}\".format(df.A[df['specialChar']==True].size / df.A.size),'of the time')"
   ]
  },
  {
   "cell_type": "code",
   "execution_count": 75,
   "metadata": {},
   "outputs": [
    {
     "data": {
      "text/html": [
       "<div>\n",
       "<style>\n",
       "    .dataframe thead tr:only-child th {\n",
       "        text-align: right;\n",
       "    }\n",
       "\n",
       "    .dataframe thead th {\n",
       "        text-align: left;\n",
       "    }\n",
       "\n",
       "    .dataframe tbody tr th {\n",
       "        vertical-align: top;\n",
       "    }\n",
       "</style>\n",
       "<table border=\"1\" class=\"dataframe\">\n",
       "  <thead>\n",
       "    <tr style=\"text-align: right;\">\n",
       "      <th></th>\n",
       "      <th>freq</th>\n",
       "      <th>occurence</th>\n",
       "    </tr>\n",
       "  </thead>\n",
       "  <tbody>\n",
       "    <tr>\n",
       "      <th>0</th>\n",
       "      <td>1071085</td>\n",
       "      <td>0.059467</td>\n",
       "    </tr>\n",
       "    <tr>\n",
       "      <th>1</th>\n",
       "      <td>815992</td>\n",
       "      <td>0.045304</td>\n",
       "    </tr>\n",
       "    <tr>\n",
       "      <th>2</th>\n",
       "      <td>721275</td>\n",
       "      <td>0.040045</td>\n",
       "    </tr>\n",
       "  </tbody>\n",
       "</table>\n",
       "</div>"
      ],
      "text/plain": [
       "      freq  occurence\n",
       "0  1071085   0.059467\n",
       "1   815992   0.045304\n",
       "2   721275   0.040045"
      ]
     },
     "execution_count": 75,
     "metadata": {},
     "output_type": "execute_result"
    }
   ],
   "source": [
    "# what alpha character is most often used?\n",
    "import nltk\n",
    "\n",
    "def printMostCommon(n):\n",
    "    df2 = pd.DataFrame(fdist.most_common(n))\n",
    "    df2.columns = ['char','freq']\n",
    "    df2['occurence']= df2.freq / len(df.A.str.cat()) \n",
    "#     print(df2)\n",
    "    return df2\n",
    "    \n",
    "fdist = nltk.FreqDist(ch.lower() for ch in df.A.str.cat() if ch.isalpha())\n",
    "printMostCommon(3)[['freq','occurence']]"
   ]
  },
  {
   "cell_type": "code",
   "execution_count": null,
   "metadata": {},
   "outputs": [],
   "source": [
    "#most common digits\n",
    "fdist = nltk.FreqDist(ch.lower() for ch in df.A.str.cat() if ch.isdigit())\n",
    "printMostCommon(3)\n",
    "# df2.loc[:,['char','freq']"
   ]
  },
  {
   "cell_type": "code",
   "execution_count": 59,
   "metadata": {},
   "outputs": [
    {
     "name": "stdout",
     "output_type": "stream",
     "text": [
      "  char   freq  occurence\n",
      "0    .  18397   0.001021\n",
      "1    @  12159   0.000675\n",
      "2    !  10708   0.000595\n",
      "3    -   7715   0.000428\n",
      "4    _   7627   0.000423\n",
      "5    *   6432   0.000357\n",
      "6    #   4684   0.000260\n",
      "7        4173   0.000232\n"
     ]
    }
   ],
   "source": [
    "#most common special character\n",
    "fdist = nltk.FreqDist(ch.lower() for ch in df.A.str.cat() if not ch.isalnum())\n",
    "df2 = printMostCommon(8)\n",
    "# print('special characters are used ',df2.freq.sum()/df.size,'of the time')\n"
   ]
  },
  {
   "cell_type": "code",
   "execution_count": 23,
   "metadata": {},
   "outputs": [
    {
     "name": "stdout",
     "output_type": "stream",
     "text": [
      "charLen  3  returning\n",
      "charLen  4  returning\n",
      "charLen  5  returning\n",
      "charLen  6  returning\n",
      "charLen  7  returning\n",
      "charLen  8  returning\n",
      "records= 30\n",
      "Wall time: 46min 20s\n"
     ]
    }
   ],
   "source": [
    "%%time\n",
    "# %%time  #must be first in cell\n",
    "# what character combo is most often used?\n",
    "\n",
    "# import re\n",
    "from collections import Counter\n",
    "\n",
    "def mostCommonStrings(charLen):\n",
    "    cnt = Counter()\n",
    "    s=df.A.head(10000).str.cat()\n",
    "#     s=df.A.str.cat()\n",
    "\n",
    "    t = len(s) - (charLen - 1)\n",
    "    for i in range(t):\n",
    "        if not s[i:i+charLen].isdigit():\n",
    "            cnt[s[i:i+charLen]] += 1\n",
    "        df2 = pd.DataFrame(cnt.most_common(5))\n",
    "        df2['chrLen'] = charLen\n",
    "        # df2['chrLen']=df2.characters.apply(lambda str: len(str))\n",
    "    print('charLen ',charLen,' returning')\n",
    "    return df2[df2.iloc[:,1] > 4] #min threshold 4 occurences\n",
    "\n",
    "\n",
    "df3 = pd.DataFrame()\n",
    "for i in range(3,9):\n",
    "    try:\n",
    "        df3 = df3.append(mostCommonStrings(i),ignore_index=True)\n",
    "    except:\n",
    "        df3 = mostCommonStrings(i)\n",
    "\n",
    "df3.columns = ['char','freq','chrLen']\n",
    "print('records=',df3.index.size)"
   ]
  },
  {
   "cell_type": "code",
   "execution_count": 29,
   "metadata": {},
   "outputs": [
    {
     "data": {
      "text/html": [
       "<div>\n",
       "<style>\n",
       "    .dataframe thead tr:only-child th {\n",
       "        text-align: right;\n",
       "    }\n",
       "\n",
       "    .dataframe thead th {\n",
       "        text-align: left;\n",
       "    }\n",
       "\n",
       "    .dataframe tbody tr th {\n",
       "        vertical-align: top;\n",
       "    }\n",
       "</style>\n",
       "<table border=\"1\" class=\"dataframe\">\n",
       "  <thead>\n",
       "    <tr style=\"text-align: right;\">\n",
       "      <th></th>\n",
       "      <th>char</th>\n",
       "      <th>freq</th>\n",
       "      <th>chrLen</th>\n",
       "    </tr>\n",
       "  </thead>\n",
       "  <tbody>\n",
       "    <tr>\n",
       "      <th>0</th>\n",
       "      <td>ang</td>\n",
       "      <td>180</td>\n",
       "      <td>3</td>\n",
       "    </tr>\n",
       "    <tr>\n",
       "      <th>1</th>\n",
       "      <td>ing</td>\n",
       "      <td>131</td>\n",
       "      <td>3</td>\n",
       "    </tr>\n",
       "    <tr>\n",
       "      <th>2</th>\n",
       "      <td>ian</td>\n",
       "      <td>88</td>\n",
       "      <td>3</td>\n",
       "    </tr>\n",
       "    <tr>\n",
       "      <th>3</th>\n",
       "      <td>and</td>\n",
       "      <td>80</td>\n",
       "      <td>3</td>\n",
       "    </tr>\n",
       "    <tr>\n",
       "      <th>4</th>\n",
       "      <td>man</td>\n",
       "      <td>79</td>\n",
       "      <td>3</td>\n",
       "    </tr>\n",
       "    <tr>\n",
       "      <th>5</th>\n",
       "      <td>love</td>\n",
       "      <td>53</td>\n",
       "      <td>4</td>\n",
       "    </tr>\n",
       "    <tr>\n",
       "      <th>6</th>\n",
       "      <td>iang</td>\n",
       "      <td>36</td>\n",
       "      <td>4</td>\n",
       "    </tr>\n",
       "    <tr>\n",
       "      <th>7</th>\n",
       "      <td>n123</td>\n",
       "      <td>35</td>\n",
       "      <td>4</td>\n",
       "    </tr>\n",
       "    <tr>\n",
       "      <th>8</th>\n",
       "      <td>a123</td>\n",
       "      <td>28</td>\n",
       "      <td>4</td>\n",
       "    </tr>\n",
       "    <tr>\n",
       "      <th>9</th>\n",
       "      <td>wang</td>\n",
       "      <td>28</td>\n",
       "      <td>4</td>\n",
       "    </tr>\n",
       "    <tr>\n",
       "      <th>10</th>\n",
       "      <td>zzzzz</td>\n",
       "      <td>21</td>\n",
       "      <td>5</td>\n",
       "    </tr>\n",
       "    <tr>\n",
       "      <th>15</th>\n",
       "      <td>zzzzzz</td>\n",
       "      <td>19</td>\n",
       "      <td>6</td>\n",
       "    </tr>\n",
       "    <tr>\n",
       "      <th>11</th>\n",
       "      <td>admin</td>\n",
       "      <td>19</td>\n",
       "      <td>5</td>\n",
       "    </tr>\n",
       "    <tr>\n",
       "      <th>12</th>\n",
       "      <td>zhang</td>\n",
       "      <td>17</td>\n",
       "      <td>5</td>\n",
       "    </tr>\n",
       "    <tr>\n",
       "      <th>20</th>\n",
       "      <td>zzzzzzz</td>\n",
       "      <td>17</td>\n",
       "      <td>7</td>\n",
       "    </tr>\n",
       "    <tr>\n",
       "      <th>25</th>\n",
       "      <td>zzzzzzzz</td>\n",
       "      <td>15</td>\n",
       "      <td>8</td>\n",
       "    </tr>\n",
       "    <tr>\n",
       "      <th>13</th>\n",
       "      <td>ilove</td>\n",
       "      <td>12</td>\n",
       "      <td>5</td>\n",
       "    </tr>\n",
       "    <tr>\n",
       "      <th>14</th>\n",
       "      <td>liang</td>\n",
       "      <td>11</td>\n",
       "      <td>5</td>\n",
       "    </tr>\n",
       "    <tr>\n",
       "      <th>16</th>\n",
       "      <td>dragon</td>\n",
       "      <td>8</td>\n",
       "      <td>6</td>\n",
       "    </tr>\n",
       "    <tr>\n",
       "      <th>24</th>\n",
       "      <td>d8cd98f</td>\n",
       "      <td>7</td>\n",
       "      <td>7</td>\n",
       "    </tr>\n",
       "    <tr>\n",
       "      <th>28</th>\n",
       "      <td>1d8cd98f</td>\n",
       "      <td>7</td>\n",
       "      <td>8</td>\n",
       "    </tr>\n",
       "    <tr>\n",
       "      <th>27</th>\n",
       "      <td>41d8cd98</td>\n",
       "      <td>7</td>\n",
       "      <td>8</td>\n",
       "    </tr>\n",
       "    <tr>\n",
       "      <th>26</th>\n",
       "      <td>d41d8cd9</td>\n",
       "      <td>7</td>\n",
       "      <td>8</td>\n",
       "    </tr>\n",
       "    <tr>\n",
       "      <th>21</th>\n",
       "      <td>d41d8cd</td>\n",
       "      <td>7</td>\n",
       "      <td>7</td>\n",
       "    </tr>\n",
       "    <tr>\n",
       "      <th>23</th>\n",
       "      <td>1d8cd98</td>\n",
       "      <td>7</td>\n",
       "      <td>7</td>\n",
       "    </tr>\n",
       "    <tr>\n",
       "      <th>22</th>\n",
       "      <td>41d8cd9</td>\n",
       "      <td>7</td>\n",
       "      <td>7</td>\n",
       "    </tr>\n",
       "    <tr>\n",
       "      <th>19</th>\n",
       "      <td>1d8cd9</td>\n",
       "      <td>7</td>\n",
       "      <td>6</td>\n",
       "    </tr>\n",
       "    <tr>\n",
       "      <th>18</th>\n",
       "      <td>41d8cd</td>\n",
       "      <td>7</td>\n",
       "      <td>6</td>\n",
       "    </tr>\n",
       "    <tr>\n",
       "      <th>17</th>\n",
       "      <td>d41d8c</td>\n",
       "      <td>7</td>\n",
       "      <td>6</td>\n",
       "    </tr>\n",
       "    <tr>\n",
       "      <th>29</th>\n",
       "      <td>d8cd98f0</td>\n",
       "      <td>7</td>\n",
       "      <td>8</td>\n",
       "    </tr>\n",
       "  </tbody>\n",
       "</table>\n",
       "</div>"
      ],
      "text/plain": [
       "        char  freq  chrLen\n",
       "0        ang   180       3\n",
       "1        ing   131       3\n",
       "2        ian    88       3\n",
       "3        and    80       3\n",
       "4        man    79       3\n",
       "5       love    53       4\n",
       "6       iang    36       4\n",
       "7       n123    35       4\n",
       "8       a123    28       4\n",
       "9       wang    28       4\n",
       "10     zzzzz    21       5\n",
       "15    zzzzzz    19       6\n",
       "11     admin    19       5\n",
       "12     zhang    17       5\n",
       "20   zzzzzzz    17       7\n",
       "25  zzzzzzzz    15       8\n",
       "13     ilove    12       5\n",
       "14     liang    11       5\n",
       "16    dragon     8       6\n",
       "24   d8cd98f     7       7\n",
       "28  1d8cd98f     7       8\n",
       "27  41d8cd98     7       8\n",
       "26  d41d8cd9     7       8\n",
       "21   d41d8cd     7       7\n",
       "23   1d8cd98     7       7\n",
       "22   41d8cd9     7       7\n",
       "19    1d8cd9     7       6\n",
       "18    41d8cd     7       6\n",
       "17    d41d8c     7       6\n",
       "29  d8cd98f0     7       8"
      ]
     },
     "execution_count": 29,
     "metadata": {},
     "output_type": "execute_result"
    }
   ],
   "source": [
    "df4 = df3.copy()\n",
    "df4.sort_values('freq',ascending=False)\n",
    "\n",
    "# df2.drop(df.index, inplace=True)\n",
    "# df2 = df2.iloc[0:0].copy()"
   ]
  }
 ],
 "metadata": {
  "kernelspec": {
   "display_name": "Python 3",
   "language": "python",
   "name": "python3"
  },
  "language_info": {
   "codemirror_mode": {
    "name": "ipython",
    "version": 3
   },
   "file_extension": ".py",
   "mimetype": "text/x-python",
   "name": "python",
   "nbconvert_exporter": "python",
   "pygments_lexer": "ipython3",
   "version": "3.6.3"
  }
 },
 "nbformat": 4,
 "nbformat_minor": 2
}
