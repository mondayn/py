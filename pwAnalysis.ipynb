{
 "cells": [
  {
   "cell_type": "markdown",
   "metadata": {},
   "source": [
    "# Password Analysis\n",
    "\n",
    "Below analyzes 2m passwords hacked from Yahoo and released publicly.  We'll look at the most common password length and characters, as well as popular phrases (love, man, wang, dragon, windows, pass).\n",
    "\n",
    "As an aside, password length trumps complexity.  Hackers have already catalogued short 8 character passwords into rainbow hash tables as discussed here\n",
    "https://medium.com/policygenius-stories/the-sophisticates-guide-to-passwords-4bb6b5d9ecb5."
   ]
  },
  {
   "cell_type": "code",
   "execution_count": 2,
   "metadata": {
    "collapsed": true
   },
   "outputs": [],
   "source": [
    "#initialize\n",
    "import numpy as np\n",
    "import pandas as pd\n",
    "import matplotlib.pyplot as plt\n",
    "%matplotlib inline\n",
    "\n",
    "#multiple outputs per cell\n",
    "from IPython.core.interactiveshell import InteractiveShell\n",
    "InteractiveShell.ast_node_interactivity = \"all\""
   ]
  },
  {
   "cell_type": "markdown",
   "metadata": {},
   "source": [
    "### Import Data"
   ]
  },
  {
   "cell_type": "code",
   "execution_count": 15,
   "metadata": {},
   "outputs": [
    {
     "name": "stdout",
     "output_type": "stream",
     "text": [
      "passwords =  2,151,220 \n",
      "dups =  399 \n",
      "totalCharacters =  18,011,567\n",
      "Wall time: 2.4 s\n"
     ]
    }
   ],
   "source": [
    "%%time\n",
    "# df = pd.read_table('http://datashaping.com/passwords.txt',skiprows=16,names=(['pw']),quoting=3)  # nrows=10\n",
    "df = pd.read_csv('pwAnalysis.csv',usecols=['A'])\n",
    "df.columns=['pw']\n",
    "print('passwords = ',\"{:,}\".format(df.pw.size)\n",
    "      ,'\\ndups = ',df.pw.size - df.pw.unique().size\n",
    "      ,'\\ntotalCharacters = ',\"{:,}\".format(len(df.pw.str.cat())))"
   ]
  },
  {
   "cell_type": "code",
   "execution_count": 4,
   "metadata": {},
   "outputs": [
    {
     "name": "stdout",
     "output_type": "stream",
     "text": [
      "             pw\n",
      "0   07606374520\n",
      "1  piontekendre\n",
      "2      rambo144\n",
      "3     primoz123\n",
      "4       sal1387\n",
      "                  pw\n",
      "2151215     26778982\n",
      "2151216      brazer1\n",
      "2151217   usethisone\n",
      "2151218  scare222273\n",
      "2151219     anto1962\n"
     ]
    }
   ],
   "source": [
    "print(df.head())\n",
    "print(df.tail())"
   ]
  },
  {
   "cell_type": "markdown",
   "metadata": {},
   "source": [
    "### Password Length"
   ]
  },
  {
   "cell_type": "code",
   "execution_count": 4,
   "metadata": {},
   "outputs": [
    {
     "name": "stdout",
     "output_type": "stream",
     "text": [
      "most common length:  8.0 characters\n"
     ]
    },
    {
     "data": {
      "image/png": "[encoded data removed]",
      "text/plain": [
       "<matplotlib.figure.Figure at 0x676b4f4710>"
      ]
     },
     "metadata": {},
     "output_type": "display_data"
    }
   ],
   "source": [
    "# How many characters do most people use?\n",
    "df['pwlength']=df.pw.str.len()\n",
    "pp = df['pwlength'].hist()\n",
    "z = pp.set_xlabel(\"Character Length\")\n",
    "z = pp.set_ylabel(\"Passwords\")\n",
    "print('most common length: ',df['pwlength'].mode().max(), 'characters')"
   ]
  },
  {
   "cell_type": "code",
   "execution_count": 5,
   "metadata": {},
   "outputs": [
    {
     "name": "stdout",
     "output_type": "stream",
     "text": [
      "                                    pw  pwlength\n",
      "120304   waaaaaaaaaaaaaaaaaaaaaaaaaaaa      29.0\n",
      "1155769  @fytEm10 *Vb^mZ3%100iRt3h1337      29.0\n",
      "1165598  babi punyer encryptor haihhhh      29.0\n",
      "254206   IhanVitunPitkaSalasanaSaakeli      29.0\n",
      "457967   a42bdef285d431054f2848d30afac      29.0\n",
      "        pw  pwlength\n",
      "358891   a       1.0\n",
      "1688806  9       1.0\n",
      "1078081  7       1.0\n",
      "622400   Y       1.0\n",
      "1266307  J       1.0\n"
     ]
    }
   ],
   "source": [
    "#Look at some of the longest and shortest passwords\n",
    "print(df.sort_values(by='pwlength',ascending=False).head())\n",
    "print(df.sort_values(by='pwlength').head())"
   ]
  },
  {
   "cell_type": "markdown",
   "metadata": {},
   "source": [
    "### Characters Used"
   ]
  },
  {
   "cell_type": "code",
   "execution_count": 6,
   "metadata": {},
   "outputs": [
    {
     "data": {
      "text/html": [
       "<div>\n",
       "<style>\n",
       "    .dataframe thead tr:only-child th {\n",
       "        text-align: right;\n",
       "    }\n",
       "\n",
       "    .dataframe thead th {\n",
       "        text-align: left;\n",
       "    }\n",
       "\n",
       "    .dataframe tbody tr th {\n",
       "        vertical-align: top;\n",
       "    }\n",
       "</style>\n",
       "<table border=\"1\" class=\"dataframe\">\n",
       "  <thead>\n",
       "    <tr style=\"text-align: right;\">\n",
       "      <th></th>\n",
       "      <th>char</th>\n",
       "      <th>occurence</th>\n",
       "    </tr>\n",
       "  </thead>\n",
       "  <tbody>\n",
       "    <tr>\n",
       "      <th>0</th>\n",
       "      <td>a</td>\n",
       "      <td>0.059467</td>\n",
       "    </tr>\n",
       "    <tr>\n",
       "      <th>1</th>\n",
       "      <td>e</td>\n",
       "      <td>0.045304</td>\n",
       "    </tr>\n",
       "    <tr>\n",
       "      <th>2</th>\n",
       "      <td>i</td>\n",
       "      <td>0.040045</td>\n",
       "    </tr>\n",
       "  </tbody>\n",
       "</table>\n",
       "</div>"
      ],
      "text/plain": [
       "  char  occurence\n",
       "0    a   0.059467\n",
       "1    e   0.045304\n",
       "2    i   0.040045"
      ]
     },
     "execution_count": 6,
     "metadata": {},
     "output_type": "execute_result"
    }
   ],
   "source": [
    "# what alpha character is most often used?\n",
    "import nltk\n",
    "\n",
    "def printMostCommon(n):\n",
    "    df2 = pd.DataFrame(fdist.most_common(n))\n",
    "    df2.columns = ['char','freq']\n",
    "    df2['occurence']= df2.freq / len(df.pw.str.cat()) # % of all characters\n",
    "    return df2\n",
    "    \n",
    "fdist = nltk.FreqDist(ch.lower() for ch in df.pw.str.cat() if ch.isalpha())\n",
    "printMostCommon(3)[['char','occurence']]"
   ]
  },
  {
   "cell_type": "code",
   "execution_count": 8,
   "metadata": {},
   "outputs": [
    {
     "name": "stdout",
     "output_type": "stream",
     "text": [
      "char  occurence\n",
      "  1   0.070659\n",
      "  0   0.055075\n",
      "  2   0.052167\n",
      "  3   0.040011\n",
      "  8   0.039114\n",
      "  9   0.037986\n",
      "  5   0.036266\n",
      "  6   0.033089\n",
      "  7   0.031876\n",
      "  4   0.031412\n"
     ]
    }
   ],
   "source": [
    "#most common digits\n",
    "fdist = nltk.FreqDist(ch.lower() for ch in df.pw.str.cat() if ch.isdigit())\n",
    "print(printMostCommon(10)[['char','occurence']].to_string(index=False))"
   ]
  },
  {
   "cell_type": "code",
   "execution_count": 10,
   "metadata": {},
   "outputs": [
    {
     "data": {
      "text/html": [
       "<div>\n",
       "<style>\n",
       "    .dataframe thead tr:only-child th {\n",
       "        text-align: right;\n",
       "    }\n",
       "\n",
       "    .dataframe thead th {\n",
       "        text-align: left;\n",
       "    }\n",
       "\n",
       "    .dataframe tbody tr th {\n",
       "        vertical-align: top;\n",
       "    }\n",
       "</style>\n",
       "<table border=\"1\" class=\"dataframe\">\n",
       "  <thead>\n",
       "    <tr style=\"text-align: right;\">\n",
       "      <th></th>\n",
       "      <th>char</th>\n",
       "      <th>occurence</th>\n",
       "    </tr>\n",
       "  </thead>\n",
       "  <tbody>\n",
       "    <tr>\n",
       "      <th>0</th>\n",
       "      <td>.</td>\n",
       "      <td>0.001021</td>\n",
       "    </tr>\n",
       "    <tr>\n",
       "      <th>1</th>\n",
       "      <td>@</td>\n",
       "      <td>0.000675</td>\n",
       "    </tr>\n",
       "    <tr>\n",
       "      <th>2</th>\n",
       "      <td>!</td>\n",
       "      <td>0.000595</td>\n",
       "    </tr>\n",
       "    <tr>\n",
       "      <th>3</th>\n",
       "      <td>-</td>\n",
       "      <td>0.000428</td>\n",
       "    </tr>\n",
       "    <tr>\n",
       "      <th>4</th>\n",
       "      <td>_</td>\n",
       "      <td>0.000423</td>\n",
       "    </tr>\n",
       "    <tr>\n",
       "      <th>5</th>\n",
       "      <td>*</td>\n",
       "      <td>0.000357</td>\n",
       "    </tr>\n",
       "    <tr>\n",
       "      <th>6</th>\n",
       "      <td>#</td>\n",
       "      <td>0.000260</td>\n",
       "    </tr>\n",
       "    <tr>\n",
       "      <th>7</th>\n",
       "      <td></td>\n",
       "      <td>0.000232</td>\n",
       "    </tr>\n",
       "  </tbody>\n",
       "</table>\n",
       "</div>"
      ],
      "text/plain": [
       "  char  occurence\n",
       "0    .   0.001021\n",
       "1    @   0.000675\n",
       "2    !   0.000595\n",
       "3    -   0.000428\n",
       "4    _   0.000423\n",
       "5    *   0.000357\n",
       "6    #   0.000260\n",
       "7        0.000232"
      ]
     },
     "execution_count": 10,
     "metadata": {},
     "output_type": "execute_result"
    }
   ],
   "source": [
    "#most common special character\n",
    "fdist = nltk.FreqDist(ch.lower() for ch in df.pw.str.cat() if not ch.isalnum())\n",
    "printMostCommon(8)[['char','occurence']]"
   ]
  },
  {
   "cell_type": "code",
   "execution_count": 12,
   "metadata": {
    "scrolled": true
   },
   "outputs": [
    {
     "name": "stdout",
     "output_type": "stream",
     "text": [
      "people use special characters  3.104471% of the time\n"
     ]
    }
   ],
   "source": [
    "# how often are special case used?\n",
    "df['specialChar']=df.pw.apply(lambda s: not str(s).isalnum())\n",
    "print('people use special characters ', \"{:%}\".format(df.pw[df['specialChar']==True].size / df.pw.size),'of the time')"
   ]
  },
  {
   "cell_type": "markdown",
   "metadata": {},
   "source": [
    "### Common Phrases"
   ]
  },
  {
   "cell_type": "code",
   "execution_count": 13,
   "metadata": {},
   "outputs": [
    {
     "name": "stdout",
     "output_type": "stream",
     "text": [
      "people use  pass 0.084231%  of the time\n"
     ]
    },
    {
     "data": {
      "text/plain": [
       "'passme|pass6789|passw<>|passwort24|password@123|pass1990|password-1|passtoefl|passat37|passat12|passwordjoy?|pass2727|pass2431|pass66|passmedearbook|pass4pulse|Passat|password321|passwdCas|password301415|pass9033|passactuel|pass`123|passat10|passcode1013'"
      ]
     },
     "execution_count": 13,
     "metadata": {},
     "output_type": "execute_result"
    }
   ],
   "source": [
    "#how many contain certain string\n",
    "s = 'pass'\n",
    "print('people use ',s,\n",
    "      \"{:%}\".format(df[df.pw.str.lower().str.match(s,na=False)].size / df.size),' of the time')\n",
    "\n",
    "df[df.pw.str.lower().str.match(s,na=False)].pw.head(25).str.cat(sep='|')"
   ]
  },
  {
   "cell_type": "code",
   "execution_count": 33,
   "metadata": {},
   "outputs": [],
   "source": [
    "# what character combo is most often used?\n",
    "\n",
    "import re\n",
    "from collections import Counter\n",
    "import datetime\n",
    "\n",
    "# trace progress as it runs\n",
    "def printTimeDuration (msg):\n",
    "    global dtStart, dtLast\n",
    "    dtNow = datetime.datetime.now()\n",
    "    cumDelta = dtNow - dtStart\n",
    "    curDelta = dtNow - dtLast\n",
    "    \n",
    "    hours, remainder = divmod(curDelta.seconds, 3600)\n",
    "    minutes, seconds = divmod(remainder, 60)\n",
    "\n",
    "    cumHours, cumRemainder = divmod(cumDelta.seconds, 3600)\n",
    "    cumMinutes, cumSeconds = divmod(cumRemainder, 60)\n",
    "    \n",
    "    print(msg,'incr:','%s:%s:%s' % (hours, minutes, seconds),'ttl:','%s:%s:%s' % (cumHours, cumMinutes, cumSeconds))\n",
    "    dtLast = dtNow\n",
    "\n",
    "# return a counter of most common phrases\n",
    "def mostCommonStrings(charLen,cnt):\n",
    "    s=df.pw.head(1000).str.cat()\n",
    "\n",
    "    t = len(s) - (charLen - 1)\n",
    "    for i in range(t):\n",
    "        char = s[i:i+charLen]               # a sequence of characters being considered\n",
    "        allAlpha = True\n",
    "        for j in range(charLen):\n",
    "            if not char[j].isalpha():\n",
    "                allAlpha = False\n",
    "                break\n",
    "        if allAlpha:\n",
    "            numFound = len(re.findall(char,s))\n",
    "            if numFound>8 and not cnt[char]:    # threshold 8 or more instances\n",
    "                cnt[char] += numFound\n",
    "\n",
    "    printTimeDuration('charLen'+str(charLen))\n",
    "    return cnt"
   ]
  },
  {
   "cell_type": "code",
   "execution_count": 44,
   "metadata": {},
   "outputs": [
    {
     "ename": "TypeError",
     "evalue": "Counter() is not a callable object",
     "output_type": "error",
     "traceback": [
      "\u001b[1;31m---------------------------------------------------------------------------\u001b[0m",
      "\u001b[1;31mTypeError\u001b[0m                                 Traceback (most recent call last)",
      "\u001b[1;32m<ipython-input-44-396fec047f04>\u001b[0m in \u001b[0;36m<module>\u001b[1;34m()\u001b[0m\n\u001b[1;32m----> 1\u001b[1;33m \u001b[0mget_ipython\u001b[0m\u001b[1;33m(\u001b[0m\u001b[1;33m)\u001b[0m\u001b[1;33m.\u001b[0m\u001b[0mrun_cell_magic\u001b[0m\u001b[1;33m(\u001b[0m\u001b[1;34m'time'\u001b[0m\u001b[1;33m,\u001b[0m \u001b[1;34m''\u001b[0m\u001b[1;33m,\u001b[0m \u001b[1;34m'\\nimport numba\\nfrom numba import double\\nfrom numba.decorators import jit, autojit\\n\\n# @numba.jit\\n# def testfn(s):\\n#     for i in range(len(s)):\\n#         char = s[i]\\n\\ndef testfn2(s,charLen):\\n    t = len(s) - (charLen - 1)\\n    for i in range(t):\\n        char = s[i:i+charLen]               # a sequence of characters being considered\\n        allAlpha = True\\n        for j in range(charLen):\\n            if not char[j].isalpha():\\n                allAlpha = False\\n                break\\n        if allAlpha:\\n            numFound = len(re.findall(char,s))\\n            if numFound>8 and not cnt[char]:    # threshold 8 or more instances\\n                cnt[char] += numFound\\n    return cnt\\n\\n\\n\\nautojit(testfn2(df.pw.head(1000).str.cat(),5))\\n# testfn2(df.pw.head(1000).str.cat(),5)'\u001b[0m\u001b[1;33m)\u001b[0m\u001b[1;33m\u001b[0m\u001b[0m\n\u001b[0m",
      "\u001b[1;32mC:\\Users\\Nathan\\Anaconda3\\lib\\site-packages\\IPython\\core\\interactiveshell.py\u001b[0m in \u001b[0;36mrun_cell_magic\u001b[1;34m(self, magic_name, line, cell)\u001b[0m\n\u001b[0;32m   2113\u001b[0m             \u001b[0mmagic_arg_s\u001b[0m \u001b[1;33m=\u001b[0m \u001b[0mself\u001b[0m\u001b[1;33m.\u001b[0m\u001b[0mvar_expand\u001b[0m\u001b[1;33m(\u001b[0m\u001b[0mline\u001b[0m\u001b[1;33m,\u001b[0m \u001b[0mstack_depth\u001b[0m\u001b[1;33m)\u001b[0m\u001b[1;33m\u001b[0m\u001b[0m\n\u001b[0;32m   2114\u001b[0m             \u001b[1;32mwith\u001b[0m \u001b[0mself\u001b[0m\u001b[1;33m.\u001b[0m\u001b[0mbuiltin_trap\u001b[0m\u001b[1;33m:\u001b[0m\u001b[1;33m\u001b[0m\u001b[0m\n\u001b[1;32m-> 2115\u001b[1;33m                 \u001b[0mresult\u001b[0m \u001b[1;33m=\u001b[0m \u001b[0mfn\u001b[0m\u001b[1;33m(\u001b[0m\u001b[0mmagic_arg_s\u001b[0m\u001b[1;33m,\u001b[0m \u001b[0mcell\u001b[0m\u001b[1;33m)\u001b[0m\u001b[1;33m\u001b[0m\u001b[0m\n\u001b[0m\u001b[0;32m   2116\u001b[0m             \u001b[1;32mreturn\u001b[0m \u001b[0mresult\u001b[0m\u001b[1;33m\u001b[0m\u001b[0m\n\u001b[0;32m   2117\u001b[0m \u001b[1;33m\u001b[0m\u001b[0m\n",
      "\u001b[1;32m<decorator-gen-60>\u001b[0m in \u001b[0;36mtime\u001b[1;34m(self, line, cell, local_ns)\u001b[0m\n",
      "\u001b[1;32mC:\\Users\\Nathan\\Anaconda3\\lib\\site-packages\\IPython\\core\\magic.py\u001b[0m in \u001b[0;36m<lambda>\u001b[1;34m(f, *a, **k)\u001b[0m\n\u001b[0;32m    186\u001b[0m     \u001b[1;31m# but it's overkill for just that one bit of state.\u001b[0m\u001b[1;33m\u001b[0m\u001b[1;33m\u001b[0m\u001b[0m\n\u001b[0;32m    187\u001b[0m     \u001b[1;32mdef\u001b[0m \u001b[0mmagic_deco\u001b[0m\u001b[1;33m(\u001b[0m\u001b[0marg\u001b[0m\u001b[1;33m)\u001b[0m\u001b[1;33m:\u001b[0m\u001b[1;33m\u001b[0m\u001b[0m\n\u001b[1;32m--> 188\u001b[1;33m         \u001b[0mcall\u001b[0m \u001b[1;33m=\u001b[0m \u001b[1;32mlambda\u001b[0m \u001b[0mf\u001b[0m\u001b[1;33m,\u001b[0m \u001b[1;33m*\u001b[0m\u001b[0ma\u001b[0m\u001b[1;33m,\u001b[0m \u001b[1;33m**\u001b[0m\u001b[0mk\u001b[0m\u001b[1;33m:\u001b[0m \u001b[0mf\u001b[0m\u001b[1;33m(\u001b[0m\u001b[1;33m*\u001b[0m\u001b[0ma\u001b[0m\u001b[1;33m,\u001b[0m \u001b[1;33m**\u001b[0m\u001b[0mk\u001b[0m\u001b[1;33m)\u001b[0m\u001b[1;33m\u001b[0m\u001b[0m\n\u001b[0m\u001b[0;32m    189\u001b[0m \u001b[1;33m\u001b[0m\u001b[0m\n\u001b[0;32m    190\u001b[0m         \u001b[1;32mif\u001b[0m \u001b[0mcallable\u001b[0m\u001b[1;33m(\u001b[0m\u001b[0marg\u001b[0m\u001b[1;33m)\u001b[0m\u001b[1;33m:\u001b[0m\u001b[1;33m\u001b[0m\u001b[0m\n",
      "\u001b[1;32mC:\\Users\\Nathan\\Anaconda3\\lib\\site-packages\\IPython\\core\\magics\\execution.py\u001b[0m in \u001b[0;36mtime\u001b[1;34m(self, line, cell, local_ns)\u001b[0m\n\u001b[0;32m   1183\u001b[0m         \u001b[1;32melse\u001b[0m\u001b[1;33m:\u001b[0m\u001b[1;33m\u001b[0m\u001b[0m\n\u001b[0;32m   1184\u001b[0m             \u001b[0mst\u001b[0m \u001b[1;33m=\u001b[0m \u001b[0mclock2\u001b[0m\u001b[1;33m(\u001b[0m\u001b[1;33m)\u001b[0m\u001b[1;33m\u001b[0m\u001b[0m\n\u001b[1;32m-> 1185\u001b[1;33m             \u001b[0mexec\u001b[0m\u001b[1;33m(\u001b[0m\u001b[0mcode\u001b[0m\u001b[1;33m,\u001b[0m \u001b[0mglob\u001b[0m\u001b[1;33m,\u001b[0m \u001b[0mlocal_ns\u001b[0m\u001b[1;33m)\u001b[0m\u001b[1;33m\u001b[0m\u001b[0m\n\u001b[0m\u001b[0;32m   1186\u001b[0m             \u001b[0mend\u001b[0m \u001b[1;33m=\u001b[0m \u001b[0mclock2\u001b[0m\u001b[1;33m(\u001b[0m\u001b[1;33m)\u001b[0m\u001b[1;33m\u001b[0m\u001b[0m\n\u001b[0;32m   1187\u001b[0m             \u001b[0mout\u001b[0m \u001b[1;33m=\u001b[0m \u001b[1;32mNone\u001b[0m\u001b[1;33m\u001b[0m\u001b[0m\n",
      "\u001b[1;32m<timed exec>\u001b[0m in \u001b[0;36m<module>\u001b[1;34m()\u001b[0m\n",
      "\u001b[1;32mC:\\Users\\Nathan\\Anaconda3\\lib\\site-packages\\numba\\decorators.py\u001b[0m in \u001b[0;36mautojit\u001b[1;34m(*args, **kws)\u001b[0m\n\u001b[0;32m     23\u001b[0m     warnings.warn(\"autojit is deprecated, use jit instead which now performs \"\n\u001b[0;32m     24\u001b[0m                   \"the same functionality\", DeprecationWarning)\n\u001b[1;32m---> 25\u001b[1;33m     \u001b[1;32mreturn\u001b[0m \u001b[0mjit\u001b[0m\u001b[1;33m(\u001b[0m\u001b[1;33m*\u001b[0m\u001b[0margs\u001b[0m\u001b[1;33m,\u001b[0m \u001b[1;33m**\u001b[0m\u001b[0mkws\u001b[0m\u001b[1;33m)\u001b[0m\u001b[1;33m\u001b[0m\u001b[0m\n\u001b[0m\u001b[0;32m     26\u001b[0m \u001b[1;33m\u001b[0m\u001b[0m\n\u001b[0;32m     27\u001b[0m \u001b[1;33m\u001b[0m\u001b[0m\n",
      "\u001b[1;32mC:\\Users\\Nathan\\Anaconda3\\lib\\site-packages\\numba\\decorators.py\u001b[0m in \u001b[0;36mjit\u001b[1;34m(signature_or_function, locals, target, cache, **options)\u001b[0m\n\u001b[0;32m    155\u001b[0m                    targetoptions=options)\n\u001b[0;32m    156\u001b[0m     \u001b[1;32mif\u001b[0m \u001b[0mpyfunc\u001b[0m \u001b[1;32mis\u001b[0m \u001b[1;32mnot\u001b[0m \u001b[1;32mNone\u001b[0m\u001b[1;33m:\u001b[0m\u001b[1;33m\u001b[0m\u001b[0m\n\u001b[1;32m--> 157\u001b[1;33m         \u001b[1;32mreturn\u001b[0m \u001b[0mwrapper\u001b[0m\u001b[1;33m(\u001b[0m\u001b[0mpyfunc\u001b[0m\u001b[1;33m)\u001b[0m\u001b[1;33m\u001b[0m\u001b[0m\n\u001b[0m\u001b[0;32m    158\u001b[0m     \u001b[1;32melse\u001b[0m\u001b[1;33m:\u001b[0m\u001b[1;33m\u001b[0m\u001b[0m\n\u001b[0;32m    159\u001b[0m         \u001b[1;32mreturn\u001b[0m \u001b[0mwrapper\u001b[0m\u001b[1;33m\u001b[0m\u001b[0m\n",
      "\u001b[1;32mC:\\Users\\Nathan\\Anaconda3\\lib\\site-packages\\numba\\decorators.py\u001b[0m in \u001b[0;36mwrapper\u001b[1;34m(func)\u001b[0m\n\u001b[0;32m    171\u001b[0m         disp = dispatcher(py_func=func, locals=locals,\n\u001b[0;32m    172\u001b[0m                           \u001b[0mtargetoptions\u001b[0m\u001b[1;33m=\u001b[0m\u001b[0mtargetoptions\u001b[0m\u001b[1;33m,\u001b[0m\u001b[1;33m\u001b[0m\u001b[0m\n\u001b[1;32m--> 173\u001b[1;33m                           **dispatcher_args)\n\u001b[0m\u001b[0;32m    174\u001b[0m         \u001b[1;32mif\u001b[0m \u001b[0mcache\u001b[0m\u001b[1;33m:\u001b[0m\u001b[1;33m\u001b[0m\u001b[0m\n\u001b[0;32m    175\u001b[0m             \u001b[0mdisp\u001b[0m\u001b[1;33m.\u001b[0m\u001b[0menable_caching\u001b[0m\u001b[1;33m(\u001b[0m\u001b[1;33m)\u001b[0m\u001b[1;33m\u001b[0m\u001b[0m\n",
      "\u001b[1;32mC:\\Users\\Nathan\\Anaconda3\\lib\\site-packages\\numba\\dispatcher.py\u001b[0m in \u001b[0;36m__init__\u001b[1;34m(self, py_func, locals, targetoptions, impl_kind)\u001b[0m\n\u001b[0;32m    467\u001b[0m         \u001b[0mself\u001b[0m\u001b[1;33m.\u001b[0m\u001b[0mtargetctx\u001b[0m \u001b[1;33m=\u001b[0m \u001b[0mself\u001b[0m\u001b[1;33m.\u001b[0m\u001b[0mtargetdescr\u001b[0m\u001b[1;33m.\u001b[0m\u001b[0mtarget_context\u001b[0m\u001b[1;33m\u001b[0m\u001b[0m\n\u001b[0;32m    468\u001b[0m \u001b[1;33m\u001b[0m\u001b[0m\n\u001b[1;32m--> 469\u001b[1;33m         \u001b[0mpysig\u001b[0m \u001b[1;33m=\u001b[0m \u001b[0mutils\u001b[0m\u001b[1;33m.\u001b[0m\u001b[0mpysignature\u001b[0m\u001b[1;33m(\u001b[0m\u001b[0mpy_func\u001b[0m\u001b[1;33m)\u001b[0m\u001b[1;33m\u001b[0m\u001b[0m\n\u001b[0m\u001b[0;32m    470\u001b[0m         \u001b[0marg_count\u001b[0m \u001b[1;33m=\u001b[0m \u001b[0mlen\u001b[0m\u001b[1;33m(\u001b[0m\u001b[0mpysig\u001b[0m\u001b[1;33m.\u001b[0m\u001b[0mparameters\u001b[0m\u001b[1;33m)\u001b[0m\u001b[1;33m\u001b[0m\u001b[0m\n\u001b[0;32m    471\u001b[0m         \u001b[0mcan_fallback\u001b[0m \u001b[1;33m=\u001b[0m \u001b[1;32mnot\u001b[0m \u001b[0mtargetoptions\u001b[0m\u001b[1;33m.\u001b[0m\u001b[0mget\u001b[0m\u001b[1;33m(\u001b[0m\u001b[1;34m'nopython'\u001b[0m\u001b[1;33m,\u001b[0m \u001b[1;32mFalse\u001b[0m\u001b[1;33m)\u001b[0m\u001b[1;33m\u001b[0m\u001b[0m\n",
      "\u001b[1;32mC:\\Users\\Nathan\\Anaconda3\\lib\\inspect.py\u001b[0m in \u001b[0;36msignature\u001b[1;34m(obj, follow_wrapped)\u001b[0m\n\u001b[0;32m   2999\u001b[0m \u001b[1;32mdef\u001b[0m \u001b[0msignature\u001b[0m\u001b[1;33m(\u001b[0m\u001b[0mobj\u001b[0m\u001b[1;33m,\u001b[0m \u001b[1;33m*\u001b[0m\u001b[1;33m,\u001b[0m \u001b[0mfollow_wrapped\u001b[0m\u001b[1;33m=\u001b[0m\u001b[1;32mTrue\u001b[0m\u001b[1;33m)\u001b[0m\u001b[1;33m:\u001b[0m\u001b[1;33m\u001b[0m\u001b[0m\n\u001b[0;32m   3000\u001b[0m     \u001b[1;34m\"\"\"Get a signature object for the passed callable.\"\"\"\u001b[0m\u001b[1;33m\u001b[0m\u001b[0m\n\u001b[1;32m-> 3001\u001b[1;33m     \u001b[1;32mreturn\u001b[0m \u001b[0mSignature\u001b[0m\u001b[1;33m.\u001b[0m\u001b[0mfrom_callable\u001b[0m\u001b[1;33m(\u001b[0m\u001b[0mobj\u001b[0m\u001b[1;33m,\u001b[0m \u001b[0mfollow_wrapped\u001b[0m\u001b[1;33m=\u001b[0m\u001b[0mfollow_wrapped\u001b[0m\u001b[1;33m)\u001b[0m\u001b[1;33m\u001b[0m\u001b[0m\n\u001b[0m\u001b[0;32m   3002\u001b[0m \u001b[1;33m\u001b[0m\u001b[0m\n\u001b[0;32m   3003\u001b[0m \u001b[1;33m\u001b[0m\u001b[0m\n",
      "\u001b[1;32mC:\\Users\\Nathan\\Anaconda3\\lib\\inspect.py\u001b[0m in \u001b[0;36mfrom_callable\u001b[1;34m(cls, obj, follow_wrapped)\u001b[0m\n\u001b[0;32m   2749\u001b[0m         \u001b[1;34m\"\"\"Constructs Signature for the given callable object.\"\"\"\u001b[0m\u001b[1;33m\u001b[0m\u001b[0m\n\u001b[0;32m   2750\u001b[0m         return _signature_from_callable(obj, sigcls=cls,\n\u001b[1;32m-> 2751\u001b[1;33m                                         follow_wrapper_chains=follow_wrapped)\n\u001b[0m\u001b[0;32m   2752\u001b[0m \u001b[1;33m\u001b[0m\u001b[0m\n\u001b[0;32m   2753\u001b[0m     \u001b[1;33m@\u001b[0m\u001b[0mproperty\u001b[0m\u001b[1;33m\u001b[0m\u001b[0m\n",
      "\u001b[1;32mC:\\Users\\Nathan\\Anaconda3\\lib\\inspect.py\u001b[0m in \u001b[0;36m_signature_from_callable\u001b[1;34m(obj, follow_wrapper_chains, skip_bound_arg, sigcls)\u001b[0m\n\u001b[0;32m   2154\u001b[0m \u001b[1;33m\u001b[0m\u001b[0m\n\u001b[0;32m   2155\u001b[0m     \u001b[1;32mif\u001b[0m \u001b[1;32mnot\u001b[0m \u001b[0mcallable\u001b[0m\u001b[1;33m(\u001b[0m\u001b[0mobj\u001b[0m\u001b[1;33m)\u001b[0m\u001b[1;33m:\u001b[0m\u001b[1;33m\u001b[0m\u001b[0m\n\u001b[1;32m-> 2156\u001b[1;33m         \u001b[1;32mraise\u001b[0m \u001b[0mTypeError\u001b[0m\u001b[1;33m(\u001b[0m\u001b[1;34m'{!r} is not a callable object'\u001b[0m\u001b[1;33m.\u001b[0m\u001b[0mformat\u001b[0m\u001b[1;33m(\u001b[0m\u001b[0mobj\u001b[0m\u001b[1;33m)\u001b[0m\u001b[1;33m)\u001b[0m\u001b[1;33m\u001b[0m\u001b[0m\n\u001b[0m\u001b[0;32m   2157\u001b[0m \u001b[1;33m\u001b[0m\u001b[0m\n\u001b[0;32m   2158\u001b[0m     \u001b[1;32mif\u001b[0m \u001b[0misinstance\u001b[0m\u001b[1;33m(\u001b[0m\u001b[0mobj\u001b[0m\u001b[1;33m,\u001b[0m \u001b[0mtypes\u001b[0m\u001b[1;33m.\u001b[0m\u001b[0mMethodType\u001b[0m\u001b[1;33m)\u001b[0m\u001b[1;33m:\u001b[0m\u001b[1;33m\u001b[0m\u001b[0m\n",
      "\u001b[1;31mTypeError\u001b[0m: Counter() is not a callable object"
     ]
    }
   ],
   "source": [
    "%%time\n",
    "\n",
    "import numba\n",
    "from numba import double\n",
    "from numba.decorators import jit, autojit\n",
    "\n",
    "# @numba.jit\n",
    "# def testfn(s):\n",
    "#     for i in range(len(s)):\n",
    "#         char = s[i]\n",
    "\n",
    "def testfn2(s,charLen):\n",
    "    t = len(s) - (charLen - 1)\n",
    "    for i in range(t):\n",
    "        char = s[i:i+charLen]               # a sequence of characters being considered\n",
    "        allAlpha = True\n",
    "        for j in range(charLen):\n",
    "            if not char[j].isalpha():\n",
    "                allAlpha = False\n",
    "                break\n",
    "        if allAlpha:\n",
    "            numFound = len(re.findall(char,s))\n",
    "            if numFound>8 and not cnt[char]:    # threshold 8 or more instances\n",
    "                cnt[char] += numFound\n",
    "    return cnt\n",
    "\n",
    "\n",
    "\n",
    "autojit(testfn2(df.pw.head(1000).str.cat(),5))\n",
    "# testfn2(df.pw.head(1000).str.cat(),5)"
   ]
  },
  {
   "cell_type": "code",
   "execution_count": 19,
   "metadata": {},
   "outputs": [
    {
     "ename": "SyntaxError",
     "evalue": "invalid syntax (<ipython-input-19-bff2e6bfbe3e>, line 4)",
     "output_type": "error",
     "traceback": [
      "\u001b[1;36m  File \u001b[1;32m\"<ipython-input-19-bff2e6bfbe3e>\"\u001b[1;36m, line \u001b[1;32m4\u001b[0m\n\u001b[1;33m    %%cython\u001b[0m\n\u001b[1;37m    ^\u001b[0m\n\u001b[1;31mSyntaxError\u001b[0m\u001b[1;31m:\u001b[0m invalid syntax\n"
     ]
    }
   ],
   "source": [
    "# %load_ext Cython\n",
    "%reload_ext Cython\n",
    "\n",
    "%%cython\n",
    "# def f_plain(x):\n",
    "#     return x * (x - 1)"
   ]
  },
  {
   "cell_type": "code",
   "execution_count": 21,
   "metadata": {},
   "outputs": [
    {
     "name": "stdout",
     "output_type": "stream",
     "text": [
      "start incr: 0:0:0 ttl: 0:0:0\n",
      "charLen4 incr: 0:0:0 ttl: 0:0:0\n",
      "charLen5 incr: 0:0:0 ttl: 0:0:0\n",
      "charLen6 incr: 0:0:0 ttl: 0:0:0\n",
      "charLen7 incr: 0:0:0 ttl: 0:0:0\n",
      "charLen8 incr: 0:0:0 ttl: 0:0:0\n",
      "records= 0\n",
      "Wall time: 742 ms\n"
     ]
    }
   ],
   "source": [
    "%%time\n",
    "dtStart = datetime.datetime.now()\n",
    "dtLast = dtStart\n",
    "printTimeDuration('start')\n",
    "    \n",
    "cnt = Counter()\n",
    "for i in range(4,9):\n",
    "    cnt = mostCommonStrings(i,cnt)\n",
    "\n",
    "df3 = pd.DataFrame.from_dict(cnt, orient='index').reset_index()\n",
    "if df3.columns.size==2:\n",
    "    df3.columns = ['char','freq']\n",
    "    #df3['freq']=df3.freq.apply(lambda x: math.sqrt(x))\n",
    "    df3['charLen']=df3.char.apply(lambda str: len(str))\n",
    "print('records=',df3.size)"
   ]
  },
  {
   "cell_type": "code",
   "execution_count": 61,
   "metadata": {},
   "outputs": [
    {
     "name": "stdout",
     "output_type": "stream",
     "text": [
      "most common phrases are\n"
     ]
    },
    {
     "data": {
      "text/html": [
       "<div>\n",
       "<style>\n",
       "    .dataframe thead tr:only-child th {\n",
       "        text-align: right;\n",
       "    }\n",
       "\n",
       "    .dataframe thead th {\n",
       "        text-align: left;\n",
       "    }\n",
       "\n",
       "    .dataframe tbody tr th {\n",
       "        vertical-align: top;\n",
       "    }\n",
       "</style>\n",
       "<table border=\"1\" class=\"dataframe\">\n",
       "  <thead>\n",
       "    <tr style=\"text-align: right;\">\n",
       "      <th></th>\n",
       "      <th>char</th>\n",
       "      <th>freq</th>\n",
       "      <th>charLen</th>\n",
       "    </tr>\n",
       "  </thead>\n",
       "  <tbody>\n",
       "    <tr>\n",
       "      <th>7734</th>\n",
       "      <td>password</td>\n",
       "      <td>57</td>\n",
       "      <td>8</td>\n",
       "    </tr>\n",
       "    <tr>\n",
       "      <th>7736</th>\n",
       "      <td>dearbook</td>\n",
       "      <td>33</td>\n",
       "      <td>8</td>\n",
       "    </tr>\n",
       "    <tr>\n",
       "      <th>7735</th>\n",
       "      <td>iloveyou</td>\n",
       "      <td>19</td>\n",
       "      <td>8</td>\n",
       "    </tr>\n",
       "    <tr>\n",
       "      <th>7739</th>\n",
       "      <td>computer</td>\n",
       "      <td>12</td>\n",
       "      <td>8</td>\n",
       "    </tr>\n",
       "    <tr>\n",
       "      <th>7730</th>\n",
       "      <td>kikugala</td>\n",
       "      <td>11</td>\n",
       "      <td>8</td>\n",
       "    </tr>\n",
       "  </tbody>\n",
       "</table>\n",
       "</div>"
      ],
      "text/plain": [
       "          char  freq  charLen\n",
       "7734  password    57        8\n",
       "7736  dearbook    33        8\n",
       "7735  iloveyou    19        8\n",
       "7739  computer    12        8\n",
       "7730  kikugala    11        8"
      ]
     },
     "execution_count": 61,
     "metadata": {},
     "output_type": "execute_result"
    }
   ],
   "source": [
    "print('most common phrases are')\n",
    "df3.sort_values(['charLen', 'freq'], ascending=[False, False]).head()"
   ]
  },
  {
   "cell_type": "code",
   "execution_count": null,
   "metadata": {
    "collapsed": true
   },
   "outputs": [],
   "source": [
    "from nltk.corpus import words\n",
    "df3['word']=df3.char.apply(lambda m: 1 if m in words.words() else 0)"
   ]
  },
  {
   "cell_type": "code",
   "execution_count": 63,
   "metadata": {},
   "outputs": [
    {
     "name": "stdout",
     "output_type": "stream",
     "text": [
      "most common words are\n"
     ]
    },
    {
     "data": {
      "text/plain": [
       "'password|computer|scorpion|superman|forever|diamond|vincent|welcome|compute|phoenix|freedom|element|dolphin|counter|thunder|master|dragon|killer|victor|monkey|hacker|martin|window|prince|summer|little|beyond|silver|shadow|flower|golden|change|friend|spider|secret|design|orange|purple|buster|soccer|snoopy|legend|matrix|jordan|system|pepper|stella|polska|yellow|junior'"
      ]
     },
     "execution_count": 63,
     "metadata": {},
     "output_type": "execute_result"
    }
   ],
   "source": [
    "print('most common words are')\n",
    "df3[df3.word==True].sort_values(['charLen', 'freq'], ascending=[False, False]).char.head(50).str.cat(sep='|')"
   ]
  },
  {
   "cell_type": "code",
   "execution_count": 37,
   "metadata": {},
   "outputs": [
    {
     "data": {
      "text/html": [
       "<div>\n",
       "<style>\n",
       "    .dataframe thead tr:only-child th {\n",
       "        text-align: right;\n",
       "    }\n",
       "\n",
       "    .dataframe thead th {\n",
       "        text-align: left;\n",
       "    }\n",
       "\n",
       "    .dataframe tbody tr th {\n",
       "        vertical-align: top;\n",
       "    }\n",
       "</style>\n",
       "<table border=\"1\" class=\"dataframe\">\n",
       "  <thead>\n",
       "    <tr style=\"text-align: right;\">\n",
       "      <th></th>\n",
       "      <th>char</th>\n",
       "      <th>freq</th>\n",
       "      <th>occurence</th>\n",
       "    </tr>\n",
       "  </thead>\n",
       "  <tbody>\n",
       "    <tr>\n",
       "      <th>7</th>\n",
       "      <td>123</td>\n",
       "      <td>35661</td>\n",
       "      <td>0.005526</td>\n",
       "    </tr>\n",
       "    <tr>\n",
       "      <th>3</th>\n",
       "      <td>wang</td>\n",
       "      <td>15405</td>\n",
       "      <td>0.002387</td>\n",
       "    </tr>\n",
       "    <tr>\n",
       "      <th>0</th>\n",
       "      <td>love</td>\n",
       "      <td>14217</td>\n",
       "      <td>0.002203</td>\n",
       "    </tr>\n",
       "    <tr>\n",
       "      <th>2</th>\n",
       "      <td>man</td>\n",
       "      <td>10869</td>\n",
       "      <td>0.001684</td>\n",
       "    </tr>\n",
       "    <tr>\n",
       "      <th>6</th>\n",
       "      <td>and</td>\n",
       "      <td>7287</td>\n",
       "      <td>0.001129</td>\n",
       "    </tr>\n",
       "    <tr>\n",
       "      <th>1</th>\n",
       "      <td>pass</td>\n",
       "      <td>5436</td>\n",
       "      <td>0.000842</td>\n",
       "    </tr>\n",
       "    <tr>\n",
       "      <th>4</th>\n",
       "      <td>dragon</td>\n",
       "      <td>1944</td>\n",
       "      <td>0.000301</td>\n",
       "    </tr>\n",
       "    <tr>\n",
       "      <th>8</th>\n",
       "      <td>windows</td>\n",
       "      <td>876</td>\n",
       "      <td>0.000136</td>\n",
       "    </tr>\n",
       "    <tr>\n",
       "      <th>5</th>\n",
       "      <td>zzzz</td>\n",
       "      <td>336</td>\n",
       "      <td>0.000052</td>\n",
       "    </tr>\n",
       "  </tbody>\n",
       "</table>\n",
       "</div>"
      ],
      "text/plain": [
       "      char   freq  occurence\n",
       "7      123  35661   0.005526\n",
       "3     wang  15405   0.002387\n",
       "0     love  14217   0.002203\n",
       "2      man  10869   0.001684\n",
       "6      and   7287   0.001129\n",
       "1     pass   5436   0.000842\n",
       "4   dragon   1944   0.000301\n",
       "8  windows    876   0.000136\n",
       "5     zzzz    336   0.000052"
      ]
     },
     "execution_count": 37,
     "metadata": {},
     "output_type": "execute_result"
    }
   ],
   "source": [
    "#how often do these phrases appear?\n",
    "df5 = pd.DataFrame({'char':['love','pass','man','wang','dragon','zzzz','and','123','windows']})\n",
    "df5['freq']= df5.char.apply(lambda ch: df[df.pw.str.lower().str.match(ch.lower(),na=False)].size)\n",
    "df5['occurence']= df5.char.apply(lambda ch: df[df.pw.str.lower().str.match(ch.lower(),na=False)].size / df.size)\n",
    "df5.sort_values(by='freq',ascending=False)"
   ]
  }
 ],
 "metadata": {
  "kernelspec": {
   "display_name": "Python 3",
   "language": "python",
   "name": "python3"
  },
  "language_info": {
   "codemirror_mode": {
    "name": "ipython",
    "version": 3
   },
   "file_extension": ".py",
   "mimetype": "text/x-python",
   "name": "python",
   "nbconvert_exporter": "python",
   "pygments_lexer": "ipython3",
   "version": "3.6.1"
  }
 },
 "nbformat": 4,
 "nbformat_minor": 2
}
