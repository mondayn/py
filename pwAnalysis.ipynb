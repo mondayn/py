{
 "cells": [
  {
   "cell_type": "markdown",
   "metadata": {},
   "source": [
    "# Password Analysis\n",
    "\n",
    "Below looks at 2m passwords released after Yahoo was hacked.\n",
    "\n",
    "* What are the most common passwords?\n",
    "* Which characters are used the most?  \n",
    "* How often are special characters used?\n",
    "* How many characters are typically used?\n",
    "\n",
    "<a href=\"https://medium.com/policygenius-stories/the-sophisticates-guide-to-passwords-4bb6b5d9ecb5\">This</a> suggests length is crucial, as hackers have already catalogued 'rainbow tables' of most passwords 8 characters or less"
   ]
  },
  {
   "cell_type": "code",
   "execution_count": 1,
   "metadata": {},
   "outputs": [],
   "source": [
    "#initialize\n",
    "import pandas as pd\n",
    "import matplotlib.pyplot as plt\n",
    "%matplotlib inline\n",
    "\n",
    "#multiple outputs per cell\n",
    "from IPython.core.interactiveshell import InteractiveShell\n",
    "InteractiveShell.ast_node_interactivity = \"all\""
   ]
  },
  {
   "cell_type": "code",
   "execution_count": 2,
   "metadata": {},
   "outputs": [],
   "source": [
    "from matplotlib.pylab import rcParams\n",
    "rcParams['figure.figsize'] = 15, 4"
   ]
  },
  {
   "cell_type": "markdown",
   "metadata": {},
   "source": [
    "### Import Data"
   ]
  },
  {
   "cell_type": "code",
   "execution_count": 6,
   "metadata": {},
   "outputs": [],
   "source": [
    "df = pd.read_csv('http://datashaping.com/passwords.txt',skiprows=16,names=(['pw']),quoting=3)  # nrows=10"
   ]
  },
  {
   "cell_type": "code",
   "execution_count": 4,
   "metadata": {},
   "outputs": [
    {
     "name": "stdout",
     "output_type": "stream",
     "text": [
      "passwords =  2,151,220 \n",
      "dups =  488.0\n"
     ]
    }
   ],
   "source": [
    "print('passwords = ',\"{:,}\".format(df.shape[0])\n",
    "      ,'\\ndups = ',df[df.pw.duplicated()].shape[0] / 2 )"
   ]
  },
  {
   "cell_type": "code",
   "execution_count": 5,
   "metadata": {},
   "outputs": [
    {
     "name": "stdout",
     "output_type": "stream",
     "text": [
      "             pw\n",
      "0   07606374520\n",
      "1  piontekendre\n",
      "2      rambo144\n",
      "3     primoz123\n",
      "4       sal1387\n",
      "                  pw\n",
      "2151215     26778982\n",
      "2151216      brazer1\n",
      "2151217   usethisone\n",
      "2151218  scare222273\n",
      "2151219     anto1962\n"
     ]
    }
   ],
   "source": [
    "print(df.head())\n",
    "print(df.tail())"
   ]
  },
  {
   "cell_type": "markdown",
   "metadata": {},
   "source": [
    "### Password Length"
   ]
  },
  {
   "cell_type": "code",
   "execution_count": 6,
   "metadata": {},
   "outputs": [
    {
     "name": "stdout",
     "output_type": "stream",
     "text": [
      "most common length:  8.0 characters\n"
     ]
    },
    {
     "data": {
      "image/png": "[encoded data removed]",
      "text/plain": [
       "<Figure size 1080x288 with 1 Axes>"
      ]
     },
     "metadata": {
      "needs_background": "light"
     },
     "output_type": "display_data"
    }
   ],
   "source": [
    "# How many characters do most people use?\n",
    "df['pwlength']=df.pw.str.len()\n",
    "pp = df['pwlength'].hist()\n",
    "z = pp.set_xlabel(\"Character Length\")\n",
    "z = pp.set_ylabel(\"Passwords\")\n",
    "print('most common length: ',df['pwlength'].mode().max(), 'characters')"
   ]
  },
  {
   "cell_type": "code",
   "execution_count": 7,
   "metadata": {},
   "outputs": [
    {
     "name": "stdout",
     "output_type": "stream",
     "text": [
      "                                   pw  pwlength\n",
      "457967  a42bdef285d431054f2848d30afac      29.0\n",
      "783909  dj-explosion_isan@hotmail.com      29.0\n",
      "290961  namfon_love_i.p.v@hotmail.com      29.0\n",
      "883469  111-222-1933email@address.com      29.0\n",
      "220542  835B2D5E447C64B9A5782DD76353A      29.0\n",
      "        pw  pwlength\n",
      "755964   m       1.0\n",
      "1221451  j       1.0\n",
      "1056313  3       1.0\n",
      "1669953  8       1.0\n",
      "1966571  ;       1.0\n"
     ]
    }
   ],
   "source": [
    "#Look at some of the longest and shortest passwords\n",
    "print(df.sort_values(by='pwlength',ascending=False).head())\n",
    "print(df.sort_values(by='pwlength').head())"
   ]
  },
  {
   "cell_type": "markdown",
   "metadata": {},
   "source": [
    "### Characters Used\n",
    "which are most common?"
   ]
  },
  {
   "cell_type": "code",
   "execution_count": 8,
   "metadata": {},
   "outputs": [],
   "source": [
    "import nltk\n",
    "\n",
    "pwStr = df.pw.str.cat(sep=' ')\n",
    "\n",
    "def fnPlotOccurence(fdist):\n",
    "    df2 = pd.DataFrame.from_dict(fdist, orient='index', columns=['freq'])\n",
    "    df2['occurence']= df2.freq / len(df.pw.str.cat()) # % of all characters\n",
    "    df2.sort_index().plot.bar(y='occurence')"
   ]
  },
  {
   "cell_type": "code",
   "execution_count": 9,
   "metadata": {},
   "outputs": [
    {
     "data": {
      "image/png": "[encoded data removed]",
      "text/plain": [
       "<Figure size 1080x288 with 1 Axes>"
      ]
     },
     "metadata": {
      "needs_background": "light"
     },
     "output_type": "display_data"
    }
   ],
   "source": [
    "# character frequency\n",
    "fdist = nltk.FreqDist(ch.lower() for ch in pwStr if ch.isalpha())\n",
    "fnPlotOccurence(fdist)"
   ]
  },
  {
   "cell_type": "code",
   "execution_count": 10,
   "metadata": {},
   "outputs": [
    {
     "data": {
      "image/png": "[encoded data removed]",
      "text/plain": [
       "<Figure size 1080x288 with 1 Axes>"
      ]
     },
     "metadata": {
      "needs_background": "light"
     },
     "output_type": "display_data"
    }
   ],
   "source": [
    "# digit frequency\n",
    "fdist = nltk.FreqDist(ch.lower() for ch in pwStr if ch.isdigit())\n",
    "fnPlotOccurence(fdist)"
   ]
  },
  {
   "cell_type": "code",
   "execution_count": 11,
   "metadata": {},
   "outputs": [
    {
     "data": {
      "image/png": "[encoded data removed]",
      "text/plain": [
       "<Figure size 1080x288 with 1 Axes>"
      ]
     },
     "metadata": {
      "needs_background": "light"
     },
     "output_type": "display_data"
    }
   ],
   "source": [
    "#special character\n",
    "fdist = nltk.FreqDist(ch.lower() for ch in df.pw.str.cat() if not ch.isalnum())\n",
    "fnPlotOccurence(fdist)"
   ]
  },
  {
   "cell_type": "code",
   "execution_count": 12,
   "metadata": {
    "scrolled": true
   },
   "outputs": [
    {
     "name": "stdout",
     "output_type": "stream",
     "text": [
      "people use special characters 3.06% of the time\n"
     ]
    }
   ],
   "source": [
    "# how often is special case used?\n",
    "df['specialChar']=df.pw.apply(lambda s: not str(s).isalnum())\n",
    "print('people use special characters {:.2%} of the time'.format(\n",
    "    df.pw[df['specialChar']==True].size / df.pw.size))"
   ]
  },
  {
   "cell_type": "markdown",
   "metadata": {},
   "source": [
    "### Common Phrases\n",
    "to do: use nltk.util ngrams"
   ]
  },
  {
   "cell_type": "code",
   "execution_count": 13,
   "metadata": {},
   "outputs": [],
   "source": [
    "import re\n",
    "from collections import Counter\n",
    "\n",
    "import ray\n",
    "import multiprocessing"
   ]
  },
  {
   "cell_type": "code",
   "execution_count": 14,
   "metadata": {},
   "outputs": [
    {
     "name": "stderr",
     "output_type": "stream",
     "text": [
      "2019-05-11 18:20:39,293\tWARNING worker.py:1337 -- WARNING: Not updating worker name since `setproctitle` is not installed. Install this with `pip install setproctitle` (or ray[debug]) to enable monitoring of worker processes.\n",
      "2019-05-11 18:20:39,302\tINFO node.py:469 -- Process STDOUT and STDERR is being redirected to /tmp/ray/session_2019-05-11_18-20-39_3666/logs.\n",
      "2019-05-11 18:20:39,453\tINFO services.py:407 -- Waiting for redis server at 127.0.0.1:34569 to respond...\n",
      "2019-05-11 18:20:39,583\tINFO services.py:407 -- Waiting for redis server at 127.0.0.1:27848 to respond...\n",
      "2019-05-11 18:20:39,586\tINFO services.py:804 -- Starting Redis shard with 1.01 GB max memory.\n",
      "2019-05-11 18:20:39,619\tINFO node.py:483 -- Process STDOUT and STDERR is being redirected to /tmp/ray/session_2019-05-11_18-20-39_3666/logs.\n",
      "2019-05-11 18:20:39,623\tINFO services.py:1427 -- Starting the Plasma object store with 1.51 GB memory using /dev/shm.\n"
     ]
    },
    {
     "data": {
      "text/plain": [
       "{'node_ip_address': '10.0.2.15',\n",
       " 'redis_address': '10.0.2.15:34569',\n",
       " 'object_store_address': '/tmp/ray/session_2019-05-11_18-20-39_3666/sockets/plasma_store',\n",
       " 'raylet_socket_name': '/tmp/ray/session_2019-05-11_18-20-39_3666/sockets/raylet',\n",
       " 'webui_url': None}"
      ]
     },
     "execution_count": 14,
     "metadata": {},
     "output_type": "execute_result"
    }
   ],
   "source": [
    "ray.init()  #kick off multi-threading\n",
    "\n",
    "@ray.remote\n",
    "def mostCommonStrings(charLen,s):\n",
    "    cnt = Counter()\n",
    "    t = len(s) - (charLen - 1)\n",
    "    \n",
    "    for i in range(t):\n",
    "        \n",
    "        # a sequence of characters being considered\n",
    "        char = s[i:i+charLen]                \n",
    "        \n",
    "        # let's only look at alpha strings\n",
    "        allAlpha = True\n",
    "        for j in range(charLen):\n",
    "            if not char[j].isalpha():\n",
    "                allAlpha = False\n",
    "                break\n",
    "            \n",
    "        if allAlpha:\n",
    "            numFound = len(re.findall(char,s))\n",
    "            if numFound>1:\n",
    "                cnt[char] = numFound\n",
    "    \n",
    "    return dict(cnt)"
   ]
  },
  {
   "cell_type": "code",
   "execution_count": 15,
   "metadata": {},
   "outputs": [
    {
     "name": "stdout",
     "output_type": "stream",
     "text": [
      "6453660\n",
      "threads, batchSize = 4, 25000.0\n"
     ]
    }
   ],
   "source": [
    "threads = multiprocessing.cpu_count()\n",
    "print(df.size)\n",
    "batchSize = df.size / threads\n",
    "batchSize = 100000 / threads\n",
    "print('threads, batchSize = {}, {}'.format(threads,batchSize))"
   ]
  },
  {
   "cell_type": "code",
   "execution_count": 16,
   "metadata": {},
   "outputs": [
    {
     "name": "stdout",
     "output_type": "stream",
     "text": [
      "most common 4 digit strings are [('love', 574), ('wang', 286), ('hang', 285), ('chen', 274), ('iang', 256)]\n",
      "most common 5 digit strings are [('zhang', 182), ('admin', 180), ('ilove', 161), ('angel', 89), ('huang', 87)]\n",
      "most common 6 digit strings are [('ssword', 64), ('asswor', 62), ('passwo', 59), ('master', 55), ('woaini', 52)]\n",
      "most common 7 digit strings are [('assword', 60), ('passwor', 59), ('forever', 36), ('dearboo', 33), ('earbook', 33)]\n",
      "most common 8 digit strings are [('password', 57), ('dearbook', 33), ('iloveyou', 19), ('computer', 12), ('kikugala', 10)]\n",
      "CPU times: user 5.4 s, sys: 408 ms, total: 5.81 s\n",
      "Wall time: 4min 49s\n"
     ]
    }
   ],
   "source": [
    "%%time\n",
    "\n",
    "for charLen in range(4,9):   # look at strings of len 4 up to 8\n",
    "    cnt = Counter()\n",
    "    for i in range(threads):\n",
    "        s = df[int(i * batchSize) : int(i * batchSize + batchSize) ].pw.str.cat()\n",
    "        cnt += ray.get(mostCommonStrings.remote(charLen,s)) \n",
    "    print(\"most common {} digit strings are {}\".format(charLen,cnt.most_common(5)))"
   ]
  },
  {
   "cell_type": "code",
   "execution_count": 17,
   "metadata": {},
   "outputs": [],
   "source": [
    "ray.shutdown()"
   ]
  },
  {
   "cell_type": "code",
   "execution_count": 18,
   "metadata": {},
   "outputs": [
    {
     "name": "stdout",
     "output_type": "stream",
     "text": [
      "records= 511\n"
     ]
    }
   ],
   "source": [
    "df3 = pd.DataFrame.from_dict(cnt, orient='index').reset_index()\n",
    "if df3.columns.size==2:\n",
    "    df3.columns = ['char','freq']\n",
    "    #df3['freq']=df3.freq.apply(lambda x: math.sqrt(x))\n",
    "    df3['charLen']=df3.char.apply(lambda str: len(str))\n",
    "print('records=',df3.shape[0])"
   ]
  },
  {
   "cell_type": "code",
   "execution_count": 2,
   "metadata": {},
   "outputs": [
    {
     "data": {
      "text/html": [
       "<div>\n",
       "<style scoped>\n",
       "    .dataframe tbody tr th:only-of-type {\n",
       "        vertical-align: middle;\n",
       "    }\n",
       "\n",
       "    .dataframe tbody tr th {\n",
       "        vertical-align: top;\n",
       "    }\n",
       "\n",
       "    .dataframe thead th {\n",
       "        text-align: right;\n",
       "    }\n",
       "</style>\n",
       "<table border=\"1\" class=\"dataframe\">\n",
       "  <thead>\n",
       "    <tr style=\"text-align: right;\">\n",
       "      <th></th>\n",
       "      <th>char</th>\n",
       "      <th>freq</th>\n",
       "      <th>charLen</th>\n",
       "      <th>word</th>\n",
       "      <th>lem</th>\n",
       "    </tr>\n",
       "  </thead>\n",
       "  <tbody>\n",
       "    <tr>\n",
       "      <th>0</th>\n",
       "      <td>marketin</td>\n",
       "      <td>2</td>\n",
       "      <td>8</td>\n",
       "      <td>0</td>\n",
       "      <td>marketin</td>\n",
       "    </tr>\n",
       "    <tr>\n",
       "      <th>1</th>\n",
       "      <td>arketing</td>\n",
       "      <td>2</td>\n",
       "      <td>8</td>\n",
       "      <td>0</td>\n",
       "      <td>arketing</td>\n",
       "    </tr>\n",
       "  </tbody>\n",
       "</table>\n",
       "</div>"
      ],
      "text/plain": [
       "       char  freq  charLen  word       lem\n",
       "0  marketin     2        8     0  marketin\n",
       "1  arketing     2        8     0  arketing"
      ]
     },
     "execution_count": 2,
     "metadata": {},
     "output_type": "execute_result"
    }
   ],
   "source": [
    "# df3.to_csv('data/pwAnalysis.csv',index=False)\n",
    "df3 = pd.read_csv('data/pwAnalysis.csv')\n",
    "df3.head(2)"
   ]
  },
  {
   "cell_type": "code",
   "execution_count": 3,
   "metadata": {},
   "outputs": [],
   "source": [
    "from nltk.corpus import words\n",
    "df3['word']=df3.char.apply(lambda m: 1 if m.lower() in map(str.lower, words.words()) else 0)"
   ]
  },
  {
   "cell_type": "code",
   "execution_count": 4,
   "metadata": {},
   "outputs": [
    {
     "name": "stdout",
     "output_type": "stream",
     "text": [
      "most common words are\n"
     ]
    },
    {
     "data": {
      "text/plain": [
       "'password|computer|superman|scorpion|football|remember|shopping|princess|atherine|december|security|nicholas|predator|victoria|resident|mercedes|volution|november|sunshine|valentin|caroline|cherokee|anderson|cristina|tropical|twilight|solution|fighting|magdalen|ultimate|shanghai|elephant|danielle|baseball|creative|Marianne|jeremias|michelle|brittany|freehand|together|illinois|samantha|notebook|Sunshine|maverick|spinning|february|constant|giovanni'"
      ]
     },
     "execution_count": 4,
     "metadata": {},
     "output_type": "execute_result"
    }
   ],
   "source": [
    "print('most common words are')\n",
    "df3[df3.word==True].sort_values(['charLen', 'freq'], ascending=[False, False]).char.head(50).str.cat(sep='|')"
   ]
  },
  {
   "cell_type": "code",
   "execution_count": 7,
   "metadata": {},
   "outputs": [
    {
     "data": {
      "text/html": [
       "<div>\n",
       "<style scoped>\n",
       "    .dataframe tbody tr th:only-of-type {\n",
       "        vertical-align: middle;\n",
       "    }\n",
       "\n",
       "    .dataframe tbody tr th {\n",
       "        vertical-align: top;\n",
       "    }\n",
       "\n",
       "    .dataframe thead th {\n",
       "        text-align: right;\n",
       "    }\n",
       "</style>\n",
       "<table border=\"1\" class=\"dataframe\">\n",
       "  <thead>\n",
       "    <tr style=\"text-align: right;\">\n",
       "      <th></th>\n",
       "      <th>char</th>\n",
       "      <th>freq</th>\n",
       "      <th>occurence</th>\n",
       "    </tr>\n",
       "  </thead>\n",
       "  <tbody>\n",
       "    <tr>\n",
       "      <th>7</th>\n",
       "      <td>123</td>\n",
       "      <td>11887</td>\n",
       "      <td>0.005526</td>\n",
       "    </tr>\n",
       "    <tr>\n",
       "      <th>3</th>\n",
       "      <td>wang</td>\n",
       "      <td>5135</td>\n",
       "      <td>0.002387</td>\n",
       "    </tr>\n",
       "    <tr>\n",
       "      <th>0</th>\n",
       "      <td>love</td>\n",
       "      <td>4739</td>\n",
       "      <td>0.002203</td>\n",
       "    </tr>\n",
       "    <tr>\n",
       "      <th>2</th>\n",
       "      <td>man</td>\n",
       "      <td>3623</td>\n",
       "      <td>0.001684</td>\n",
       "    </tr>\n",
       "    <tr>\n",
       "      <th>6</th>\n",
       "      <td>and</td>\n",
       "      <td>2429</td>\n",
       "      <td>0.001129</td>\n",
       "    </tr>\n",
       "    <tr>\n",
       "      <th>1</th>\n",
       "      <td>pass</td>\n",
       "      <td>1812</td>\n",
       "      <td>0.000842</td>\n",
       "    </tr>\n",
       "    <tr>\n",
       "      <th>4</th>\n",
       "      <td>dragon</td>\n",
       "      <td>648</td>\n",
       "      <td>0.000301</td>\n",
       "    </tr>\n",
       "    <tr>\n",
       "      <th>8</th>\n",
       "      <td>windows</td>\n",
       "      <td>292</td>\n",
       "      <td>0.000136</td>\n",
       "    </tr>\n",
       "    <tr>\n",
       "      <th>5</th>\n",
       "      <td>zzzz</td>\n",
       "      <td>112</td>\n",
       "      <td>0.000052</td>\n",
       "    </tr>\n",
       "  </tbody>\n",
       "</table>\n",
       "</div>"
      ],
      "text/plain": [
       "      char   freq  occurence\n",
       "7      123  11887   0.005526\n",
       "3     wang   5135   0.002387\n",
       "0     love   4739   0.002203\n",
       "2      man   3623   0.001684\n",
       "6      and   2429   0.001129\n",
       "1     pass   1812   0.000842\n",
       "4   dragon    648   0.000301\n",
       "8  windows    292   0.000136\n",
       "5     zzzz    112   0.000052"
      ]
     },
     "execution_count": 7,
     "metadata": {},
     "output_type": "execute_result"
    }
   ],
   "source": [
    "#how often do these phrases appear?\n",
    "df5 = pd.DataFrame({'char':['love','pass','man','wang','dragon','zzzz','and','123','windows']})\n",
    "df5['freq']= df5.char.apply(lambda ch: df[df.pw.str.lower().str.match(ch.lower(),na=False)].shape[0])\n",
    "df5['occurence']= df5.char.apply(lambda ch: df[df.pw.str.lower().str.match(ch.lower(),na=False)].shape[0] / df.shape[0])\n",
    "df5.sort_values(by='freq',ascending=False)"
   ]
  },
  {
   "cell_type": "code",
   "execution_count": 8,
   "metadata": {},
   "outputs": [
    {
     "data": {
      "text/plain": [
       "'original count: 511'"
      ]
     },
     "execution_count": 8,
     "metadata": {},
     "output_type": "execute_result"
    },
    {
     "data": {
      "text/plain": [
       "'lemmatized count: 511'"
      ]
     },
     "execution_count": 8,
     "metadata": {},
     "output_type": "execute_result"
    },
    {
     "data": {
      "text/plain": [
       "'phoenetic count: 486'"
      ]
     },
     "execution_count": 8,
     "metadata": {},
     "output_type": "execute_result"
    }
   ],
   "source": [
    "from nltk.stem import WordNetLemmatizer \n",
    "import jellyfish\n",
    "\n",
    "lemmatizer = WordNetLemmatizer()\n",
    "# nltk.download('wordnet')\n",
    "\n",
    "df3['lem'] = [lemmatizer.lemmatize(r.char) for r in df3.itertuples()]\n",
    "df3['phoenetic'] = [jellyfish.metaphone(r.char) for r in df3.itertuples()]\n",
    "\n",
    "'original count: {}'.format(df3.char.nunique())\n",
    "'lemmatized count: {}'.format(df3.lem.nunique())\n",
    "'phoenetic count: {}'.format(df3.phoenetic.nunique())"
   ]
  },
  {
   "cell_type": "code",
   "execution_count": 10,
   "metadata": {},
   "outputs": [
    {
     "data": {
      "text/html": [
       "<div>\n",
       "<style scoped>\n",
       "    .dataframe tbody tr th:only-of-type {\n",
       "        vertical-align: middle;\n",
       "    }\n",
       "\n",
       "    .dataframe tbody tr th {\n",
       "        vertical-align: top;\n",
       "    }\n",
       "\n",
       "    .dataframe thead th {\n",
       "        text-align: right;\n",
       "    }\n",
       "</style>\n",
       "<table border=\"1\" class=\"dataframe\">\n",
       "  <thead>\n",
       "    <tr style=\"text-align: right;\">\n",
       "      <th></th>\n",
       "      <th>char</th>\n",
       "      <th>freq</th>\n",
       "      <th>charLen</th>\n",
       "      <th>word</th>\n",
       "      <th>lem</th>\n",
       "      <th>phoenetic</th>\n",
       "    </tr>\n",
       "  </thead>\n",
       "  <tbody>\n",
       "    <tr>\n",
       "      <th>429</th>\n",
       "      <td>asswordy</td>\n",
       "      <td>2</td>\n",
       "      <td>8</td>\n",
       "      <td>0</td>\n",
       "      <td>asswordy</td>\n",
       "      <td>ASWRT</td>\n",
       "    </tr>\n",
       "    <tr>\n",
       "      <th>212</th>\n",
       "      <td>assworde</td>\n",
       "      <td>2</td>\n",
       "      <td>8</td>\n",
       "      <td>0</td>\n",
       "      <td>assworde</td>\n",
       "      <td>ASWRT</td>\n",
       "    </tr>\n",
       "    <tr>\n",
       "      <th>11</th>\n",
       "      <td>hangyang</td>\n",
       "      <td>2</td>\n",
       "      <td>8</td>\n",
       "      <td>0</td>\n",
       "      <td>hangyang</td>\n",
       "      <td>HNJYNK</td>\n",
       "    </tr>\n",
       "    <tr>\n",
       "      <th>377</th>\n",
       "      <td>hangying</td>\n",
       "      <td>2</td>\n",
       "      <td>8</td>\n",
       "      <td>0</td>\n",
       "      <td>hangying</td>\n",
       "      <td>HNJYNK</td>\n",
       "    </tr>\n",
       "    <tr>\n",
       "      <th>480</th>\n",
       "      <td>hangqian</td>\n",
       "      <td>2</td>\n",
       "      <td>8</td>\n",
       "      <td>0</td>\n",
       "      <td>hangqian</td>\n",
       "      <td>HNKKN</td>\n",
       "    </tr>\n",
       "    <tr>\n",
       "      <th>305</th>\n",
       "      <td>HANGQIAN</td>\n",
       "      <td>2</td>\n",
       "      <td>8</td>\n",
       "      <td>0</td>\n",
       "      <td>HANGQIAN</td>\n",
       "      <td>HNKKN</td>\n",
       "    </tr>\n",
       "    <tr>\n",
       "      <th>161</th>\n",
       "      <td>kikugala</td>\n",
       "      <td>10</td>\n",
       "      <td>8</td>\n",
       "      <td>0</td>\n",
       "      <td>kikugala</td>\n",
       "      <td>KKKL</td>\n",
       "    </tr>\n",
       "    <tr>\n",
       "      <th>435</th>\n",
       "      <td>cocacola</td>\n",
       "      <td>2</td>\n",
       "      <td>8</td>\n",
       "      <td>0</td>\n",
       "      <td>cocacola</td>\n",
       "      <td>KKKL</td>\n",
       "    </tr>\n",
       "    <tr>\n",
       "      <th>57</th>\n",
       "      <td>caroline</td>\n",
       "      <td>2</td>\n",
       "      <td>8</td>\n",
       "      <td>1</td>\n",
       "      <td>caroline</td>\n",
       "      <td>KRLN</td>\n",
       "    </tr>\n",
       "    <tr>\n",
       "      <th>449</th>\n",
       "      <td>karolina</td>\n",
       "      <td>2</td>\n",
       "      <td>8</td>\n",
       "      <td>0</td>\n",
       "      <td>karolina</td>\n",
       "      <td>KRLN</td>\n",
       "    </tr>\n",
       "    <tr>\n",
       "      <th>442</th>\n",
       "      <td>cdearboo</td>\n",
       "      <td>2</td>\n",
       "      <td>8</td>\n",
       "      <td>0</td>\n",
       "      <td>cdearboo</td>\n",
       "      <td>KTRB</td>\n",
       "    </tr>\n",
       "    <tr>\n",
       "      <th>192</th>\n",
       "      <td>gdearboo</td>\n",
       "      <td>3</td>\n",
       "      <td>8</td>\n",
       "      <td>0</td>\n",
       "      <td>gdearboo</td>\n",
       "      <td>KTRB</td>\n",
       "    </tr>\n",
       "    <tr>\n",
       "      <th>479</th>\n",
       "      <td>Liverpoo</td>\n",
       "      <td>2</td>\n",
       "      <td>8</td>\n",
       "      <td>0</td>\n",
       "      <td>Liverpoo</td>\n",
       "      <td>LFRP</td>\n",
       "    </tr>\n",
       "    <tr>\n",
       "      <th>63</th>\n",
       "      <td>liverpoo</td>\n",
       "      <td>6</td>\n",
       "      <td>8</td>\n",
       "      <td>0</td>\n",
       "      <td>liverpoo</td>\n",
       "      <td>LFRP</td>\n",
       "    </tr>\n",
       "    <tr>\n",
       "      <th>432</th>\n",
       "      <td>logitech</td>\n",
       "      <td>2</td>\n",
       "      <td>8</td>\n",
       "      <td>0</td>\n",
       "      <td>logitech</td>\n",
       "      <td>LJTX</td>\n",
       "    </tr>\n",
       "    <tr>\n",
       "      <th>307</th>\n",
       "      <td>Logitech</td>\n",
       "      <td>2</td>\n",
       "      <td>8</td>\n",
       "      <td>0</td>\n",
       "      <td>Logitech</td>\n",
       "      <td>LJTX</td>\n",
       "    </tr>\n",
       "    <tr>\n",
       "      <th>171</th>\n",
       "      <td>llerpilz</td>\n",
       "      <td>2</td>\n",
       "      <td>8</td>\n",
       "      <td>0</td>\n",
       "      <td>llerpilz</td>\n",
       "      <td>LRPLS</td>\n",
       "    </tr>\n",
       "    <tr>\n",
       "      <th>172</th>\n",
       "      <td>lerpilze</td>\n",
       "      <td>2</td>\n",
       "      <td>8</td>\n",
       "      <td>0</td>\n",
       "      <td>lerpilze</td>\n",
       "      <td>LRPLS</td>\n",
       "    </tr>\n",
       "    <tr>\n",
       "      <th>2</th>\n",
       "      <td>mengmeng</td>\n",
       "      <td>2</td>\n",
       "      <td>8</td>\n",
       "      <td>0</td>\n",
       "      <td>mengmeng</td>\n",
       "      <td>MNKMNK</td>\n",
       "    </tr>\n",
       "    <tr>\n",
       "      <th>107</th>\n",
       "      <td>mingming</td>\n",
       "      <td>4</td>\n",
       "      <td>8</td>\n",
       "      <td>0</td>\n",
       "      <td>mingming</td>\n",
       "      <td>MNKMNK</td>\n",
       "    </tr>\n",
       "  </tbody>\n",
       "</table>\n",
       "</div>"
      ],
      "text/plain": [
       "         char  freq  charLen  word       lem phoenetic\n",
       "429  asswordy     2        8     0  asswordy     ASWRT\n",
       "212  assworde     2        8     0  assworde     ASWRT\n",
       "11   hangyang     2        8     0  hangyang    HNJYNK\n",
       "377  hangying     2        8     0  hangying    HNJYNK\n",
       "480  hangqian     2        8     0  hangqian     HNKKN\n",
       "305  HANGQIAN     2        8     0  HANGQIAN     HNKKN\n",
       "161  kikugala    10        8     0  kikugala      KKKL\n",
       "435  cocacola     2        8     0  cocacola      KKKL\n",
       "57   caroline     2        8     1  caroline      KRLN\n",
       "449  karolina     2        8     0  karolina      KRLN\n",
       "442  cdearboo     2        8     0  cdearboo      KTRB\n",
       "192  gdearboo     3        8     0  gdearboo      KTRB\n",
       "479  Liverpoo     2        8     0  Liverpoo      LFRP\n",
       "63   liverpoo     6        8     0  liverpoo      LFRP\n",
       "432  logitech     2        8     0  logitech      LJTX\n",
       "307  Logitech     2        8     0  Logitech      LJTX\n",
       "171  llerpilz     2        8     0  llerpilz     LRPLS\n",
       "172  lerpilze     2        8     0  lerpilze     LRPLS\n",
       "2    mengmeng     2        8     0  mengmeng    MNKMNK\n",
       "107  mingming     4        8     0  mingming    MNKMNK"
      ]
     },
     "execution_count": 10,
     "metadata": {},
     "output_type": "execute_result"
    }
   ],
   "source": [
    "#lemmatizing didn't matter; everything's distinct\n",
    "#look at phoenitcally similar\n",
    "df3[(df3.duplicated('phoenetic',keep=False))].sort_values('phoenetic').head(20)"
   ]
  }
 ],
 "metadata": {
  "kernelspec": {
   "display_name": "Python 3",
   "language": "python",
   "name": "python3"
  },
  "language_info": {
   "codemirror_mode": {
    "name": "ipython",
    "version": 3
   },
   "file_extension": ".py",
   "mimetype": "text/x-python",
   "name": "python",
   "nbconvert_exporter": "python",
   "pygments_lexer": "ipython3",
   "version": "3.6.8"
  },
  "toc": {
   "base_numbering": 1,
   "nav_menu": {},
   "number_sections": true,
   "sideBar": true,
   "skip_h1_title": false,
   "title_cell": "Table of Contents",
   "title_sidebar": "Contents",
   "toc_cell": false,
   "toc_position": {},
   "toc_section_display": true,
   "toc_window_display": false
  }
 },
 "nbformat": 4,
 "nbformat_minor": 2
}
