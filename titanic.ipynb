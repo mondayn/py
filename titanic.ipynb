{
 "cells": [
  {
   "cell_type": "code",
   "execution_count": 82,
   "metadata": {},
   "outputs": [],
   "source": [
    "import pandas as pd\n",
    "import numpy as np\n",
    "import matplotlib.pyplot as plt\n",
    "%matplotlib inline\n",
    "\n",
    "from IPython.core.interactiveshell import InteractiveShell\n",
    "InteractiveShell.ast_node_interactivity = \"all\" "
   ]
  },
  {
   "cell_type": "markdown",
   "metadata": {},
   "source": [
    "## training set"
   ]
  },
  {
   "cell_type": "code",
   "execution_count": 47,
   "metadata": {},
   "outputs": [
    {
     "data": {
      "text/html": [
       "<div>\n",
       "<style scoped>\n",
       "    .dataframe tbody tr th:only-of-type {\n",
       "        vertical-align: middle;\n",
       "    }\n",
       "\n",
       "    .dataframe tbody tr th {\n",
       "        vertical-align: top;\n",
       "    }\n",
       "\n",
       "    .dataframe thead th {\n",
       "        text-align: right;\n",
       "    }\n",
       "</style>\n",
       "<table border=\"1\" class=\"dataframe\">\n",
       "  <thead>\n",
       "    <tr style=\"text-align: right;\">\n",
       "      <th></th>\n",
       "      <th>PassengerId</th>\n",
       "      <th>Survived</th>\n",
       "      <th>Pclass</th>\n",
       "      <th>Name</th>\n",
       "      <th>Sex</th>\n",
       "      <th>Age</th>\n",
       "      <th>SibSp</th>\n",
       "      <th>Parch</th>\n",
       "      <th>Ticket</th>\n",
       "      <th>Fare</th>\n",
       "      <th>Cabin</th>\n",
       "      <th>Embarked</th>\n",
       "    </tr>\n",
       "  </thead>\n",
       "  <tbody>\n",
       "    <tr>\n",
       "      <th>0</th>\n",
       "      <td>1</td>\n",
       "      <td>0</td>\n",
       "      <td>3</td>\n",
       "      <td>Braund, Mr. Owen Harris</td>\n",
       "      <td>male</td>\n",
       "      <td>22.0</td>\n",
       "      <td>1</td>\n",
       "      <td>0</td>\n",
       "      <td>A/5 21171</td>\n",
       "      <td>7.2500</td>\n",
       "      <td>NaN</td>\n",
       "      <td>S</td>\n",
       "    </tr>\n",
       "    <tr>\n",
       "      <th>1</th>\n",
       "      <td>2</td>\n",
       "      <td>1</td>\n",
       "      <td>1</td>\n",
       "      <td>Cumings, Mrs. John Bradley (Florence Briggs Th...</td>\n",
       "      <td>female</td>\n",
       "      <td>38.0</td>\n",
       "      <td>1</td>\n",
       "      <td>0</td>\n",
       "      <td>PC 17599</td>\n",
       "      <td>71.2833</td>\n",
       "      <td>C85</td>\n",
       "      <td>C</td>\n",
       "    </tr>\n",
       "    <tr>\n",
       "      <th>2</th>\n",
       "      <td>3</td>\n",
       "      <td>1</td>\n",
       "      <td>3</td>\n",
       "      <td>Heikkinen, Miss. Laina</td>\n",
       "      <td>female</td>\n",
       "      <td>26.0</td>\n",
       "      <td>0</td>\n",
       "      <td>0</td>\n",
       "      <td>STON/O2. 3101282</td>\n",
       "      <td>7.9250</td>\n",
       "      <td>NaN</td>\n",
       "      <td>S</td>\n",
       "    </tr>\n",
       "    <tr>\n",
       "      <th>3</th>\n",
       "      <td>4</td>\n",
       "      <td>1</td>\n",
       "      <td>1</td>\n",
       "      <td>Futrelle, Mrs. Jacques Heath (Lily May Peel)</td>\n",
       "      <td>female</td>\n",
       "      <td>35.0</td>\n",
       "      <td>1</td>\n",
       "      <td>0</td>\n",
       "      <td>113803</td>\n",
       "      <td>53.1000</td>\n",
       "      <td>C123</td>\n",
       "      <td>S</td>\n",
       "    </tr>\n",
       "    <tr>\n",
       "      <th>4</th>\n",
       "      <td>5</td>\n",
       "      <td>0</td>\n",
       "      <td>3</td>\n",
       "      <td>Allen, Mr. William Henry</td>\n",
       "      <td>male</td>\n",
       "      <td>35.0</td>\n",
       "      <td>0</td>\n",
       "      <td>0</td>\n",
       "      <td>373450</td>\n",
       "      <td>8.0500</td>\n",
       "      <td>NaN</td>\n",
       "      <td>S</td>\n",
       "    </tr>\n",
       "  </tbody>\n",
       "</table>\n",
       "</div>"
      ],
      "text/plain": [
       "   PassengerId  Survived  Pclass  \\\n",
       "0            1         0       3   \n",
       "1            2         1       1   \n",
       "2            3         1       3   \n",
       "3            4         1       1   \n",
       "4            5         0       3   \n",
       "\n",
       "                                                Name     Sex   Age  SibSp  \\\n",
       "0                            Braund, Mr. Owen Harris    male  22.0      1   \n",
       "1  Cumings, Mrs. John Bradley (Florence Briggs Th...  female  38.0      1   \n",
       "2                             Heikkinen, Miss. Laina  female  26.0      0   \n",
       "3       Futrelle, Mrs. Jacques Heath (Lily May Peel)  female  35.0      1   \n",
       "4                           Allen, Mr. William Henry    male  35.0      0   \n",
       "\n",
       "   Parch            Ticket     Fare Cabin Embarked  \n",
       "0      0         A/5 21171   7.2500   NaN        S  \n",
       "1      0          PC 17599  71.2833   C85        C  \n",
       "2      0  STON/O2. 3101282   7.9250   NaN        S  \n",
       "3      0            113803  53.1000  C123        S  \n",
       "4      0            373450   8.0500   NaN        S  "
      ]
     },
     "execution_count": 47,
     "metadata": {},
     "output_type": "execute_result"
    },
    {
     "name": "stdout",
     "output_type": "stream",
     "text": [
      "Age                  Non Null 177\n",
      "Cabin                Non Null 687\n",
      "Embarked             Non Null 2\n"
     ]
    }
   ],
   "source": [
    "train = pd.read_csv('titanic/train.csv')\n",
    "# print(\"num records={}\".format(train.shape[0]))\n",
    "train.head()\n",
    "# train.info()\n",
    "\n",
    "s = train.isnull().sum()\n",
    "for i, v in s.items():\n",
    "    if(v != 0):\n",
    "        print(\"{0:<20s} Non Null {1}\".format(i,v))\n",
    "    "
   ]
  },
  {
   "cell_type": "markdown",
   "metadata": {},
   "source": [
    "'PassengerId' --id\n",
    " 'Ticket',  --ticket #\n",
    " 'Name', \n",
    " 'Cabin' --cabin #\n",
    "\n",
    "--yhat\n",
    "'Survived', --1 for survived\n",
    "\n",
    "--dont use\n",
    " 'Fare',  -- $ paid\n",
    "\n",
    "--use\n",
    "'Pclass', --values 1 for upper,2,3 for lower\n",
    " 'SibSp',  -- # of sybilings?\n",
    " 'Parch',  -- 0 for nanny\n",
    "'Embarked' -- S, C or Q for port of embarkation\n",
    "\n",
    "--use, needs buckets\n",
    " 'Age',  --numeric 0 to 80 ish\n",
    "\n",
    "--use, needs dummies\n",
    "  'Sex', --male or female "
   ]
  },
  {
   "cell_type": "code",
   "execution_count": 221,
   "metadata": {},
   "outputs": [
    {
     "data": {
      "image/png": "[encoded data removed]",
      "text/plain": [
       "<Figure size 432x288 with 1 Axes>"
      ]
     },
     "metadata": {},
     "output_type": "display_data"
    }
   ],
   "source": [
    "plt.ylabel('# passengers')\n",
    "plt.xlabel('Fare')\n",
    "plt.hist(train.Fare[train.Fare <= 1000].dropna());"
   ]
  },
  {
   "cell_type": "code",
   "execution_count": 223,
   "metadata": {},
   "outputs": [
    {
     "data": {
      "image/png": "[encoded data removed]",
      "text/plain": [
       "<Figure size 432x288 with 1 Axes>"
      ]
     },
     "metadata": {},
     "output_type": "display_data"
    }
   ],
   "source": [
    "plt.ylabel('# passengers')\n",
    "plt.xlabel('Age')\n",
    "plt.hist(train.Age.dropna());"
   ]
  },
  {
   "cell_type": "code",
   "execution_count": 224,
   "metadata": {},
   "outputs": [
    {
     "data": {
      "text/plain": [
       "0    515\n",
       "1    200\n",
       "2     54\n",
       "3     48\n",
       "5     33\n",
       "4     21\n",
       "6     17\n",
       "7      3\n",
       "Name: FareCat, dtype: int64"
      ]
     },
     "execution_count": 224,
     "metadata": {},
     "output_type": "execute_result"
    },
    {
     "data": {
      "text/plain": [
       "2    373\n",
       "1    188\n",
       "3    114\n",
       "0    113\n",
       "4     81\n",
       "5     22\n",
       "Name: AgeCat, dtype: int64"
      ]
     },
     "execution_count": 224,
     "metadata": {},
     "output_type": "execute_result"
    },
    {
     "data": {
      "text/plain": [
       "1    577\n",
       "0    314\n",
       "Name: Sex, dtype: int64"
      ]
     },
     "execution_count": 224,
     "metadata": {},
     "output_type": "execute_result"
    },
    {
     "data": {
      "text/plain": [
       "0    646\n",
       "1    168\n",
       "2     77\n",
       "Name: Embarked, dtype: int64"
      ]
     },
     "execution_count": 224,
     "metadata": {},
     "output_type": "execute_result"
    },
    {
     "data": {
      "text/plain": [
       "0     537\n",
       "1     161\n",
       "2     102\n",
       "3      29\n",
       "5      22\n",
       "4      15\n",
       "6      12\n",
       "10      7\n",
       "7       6\n",
       "Name: FamilySize, dtype: int64"
      ]
     },
     "execution_count": 224,
     "metadata": {},
     "output_type": "execute_result"
    },
    {
     "data": {
      "text/html": [
       "<div>\n",
       "<style scoped>\n",
       "    .dataframe tbody tr th:only-of-type {\n",
       "        vertical-align: middle;\n",
       "    }\n",
       "\n",
       "    .dataframe tbody tr th {\n",
       "        vertical-align: top;\n",
       "    }\n",
       "\n",
       "    .dataframe thead th {\n",
       "        text-align: right;\n",
       "    }\n",
       "</style>\n",
       "<table border=\"1\" class=\"dataframe\">\n",
       "  <thead>\n",
       "    <tr style=\"text-align: right;\">\n",
       "      <th></th>\n",
       "      <th>Survived</th>\n",
       "      <th>Pclass</th>\n",
       "      <th>Name</th>\n",
       "      <th>Sex</th>\n",
       "      <th>Age</th>\n",
       "      <th>SibSp</th>\n",
       "      <th>Parch</th>\n",
       "      <th>Fare</th>\n",
       "      <th>Embarked</th>\n",
       "      <th>FamilySize</th>\n",
       "      <th>FareCat</th>\n",
       "      <th>AgeCat</th>\n",
       "    </tr>\n",
       "  </thead>\n",
       "  <tbody>\n",
       "    <tr>\n",
       "      <th>0</th>\n",
       "      <td>0</td>\n",
       "      <td>3</td>\n",
       "      <td>Braund, Mr. Owen Harris</td>\n",
       "      <td>1</td>\n",
       "      <td>22.0</td>\n",
       "      <td>1</td>\n",
       "      <td>0</td>\n",
       "      <td>7.2500</td>\n",
       "      <td>0</td>\n",
       "      <td>1</td>\n",
       "      <td>0</td>\n",
       "      <td>1</td>\n",
       "    </tr>\n",
       "    <tr>\n",
       "      <th>1</th>\n",
       "      <td>1</td>\n",
       "      <td>1</td>\n",
       "      <td>Cumings, Mrs. John Bradley (Florence Briggs Th...</td>\n",
       "      <td>0</td>\n",
       "      <td>38.0</td>\n",
       "      <td>1</td>\n",
       "      <td>0</td>\n",
       "      <td>71.2833</td>\n",
       "      <td>1</td>\n",
       "      <td>1</td>\n",
       "      <td>3</td>\n",
       "      <td>3</td>\n",
       "    </tr>\n",
       "    <tr>\n",
       "      <th>2</th>\n",
       "      <td>1</td>\n",
       "      <td>3</td>\n",
       "      <td>Heikkinen, Miss. Laina</td>\n",
       "      <td>0</td>\n",
       "      <td>26.0</td>\n",
       "      <td>0</td>\n",
       "      <td>0</td>\n",
       "      <td>7.9250</td>\n",
       "      <td>0</td>\n",
       "      <td>0</td>\n",
       "      <td>0</td>\n",
       "      <td>2</td>\n",
       "    </tr>\n",
       "    <tr>\n",
       "      <th>3</th>\n",
       "      <td>1</td>\n",
       "      <td>1</td>\n",
       "      <td>Futrelle, Mrs. Jacques Heath (Lily May Peel)</td>\n",
       "      <td>0</td>\n",
       "      <td>35.0</td>\n",
       "      <td>1</td>\n",
       "      <td>0</td>\n",
       "      <td>53.1000</td>\n",
       "      <td>0</td>\n",
       "      <td>1</td>\n",
       "      <td>2</td>\n",
       "      <td>2</td>\n",
       "    </tr>\n",
       "    <tr>\n",
       "      <th>4</th>\n",
       "      <td>0</td>\n",
       "      <td>3</td>\n",
       "      <td>Allen, Mr. William Henry</td>\n",
       "      <td>1</td>\n",
       "      <td>35.0</td>\n",
       "      <td>0</td>\n",
       "      <td>0</td>\n",
       "      <td>8.0500</td>\n",
       "      <td>0</td>\n",
       "      <td>0</td>\n",
       "      <td>0</td>\n",
       "      <td>2</td>\n",
       "    </tr>\n",
       "  </tbody>\n",
       "</table>\n",
       "</div>"
      ],
      "text/plain": [
       "   Survived  Pclass                                               Name  Sex  \\\n",
       "0         0       3                            Braund, Mr. Owen Harris    1   \n",
       "1         1       1  Cumings, Mrs. John Bradley (Florence Briggs Th...    0   \n",
       "2         1       3                             Heikkinen, Miss. Laina    0   \n",
       "3         1       1       Futrelle, Mrs. Jacques Heath (Lily May Peel)    0   \n",
       "4         0       3                           Allen, Mr. William Henry    1   \n",
       "\n",
       "    Age  SibSp  Parch     Fare  Embarked  FamilySize FareCat AgeCat  \n",
       "0  22.0      1      0   7.2500         0           1       0      1  \n",
       "1  38.0      1      0  71.2833         1           1       3      3  \n",
       "2  26.0      0      0   7.9250         0           0       0      2  \n",
       "3  35.0      1      0  53.1000         0           1       2      2  \n",
       "4  35.0      0      0   8.0500         0           0       0      2  "
      ]
     },
     "execution_count": 224,
     "metadata": {},
     "output_type": "execute_result"
    },
    {
     "name": "stdout",
     "output_type": "stream",
     "text": [
      "<class 'pandas.core.frame.DataFrame'>\n",
      "RangeIndex: 891 entries, 0 to 890\n",
      "Data columns (total 12 columns):\n",
      "Survived      891 non-null int64\n",
      "Pclass        891 non-null int64\n",
      "Name          891 non-null object\n",
      "Sex           891 non-null int64\n",
      "Age           891 non-null float64\n",
      "SibSp         891 non-null int64\n",
      "Parch         891 non-null int64\n",
      "Fare          891 non-null float64\n",
      "Embarked      891 non-null int64\n",
      "FamilySize    891 non-null int64\n",
      "FareCat       891 non-null category\n",
      "AgeCat        891 non-null category\n",
      "dtypes: category(2), float64(2), int64(7), object(1)\n",
      "memory usage: 72.0+ KB\n"
     ]
    }
   ],
   "source": [
    "train1 = train.drop(['Ticket','Cabin','PassengerId'],axis=1)\n",
    "\n",
    "train1.Embarked.fillna(train.Embarked.mode()[0], inplace=True)\n",
    "train1.Age.fillna(train1.Age.mean(), inplace=True)\n",
    "train1.Fare.fillna(train1.Fare.mean(), inplace=True)\n",
    "train1['FamilySize'] = train1.SibSp + train1.Parch\n",
    "\n",
    "train1['Sex'] = train.Sex.map(dict(zip((\"female\",\"male\"),(0,1))))\n",
    "train1[\"Embarked\"] = train1[\"Embarked\"].map(dict(zip((\"S\", \"C\", \"Q\"), (0, 1, 2))))\n",
    "\n",
    "train1[\"FareCat\"] = pd.cut(train1.Fare,[-1,20,40,60,80,100,200,300,800],labels=[0,1,2,3,4,5,6,7])\n",
    "train1.FareCat.value_counts(dropna=False)\n",
    "\n",
    "train1[\"AgeCat\"] = pd.cut(train1.Age,[-1,17,25,35,45,60,100],labels=[0,1,2,3,4,5])\n",
    "train1.AgeCat.value_counts(dropna=False)\n",
    "\n",
    "train1.Sex.value_counts(dropna=False)\n",
    "train1.Embarked.value_counts(dropna=False)\n",
    "train1.FamilySize.value_counts(dropna=False)\n",
    "# train1 = pd.get_dummies(train1,columns=['Embarked'])\n",
    "train1.head()\n",
    "\n",
    "s = train1.isnull().sum()\n",
    "for i, v in s.items():\n",
    "    if(v != 0):\n",
    "        print(\"{0:<20s} Non Null {1}\".format(i,v))\n",
    "        \n",
    "train1.info()"
   ]
  },
  {
   "cell_type": "code",
   "execution_count": 225,
   "metadata": {},
   "outputs": [
    {
     "data": {
      "text/plain": [
       "0    517\n",
       "2    182\n",
       "1    126\n",
       "3     40\n",
       "4      7\n",
       "5      6\n",
       "6      5\n",
       "9      3\n",
       "7      3\n",
       "8      2\n",
       "Name: Title, dtype: int64"
      ]
     },
     "execution_count": 225,
     "metadata": {},
     "output_type": "execute_result"
    }
   ],
   "source": [
    "import re\n",
    "titles = list()\n",
    "for row in train1[\"Name\"]:\n",
    "    surname, title, name = re.split(r\"[,.]\", row, maxsplit=2)\n",
    "    titles.append(title.strip())\n",
    "train1[\"Title\"] = titles\n",
    "\n",
    "\n",
    "for key, value in zip((\"Mr\", \"Mrs\", \"Miss\", \"Master\", \"Dr\", \"Rev\"),np.arange(6)):\n",
    "    train1.loc[train1[\"Title\"] == key, \"Title\"] = value\n",
    "    train1.loc[train1[\"Title\"] == \"Ms\", \"Title\"] = 1\n",
    "    for title in \"Major\", \"Col\", \"Capt\":\n",
    "        train1.loc[train1[\"Title\"] == title, \"Title\"] = 6\n",
    "    for title in \"Mlle\", \"Mme\":\n",
    "        train1.loc[train1[\"Title\"] == title, \"Title\"] = 7\n",
    "    for title in \"Don\", \"Sir\":\n",
    "        train1.loc[train1[\"Title\"] == title, \"Title\"] = 8\n",
    "    for title in \"Lady\",\"the Countess\":\n",
    "        train1.loc[train1[\"Title\"] == title, \"Title\"] = 9\n",
    "\n",
    "train1.loc[train1[\"Title\"] == \"Jonkheer\", \"Title\"] = 9\n",
    "train1.Title.value_counts(dropna=False)"
   ]
  },
  {
   "cell_type": "code",
   "execution_count": 226,
   "metadata": {},
   "outputs": [
    {
     "name": "stdout",
     "output_type": "stream",
     "text": [
      "Accuracy: 0.650 ['Pclass', 'Sex', 'AgeCat', 'Fare', 'FamilySize', 'Embarked']\n",
      "Accuracy: 0.713 ['Pclass', 'Sex', 'AgeCat', 'FareCat', 'FamilySize', 'Embarked']\n"
     ]
    },
    {
     "data": {
      "image/png": "[encoded data removed]",
      "text/plain": [
       "<Figure size 432x288 with 1 Axes>"
      ]
     },
     "metadata": {},
     "output_type": "display_data"
    },
    {
     "data": {
      "image/png": "[encoded data removed]",
      "text/plain": [
       "<Figure size 432x288 with 1 Axes>"
      ]
     },
     "metadata": {},
     "output_type": "display_data"
    }
   ],
   "source": [
    "from sklearn.model_selection import train_test_split\n",
    "from sklearn.ensemble import RandomForestRegressor\n",
    "# from sklearn.ensemble import RandomForestClassifier\n",
    "\n",
    "def genRf(predictors):\n",
    "    X_train, X_test, y_train, y_test = train_test_split(train1[predictors], train1[\"Survived\"])\n",
    "    X_train.head()\n",
    "\n",
    "    rf = RandomForestRegressor(n_estimators = 100, random_state = 42)\n",
    "    rf.fit(X_train, y_train)\n",
    "    predictions = rf.predict(X_test).astype('int')\n",
    "\n",
    "    errors = abs(predictions - y_test)\n",
    "#     print('Accuracy:', 1 - np.count_nonzero(errors) / errors.size)\n",
    "    print(\"Accuracy: {0:.3f} {1}\".format(1 - np.count_nonzero(errors) / errors.size, predictors))\n",
    "\n",
    "    pd.DataFrame(data=rf.feature_importances_\\\n",
    "                 ,index=predictors).sort_values(0).plot.bar();\n",
    "    \n",
    "# genRf(['Pclass', 'Sex', 'Age', 'Fare', 'Embarked'])\n",
    "# genRf(['Pclass', 'Sex', 'Age', 'SibSp', 'Parch', 'Fare', 'Embarked'])\n",
    "# genRf(['Pclass', 'Sex', 'Age', 'SibSp', 'Parch', 'Fare', 'Embarked','FamilySize','Title'])\n",
    "# genRf(['Pclass', 'Sex', 'AgeCat', 'Fare', 'Embarked','FamilySize','Title'])\n",
    "# genRf(['Pclass', 'Sex', 'Age', 'Fare', 'FamilySize','Title'])\n",
    "\n",
    "genRf(['Pclass', 'Sex', 'AgeCat','Fare','FamilySize','Embarked'])\n",
    "genRf(['Pclass', 'Sex', 'AgeCat','FareCat','FamilySize','Embarked'])\n"
   ]
  }
 ],
 "metadata": {
  "kernelspec": {
   "display_name": "Python 3",
   "language": "python",
   "name": "python3"
  },
  "language_info": {
   "codemirror_mode": {
    "name": "ipython",
    "version": 3
   },
   "file_extension": ".py",
   "mimetype": "text/x-python",
   "name": "python",
   "nbconvert_exporter": "python",
   "pygments_lexer": "ipython3",
   "version": "3.6.5"
  }
 },
 "nbformat": 4,
 "nbformat_minor": 2
}
