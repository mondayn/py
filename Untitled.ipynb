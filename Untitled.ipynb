{
 "cells": [
  {
   "cell_type": "code",
   "execution_count": 1,
   "metadata": {},
   "outputs": [
    {
     "name": "stdout",
     "output_type": "stream",
     "text": [
      "HTML\t np\t pd\t plt\t rcParams\t test\t \n"
     ]
    }
   ],
   "source": [
    "# %run -i './init.py'\n",
    "# # %ls *.py\n",
    "\n",
    "# def test():\n",
    "#     print('hello')\n",
    "\n",
    "# import init\n",
    "    \n",
    "# init.test()\n",
    "exec(open(\"init.py\").read())\n",
    "\n",
    "%who\n",
    "\n"
   ]
  },
  {
   "cell_type": "code",
   "execution_count": null,
   "metadata": {},
   "outputs": [],
   "source": []
  },
  {
   "cell_type": "code",
   "execution_count": null,
   "metadata": {
    "collapsed": true
   },
   "outputs": [],
   "source": [
    "import pandas as pd\n",
    "import numpy as np\n",
    "\n",
    "import matplotlib.pyplot as plt\n",
    "%matplotlib inline\n",
    "\n",
    "from matplotlib.pylab import rcParams\n",
    "rcParams['figure.figsize'] = 15, 4"
   ]
  },
  {
   "cell_type": "code",
   "execution_count": 2,
   "metadata": {},
   "outputs": [],
   "source": [
    "l = []\n",
    "for i in range(100):\n",
    "    if i == 0:\n",
    "        j = 5.12\n",
    "    elif i % 2 == 0:\n",
    "        j = l[i-1]+7.23\n",
    "    else:\n",
    "        j = l[i-1]-2.02\n",
    "    l.append(j)\n",
    "#     print(\"{},{}\".format(i,j))\n",
    "\n",
    "plt.plot(l);\n",
    "# plt.plot(np.log(l));"
   ]
  },
  {
   "cell_type": "code",
   "execution_count": 3,
   "metadata": {},
   "outputs": [
    {
     "data": {
      "text/plain": [
       "<matplotlib.axes._subplots.AxesSubplot at 0x631c2f6908>"
      ]
     },
     "execution_count": 3,
     "metadata": {},
     "output_type": "execute_result"
    }
   ],
   "source": [
    "pd.DataFrame(l).plot()"
   ]
  },
  {
   "cell_type": "code",
   "execution_count": null,
   "metadata": {},
   "outputs": [],
   "source": [
    "from statsmodels.tsa.arima_model import ARIMA\n",
    "from sklearn.metrics import mean_squared_error\n",
    "\n",
    "\n",
    "model = ARIMA(l, order=(1, 1, 0))  \n",
    "results_AR = model.fit(disp=-1)  \n",
    "plt.plot(l)\n",
    "plt.plot(results_AR.fittedvalues, color='red')\n",
    "# plt.title('RSS: %.4f'% sum((results_AR.fittedvalues-l)**2))"
   ]
  },
  {
   "cell_type": "code",
   "execution_count": null,
   "metadata": {
    "collapsed": true
   },
   "outputs": [],
   "source": []
  }
 ],
 "metadata": {
  "kernelspec": {
   "display_name": "Python 3",
   "language": "python",
   "name": "python3"
  },
  "language_info": {
   "codemirror_mode": {
    "name": "ipython",
    "version": 3
   },
   "file_extension": ".py",
   "mimetype": "text/x-python",
   "name": "python",
   "nbconvert_exporter": "python",
   "pygments_lexer": "ipython3",
   "version": "3.6.1"
  }
 },
 "nbformat": 4,
 "nbformat_minor": 2
}
