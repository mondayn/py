{
 "cells": [
  {
   "cell_type": "code",
   "execution_count": 1,
   "metadata": {},
   "outputs": [],
   "source": [
    "%load_ext cython\n",
    "%load_ext line_profiler\n",
    "import re\n",
    "\n",
    "import line_profiler\n",
    "from collections import Counter"
   ]
  },
  {
   "cell_type": "code",
   "execution_count": 2,
   "metadata": {},
   "outputs": [],
   "source": [
    "from Cython.Compiler import Options \n",
    "\n",
    "defaults = Options.get_directive_defaults()\n",
    "defaults['linetrace'] = True\n",
    "defaults['binding'] = True"
   ]
  },
  {
   "cell_type": "code",
   "execution_count": 3,
   "metadata": {},
   "outputs": [],
   "source": [
    "def my_poly(a,b):\n",
    "    return 10.5 * a + 3 * (b**2)"
   ]
  },
  {
   "cell_type": "code",
   "execution_count": null,
   "metadata": {},
   "outputs": [],
   "source": [
    "%%cython \n",
    "def my_polyx(double a, double b):\n",
    "    return 10.5 * a + 3 * (b**2)"
   ]
  },
  {
   "cell_type": "code",
   "execution_count": null,
   "metadata": {},
   "outputs": [
    {
     "name": "stdout",
     "output_type": "stream",
     "text": [
      "353 ns ± 6.36 ns per loop (mean ± std. dev. of 7 runs, 1000000 loops each)\n"
     ]
    }
   ],
   "source": [
    "%timeit my_poly(10, 2)\n",
    "%timeit my_polyx(10, 2)  #cython 3x faster"
   ]
  },
  {
   "cell_type": "code",
   "execution_count": null,
   "metadata": {},
   "outputs": [],
   "source": [
    "import pandas as pd\n",
    "df = pd.read_csv('data/pwAnalysis.csv',usecols=['A'])"
   ]
  },
  {
   "cell_type": "code",
   "execution_count": null,
   "metadata": {},
   "outputs": [],
   "source": [
    "s = df[:1000].A.str.cat()\n",
    "print(s[:200])"
   ]
  },
  {
   "cell_type": "code",
   "execution_count": null,
   "metadata": {},
   "outputs": [],
   "source": [
    "def mostCommonStrings(charLen, s):\n",
    "    cnt = {}\n",
    "    t = len(s) - (charLen - 1)\n",
    "    for i in range(t):\n",
    "        target = s[i:i+charLen]\n",
    "        \n",
    "        # let's only look at alpha strings\n",
    "#         allAlpha = True\n",
    "#         for j in range(charLen):\n",
    "#             if not target[j].isalpha():\n",
    "#                 allAlpha = False\n",
    "#                 break\n",
    "        \n",
    "#         if allAlpha:\n",
    "        cnt[target] = s.count(target)\n",
    "    return cnt"
   ]
  },
  {
   "cell_type": "code",
   "execution_count": null,
   "metadata": {},
   "outputs": [],
   "source": [
    "def getCount(target,s):\n",
    "    return len(re.findall(target,s))"
   ]
  },
  {
   "cell_type": "code",
   "execution_count": null,
   "metadata": {},
   "outputs": [],
   "source": [
    "%%cython -a -f --compile-args=-DCYTHON_TRACE=1\n",
    "def mostCommonStringsX(int charLen, str s):\n",
    "    cdef dict cnt = {}\n",
    "    cdef int i = 0\n",
    "    cdef int t = 0\n",
    "    cdef int numFound = 0;\n",
    "    cdef str target = ''\n",
    "    t = len(s) - (charLen - 1)\n",
    "    for i in range(t):\n",
    "        target = s[i:i+charLen]\n",
    "#         numFound = s.count(target)\n",
    "        cnt[target] = getCount(target,s)\n",
    "#     s.count(target)\n",
    "    return cnt"
   ]
  },
  {
   "cell_type": "code",
   "execution_count": null,
   "metadata": {},
   "outputs": [],
   "source": [
    "%timeit mostCommonStrings(4,s)\n",
    "%timeit mostCommonStringsX(4,s)"
   ]
  },
  {
   "cell_type": "code",
   "execution_count": null,
   "metadata": {},
   "outputs": [],
   "source": [
    "%%time\n",
    "cnt = Counter(mostCommonStringsX(4,s))\n",
    "print(cnt.most_common(5))"
   ]
  },
  {
   "cell_type": "markdown",
   "metadata": {},
   "source": [
    "## profile mostCommonStringsX"
   ]
  },
  {
   "cell_type": "code",
   "execution_count": null,
   "metadata": {},
   "outputs": [],
   "source": [
    "#Print profiling statistics using the `line_profiler` API\n",
    "profile = line_profiler.LineProfiler(mostCommonStringsX)\n",
    "profile.runcall(mostCommonStringsX,4,s)\n",
    "profile.print_stats()"
   ]
  }
 ],
 "metadata": {
  "kernelspec": {
   "display_name": "Python 3",
   "language": "python",
   "name": "python3"
  },
  "language_info": {
   "codemirror_mode": {
    "name": "ipython",
    "version": 3
   },
   "file_extension": ".py",
   "mimetype": "text/x-python",
   "name": "python",
   "nbconvert_exporter": "python",
   "pygments_lexer": "ipython3",
   "version": "3.6.4"
  }
 },
 "nbformat": 4,
 "nbformat_minor": 2
}
