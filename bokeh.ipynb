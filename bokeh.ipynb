{
 "cells": [
  {
   "cell_type": "code",
   "execution_count": 5,
   "metadata": {
    "collapsed": true
   },
   "outputs": [],
   "source": [
    "import pandas as pd"
   ]
  },
  {
   "cell_type": "code",
   "execution_count": 6,
   "metadata": {},
   "outputs": [],
   "source": [
    "import numpy as np\n",
    "from bokeh.charts import TimeSeries\n",
    "from bokeh.models import HoverTool\n",
    "from bokeh.plotting import show\n",
    "\n",
    "toy_df = pd.DataFrame(data=np.random.rand(5,3), columns = ('a', 'b' ,'c'), index = pd.DatetimeIndex(start='01-01-2015',periods=5, freq='d'))   \n",
    "#Bockeh display dates as numbers so convert to string tu show correctly\n",
    "toy_df.index = toy_df.index.astype(str) \n",
    "p = TimeSeries(toy_df, tools='hover')  \n",
    "\n",
    "#Next 3 lines are to inspect how are names on gliph to call them with @name on hover\n",
    "#glyph_renderers = p.select(dict(type=GlyphRenderer))\n",
    "#bar_source = glyph_renderers[0].data_source\n",
    "#print(bar_source.data)  #Here we can inspect names to call on hover\n",
    "\n",
    "\n",
    "hover = p.select(dict(type=HoverTool))\n",
    "hover.tooltips = [\n",
    "        (\"Series\", \"@series\"),\n",
    "        (\"Date\", \"@x_values\"),\n",
    "        (\"Value\", \"@y_values\"),\n",
    "        ]\n",
    "\n",
    "show(p)"
   ]
  },
  {
   "cell_type": "code",
   "execution_count": null,
   "metadata": {
    "collapsed": true
   },
   "outputs": [],
   "source": []
  }
 ],
 "metadata": {
  "kernelspec": {
   "display_name": "Python 3",
   "language": "python",
   "name": "python3"
  },
  "language_info": {
   "codemirror_mode": {
    "name": "ipython",
    "version": 3
   },
   "file_extension": ".py",
   "mimetype": "text/x-python",
   "name": "python",
   "nbconvert_exporter": "python",
   "pygments_lexer": "ipython3",
   "version": "3.6.1"
  }
 },
 "nbformat": 4,
 "nbformat_minor": 2
}
