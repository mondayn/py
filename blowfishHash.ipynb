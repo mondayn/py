{
 "cells": [
  {
   "cell_type": "code",
   "execution_count": 49,
   "metadata": {
    "collapsed": true
   },
   "outputs": [],
   "source": [
    "import bcrypt\n",
    "pw=\"password\"\n",
    "\n",
    "#store these two somewhere\n",
    "salt=bcrypt.gensalt()\n",
    "hashedVal = bcrypt.hashpw(pw.encode(\"utf-8\"),salt)"
   ]
  },
  {
   "cell_type": "code",
   "execution_count": 50,
   "metadata": {},
   "outputs": [
    {
     "name": "stdout",
     "output_type": "stream",
     "text": [
      "enter pw········\n",
      "match\n"
     ]
    }
   ],
   "source": [
    "# import bcrypt\n",
    "from getpass import getpass\n",
    "\n",
    "pwattempt = getpass('enter pw')\n",
    "\n",
    "if bcrypt.hashpw(pwattempt.encode(\"utf-8\"),salt) == hashedVal:\n",
    "    print('match')\n",
    "else: \n",
    "    print('nope')\n"
   ]
  },
  {
   "cell_type": "code",
   "execution_count": null,
   "metadata": {
    "collapsed": true
   },
   "outputs": [],
   "source": []
  }
 ],
 "metadata": {
  "kernelspec": {
   "display_name": "Python 3",
   "language": "python",
   "name": "python3"
  },
  "language_info": {
   "codemirror_mode": {
    "name": "ipython",
    "version": 3
   },
   "file_extension": ".py",
   "mimetype": "text/x-python",
   "name": "python",
   "nbconvert_exporter": "python",
   "pygments_lexer": "ipython3",
   "version": "3.6.1"
  }
 },
 "nbformat": 4,
 "nbformat_minor": 2
}
