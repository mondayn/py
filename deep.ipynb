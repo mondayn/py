{
 "cells": [
  {
   "cell_type": "code",
   "execution_count": 1,
   "metadata": {
    "code_folding": []
   },
   "outputs": [],
   "source": [
    "from IPython.core.interactiveshell import InteractiveShell\n",
    "InteractiveShell.ast_node_interactivity = \"all\"\n",
    "\n",
    "import numpy as np\n",
    "import pandas as pd\n",
    "\n",
    "import matplotlib.pyplot as plt\n",
    "%matplotlib inline"
   ]
  },
  {
   "cell_type": "code",
   "execution_count": 2,
   "metadata": {
    "code_folding": []
   },
   "outputs": [
    {
     "data": {
      "image/png": "[encoded data removed]",
      "text/plain": [
       "<Figure size 432x288 with 1 Axes>"
      ]
     },
     "metadata": {
      "needs_background": "light"
     },
     "output_type": "display_data"
    }
   ],
   "source": [
    "# generate some random data\n",
    "df = pd.DataFrame()\n",
    "df['x'] = np.random.rand(500,1).flatten()\n",
    "df['y'] = df['x'] ** 3 + 5\n",
    "_=df.plot.scatter(x='x',y='y',title='Non-linear data')"
   ]
  },
  {
   "cell_type": "code",
   "execution_count": 14,
   "metadata": {
    "code_folding": []
   },
   "outputs": [
    {
     "data": {
      "text/plain": [
       "GridSearchCV(cv=3, error_score='raise-deprecating',\n",
       "       estimator=MLPRegressor(activation='tanh', alpha=0.0001, batch_size='auto', beta_1=0.9,\n",
       "       beta_2=0.999, early_stopping=False, epsilon=1e-08,\n",
       "       hidden_layer_sizes=300, learning_rate='constant',\n",
       "       learning_rate_init=0.001, max_iter=200, momentum=0.9,\n",
       "       n_iter_no_change=10, nesterovs_momentum=True, power_t=0.5,\n",
       "       random_state=None, shuffle=True, solver='lbfgs', tol=0.0001,\n",
       "       validation_fraction=0.1, verbose=False, warm_start=False),\n",
       "       fit_params=None, iid='warn', n_jobs=None,\n",
       "       param_grid={'activation': ['identity', 'logistic', 'tanh', 'relu']},\n",
       "       pre_dispatch='2*n_jobs', refit=True, return_train_score='warn',\n",
       "       scoring=None, verbose=0)"
      ]
     },
     "execution_count": 14,
     "metadata": {},
     "output_type": "execute_result"
    },
    {
     "data": {
      "text/html": [
       "<div>\n",
       "<style scoped>\n",
       "    .dataframe tbody tr th:only-of-type {\n",
       "        vertical-align: middle;\n",
       "    }\n",
       "\n",
       "    .dataframe tbody tr th {\n",
       "        vertical-align: top;\n",
       "    }\n",
       "\n",
       "    .dataframe thead th {\n",
       "        text-align: right;\n",
       "    }\n",
       "</style>\n",
       "<table border=\"1\" class=\"dataframe\">\n",
       "  <thead>\n",
       "    <tr style=\"text-align: right;\">\n",
       "      <th></th>\n",
       "      <th>x</th>\n",
       "      <th>y</th>\n",
       "      <th>yhat</th>\n",
       "    </tr>\n",
       "  </thead>\n",
       "  <tbody>\n",
       "    <tr>\n",
       "      <th>0</th>\n",
       "      <td>0.948122</td>\n",
       "      <td>5.852302</td>\n",
       "      <td>5.856858</td>\n",
       "    </tr>\n",
       "    <tr>\n",
       "      <th>1</th>\n",
       "      <td>0.751251</td>\n",
       "      <td>5.423990</td>\n",
       "      <td>5.422724</td>\n",
       "    </tr>\n",
       "  </tbody>\n",
       "</table>\n",
       "</div>"
      ],
      "text/plain": [
       "          x         y      yhat\n",
       "0  0.948122  5.852302  5.856858\n",
       "1  0.751251  5.423990  5.422724"
      ]
     },
     "execution_count": 14,
     "metadata": {},
     "output_type": "execute_result"
    },
    {
     "name": "stdout",
     "output_type": "stream",
     "text": [
      "mse=0.00001\n"
     ]
    },
    {
     "data": {
      "image/png": "[encoded data removed]",
      "text/plain": [
       "<Figure size 432x288 with 1 Axes>"
      ]
     },
     "metadata": {
      "needs_background": "light"
     },
     "output_type": "display_data"
    }
   ],
   "source": [
    "from sklearn.model_selection import train_test_split\n",
    "from sklearn.metrics import r2_score, mean_squared_error\n",
    "from sklearn import tree, ensemble, linear_model, svm\n",
    "\n",
    "# X_train, X_test, y_train, y_test = train_test_split(df.x, df.y, test_size=0.33, random_state=42)\n",
    "# X_train, X_test, y_train, y_test = X_train.values.reshape(-1,1), X_test.values.reshape(-1,1) \\\n",
    "# , y_train.values.reshape(-1,1), y_test.values.reshape(-1,1)\n",
    "\n",
    "# lm = linear_model.LinearRegression()\n",
    "# lm.fit(X_train,y_train)\n",
    "# pred = pd.DataFrame()\n",
    "# pred['x'] = X_test.squeeze()\n",
    "# pred['y'] = y_test.squeeze()\n",
    "# pred['yhat'] = lm.predict(X_test)\n",
    "# pred.head(2)\n",
    "# pred.plot.scatter(x='x',y='yhat')\n",
    "\n",
    "# print('r2 = {:.2f}'.format(lm.score(X_train,y_train)))\n",
    "# print('mse = {:.2f}'.format(mean_squared_error(pred.y,pred.yhat)))\n",
    "\n",
    "from sklearn.neural_network import MLPRegressor\n",
    "from sklearn.model_selection import GridSearchCV\n",
    "\n",
    "mlp = MLPRegressor(hidden_layer_sizes=(300), activation='tanh', solver='lbfgs')\n",
    "gs = GridSearchCV(mlp, param_grid={'activation': [\"identity\", \"logistic\", \"tanh\", \"relu\"]},cv=3)\n",
    "gs.fit(df.x.values.reshape(-1,1),df.y.ravel())\n",
    "df['yhat'] = gs.predict(df.x.values.reshape(-1,1))\n",
    "df.head(2)\n",
    "_=df.plot.scatter(x='x',y='yhat',title='Predicting non-linear')\n",
    "print('mse={:.5f}'.format(mean_squared_error(df.yhat,df.y)))"
   ]
  }
 ],
 "metadata": {
  "kernelspec": {
   "display_name": "Python 3",
   "language": "python",
   "name": "python3"
  },
  "language_info": {
   "codemirror_mode": {
    "name": "ipython",
    "version": 3
   },
   "file_extension": ".py",
   "mimetype": "text/x-python",
   "name": "python",
   "nbconvert_exporter": "python",
   "pygments_lexer": "ipython3",
   "version": "3.7.3"
  },
  "toc": {
   "base_numbering": 1,
   "nav_menu": {},
   "number_sections": true,
   "sideBar": true,
   "skip_h1_title": false,
   "title_cell": "Table of Contents",
   "title_sidebar": "Contents",
   "toc_cell": false,
   "toc_position": {},
   "toc_section_display": true,
   "toc_window_display": false
  }
 },
 "nbformat": 4,
 "nbformat_minor": 2
}
