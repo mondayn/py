{
 "cells": [
  {
   "cell_type": "code",
   "execution_count": 1,
   "metadata": {},
   "outputs": [
    {
     "data": {
      "text/plain": [
       "b'The answer is no'"
      ]
     },
     "execution_count": 1,
     "metadata": {},
     "output_type": "execute_result"
    }
   ],
   "source": [
    ">>> from Crypto.Cipher import AES\n",
    ">>> obj = AES.new('This is a key123', AES.MODE_CBC, 'This is an IV456')\n",
    ">>> message = \"The answer is no\"\n",
    ">>> ciphertext = obj.encrypt(message)\n",
    ">>> ciphertext\n",
    "'\\xd6\\x83\\x8dd!VT\\x92\\xaa`A\\x05\\xe0\\x9b\\x8b\\xf1'\n",
    ">>> obj2 = AES.new('This is a key123', AES.MODE_CBC, 'This is an IV456')\n",
    ">>> obj2.decrypt(ciphertext)"
   ]
  }
 ],
 "metadata": {
  "kernelspec": {
   "display_name": "Python 3",
   "language": "python",
   "name": "python3"
  },
  "language_info": {
   "codemirror_mode": {
    "name": "ipython",
    "version": 3
   },
   "file_extension": ".py",
   "mimetype": "text/x-python",
   "name": "python",
   "nbconvert_exporter": "python",
   "pygments_lexer": "ipython3",
   "version": "3.6.1"
  }
 },
 "nbformat": 4,
 "nbformat_minor": 2
}
