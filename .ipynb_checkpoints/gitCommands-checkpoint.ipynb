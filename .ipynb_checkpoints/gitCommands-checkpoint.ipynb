{
 "cells": [
  {
   "cell_type": "markdown",
   "metadata": {},
   "source": [
    "upload changes"
   ]
  },
  {
   "cell_type": "code",
   "execution_count": 2,
   "metadata": {},
   "outputs": [
    {
     "name": "stdout",
     "output_type": "stream",
     "text": [
      "Microsoft Windows [Version 6.2.9200]\r\n",
      "(c) 2012 Microsoft Corporation. All rights reserved.\r\n",
      "\r\n",
      "C:\\Users\\Nathan\\py>git config --global core.autocrlf true\n",
      "\r\n",
      "C:\\Users\\Nathan\\py>git add .\n",
      "\r\n",
      "C:\\Users\\Nathan\\py>git commit -m \"msg\"\n",
      "[master 897260f] msg\n",
      " 4 files changed, 12 insertions(+), 103 deletions(-)\n",
      " create mode 100644 .ipynb_checkpoints/gitCommands-checkpoint.ipynb\n",
      " create mode 100644 gitCommands.ipynb\n",
      "\r\n",
      "C:\\Users\\Nathan\\py>git push origin master\n",
      "\r\n",
      "C:\\Users\\Nathan\\py>"
     ]
    },
    {
     "name": "stderr",
     "output_type": "stream",
     "text": [
      "warning: LF will be replaced by CRLF in .ipynb_checkpoints/seaborn-checkpoint.ipynb.\n",
      "The file will have its original line endings in your working directory.\n",
      "warning: LF will be replaced by CRLF in seaborn.ipynb.\n",
      "The file will have its original line endings in your working directory.\n",
      "warning: LF will be replaced by CRLF in .ipynb_checkpoints/gitCommands-checkpoint.ipynb.\n",
      "The file will have its original line endings in your working directory.\n",
      "warning: LF will be replaced by CRLF in gitCommands.ipynb.\n",
      "The file will have its original line endings in your working directory.\n",
      "To https://github.com/mondayn/py.git\n",
      "   66745d8..897260f  master -> master\n"
     ]
    }
   ],
   "source": [
    "%%cmd\n",
    "git config --global core.autocrlf true\n",
    "git add .\n",
    "git commit -m \"msg\"\n",
    "git push origin master"
   ]
  },
  {
   "cell_type": "code",
   "execution_count": null,
   "metadata": {
    "collapsed": true
   },
   "outputs": [],
   "source": []
  }
 ],
 "metadata": {
  "kernelspec": {
   "display_name": "Python 3",
   "language": "python",
   "name": "python3"
  },
  "language_info": {
   "codemirror_mode": {
    "name": "ipython",
    "version": 3
   },
   "file_extension": ".py",
   "mimetype": "text/x-python",
   "name": "python",
   "nbconvert_exporter": "python",
   "pygments_lexer": "ipython3",
   "version": "3.6.1"
  }
 },
 "nbformat": 4,
 "nbformat_minor": 2
}
