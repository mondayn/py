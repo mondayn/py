{
 "cells": [
  {
   "cell_type": "raw",
   "metadata": {},
   "source": [
    "#from https://www.dataquest.io/blog/jupyter-notebook-tips-tricks-shortcuts/\n",
    "\n",
    "shorcuts: cltr + shift + p: \n",
    "    toggle out: esc o\n",
    "    multi-cursor: alt while dragging\n",
    "\n",
    "edit mode\n",
    "    (un)comment: ctrl + / \n",
    "    split cells: cltr + shift + -\n",
    "    find/replace: esc f\n",
    "    docstring: shift+tab\n",
    "\n",
    "cmd mode\n",
    "    select next cell:shift+down\n",
    "    merge cells:shift+m\n",
    "    markdown:m\n",
    "    add cell: a\n",
    "    delete cell: d+d"
   ]
  },
  {
   "cell_type": "code",
   "execution_count": 9,
   "metadata": {},
   "outputs": [
    {
     "data": {
      "text/plain": [
       "'hello again'"
      ]
     },
     "execution_count": 9,
     "metadata": {},
     "output_type": "execute_result"
    }
   ],
   "source": [
    "#set multi output, must be its own separate call\n",
    "from IPython.core.interactiveshell import InteractiveShell\n",
    "InteractiveShell.ast_node_interactivity = \"all\""
   ]
  },
  {
   "cell_type": "code",
   "execution_count": 4,
   "metadata": {},
   "outputs": [
    {
     "name": "stdout",
     "output_type": "stream",
     "text": [
      "Wall time: 50.2 ms\n"
     ]
    }
   ],
   "source": [
    "%%time\n",
    "# %%timeit\n",
    "# %prun\n",
    "\n",
    "import time\n",
    "#start function\n",
    "for _ in range(5):\n",
    "   time.sleep(0.01)# sleep for 0.01 seconds"
   ]
  },
  {
   "cell_type": "code",
   "execution_count": null,
   "metadata": {
    "collapsed": true
   },
   "outputs": [],
   "source": [
    "#magic commands\n",
    "%ls\n",
    "#%lsmagic\n",
    "# lsmagic\n",
    "\n",
    "# to list current variables\n",
    "#who "
   ]
  },
  {
   "cell_type": "code",
   "execution_count": null,
   "metadata": {
    "collapsed": true
   },
   "outputs": [],
   "source": [
    "# install r\n",
    "# !conda install -c r r-essentials"
   ]
  }
 ],
 "metadata": {
  "kernelspec": {
   "display_name": "Python 3",
   "language": "python",
   "name": "python3"
  },
  "language_info": {
   "codemirror_mode": {
    "name": "ipython",
    "version": 3
   },
   "file_extension": ".py",
   "mimetype": "text/x-python",
   "name": "python",
   "nbconvert_exporter": "python",
   "pygments_lexer": "ipython3",
   "version": "3.6.1"
  }
 },
 "nbformat": 4,
 "nbformat_minor": 2
}
