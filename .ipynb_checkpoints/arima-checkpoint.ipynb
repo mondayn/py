{
 "cells": [
  {
   "cell_type": "markdown",
   "metadata": {},
   "source": [
    "## Arima\n",
    "from https://machinelearningmastery.com/time-series-forecast-study-python-monthly-sales-french-champagne/"
   ]
  },
  {
   "cell_type": "code",
   "execution_count": 13,
   "metadata": {},
   "outputs": [
    {
     "data": {
      "text/html": [
       "<style>.container{ width: 100% !important; }</style>"
      ],
      "text/plain": [
       "<IPython.core.display.HTML object>"
      ]
     },
     "execution_count": 13,
     "metadata": {},
     "output_type": "execute_result"
    }
   ],
   "source": [
    "from IPython.core.interactiveshell import InteractiveShell\n",
    "InteractiveShell.ast_node_interactivity = \"all\"\n",
    "\n",
    "import pandas as pd\n",
    "import numpy as np\n",
    "from IPython.core.display import HTML\n",
    "HTML(\"<style>.container{ width: 100% !important; }</style>\")\n",
    "pd.options.mode.chained_assignment = None     # default='warn'\n",
    "import matplotlib.pyplot as plt\n",
    "%matplotlib inline\n",
    "# pd.set_option('display.max_columns', 10)      # used in __repr__ methods\n",
    "# pd.set_option('display.width', 500)\n",
    "pd.set_option('display.max_rows', 8)        # used in __repr__ methods"
   ]
  },
  {
   "cell_type": "code",
   "execution_count": 9,
   "metadata": {},
   "outputs": [
    {
     "name": "stdout",
     "output_type": "stream",
     "text": [
      "Dataset 94, Validation 12\n"
     ]
    }
   ],
   "source": [
    "from pandas import Series\n",
    "series = Series.from_csv('data/champagne.csv', header=0)\n",
    "split_point = len(series) - 12\n",
    "dataset, validation = series[0:split_point], series[split_point:]\n",
    "print('Dataset %d, Validation %d' % (len(dataset), len(validation)))\n",
    "dataset.to_csv('dataset.csv')\n",
    "validation.to_csv('validation.csv')\n"
   ]
  },
  {
   "cell_type": "markdown",
   "metadata": {},
   "source": [
    "## What's the accuracy of prior value?"
   ]
  },
  {
   "cell_type": "code",
   "execution_count": 21,
   "metadata": {},
   "outputs": [
    {
     "name": "stdout",
     "output_type": "stream",
     "text": [
      ">Predicted=5010.000, Expected=4874\n",
      ">Predicted=4874.000, Expected=4633\n",
      ">Predicted=4633.000, Expected=1659\n",
      ">Predicted=1659.000, Expected=5951\n",
      ">Predicted=5951.000, Expected=6981\n",
      "RMSE accuracy: 3162.143\n"
     ]
    }
   ],
   "source": [
    "from pandas import Series\n",
    "from sklearn.metrics import mean_squared_error\n",
    "from math import sqrt\n",
    "# load data\n",
    "series = Series.from_csv('dataset.csv')\n",
    "# prepare data\n",
    "X = series.values\n",
    "X = X.astype('float32')\n",
    "train_size = int(len(X) * 0.50)\n",
    "train, test = X[0:train_size], X[train_size:]\n",
    "# walk-forward validation\n",
    "history = [x for x in train]\n",
    "predictions = list()\n",
    "for i in range(len(test)):\n",
    "    # predict\n",
    "    yhat = history[-1]\n",
    "    predictions.append(yhat)\n",
    "    # observation\n",
    "    obs = test[i]\n",
    "    history.append(obs)\n",
    "    if i > len(test)-6:\n",
    "        print('>Predicted=%.3f, Expected=%3.f' % (yhat, obs))\n",
    "# report performance\n",
    "mse = mean_squared_error(test, predictions)\n",
    "rmse = sqrt(mse)\n",
    "print('RMSE accuracy: %.3f' % rmse)"
   ]
  },
  {
   "cell_type": "code",
   "execution_count": null,
   "metadata": {
    "collapsed": true
   },
   "outputs": [],
   "source": []
  }
 ],
 "metadata": {
  "kernelspec": {
   "display_name": "Python 3",
   "language": "python",
   "name": "python3"
  },
  "language_info": {
   "codemirror_mode": {
    "name": "ipython",
    "version": 3
   },
   "file_extension": ".py",
   "mimetype": "text/x-python",
   "name": "python",
   "nbconvert_exporter": "python",
   "pygments_lexer": "ipython3",
   "version": "3.6.1"
  }
 },
 "nbformat": 4,
 "nbformat_minor": 2
}
