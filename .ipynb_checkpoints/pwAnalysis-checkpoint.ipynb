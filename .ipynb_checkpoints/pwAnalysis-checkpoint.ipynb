{
 "cells": [
  {
   "cell_type": "markdown",
   "metadata": {},
   "source": [
    "#Password Analysis\n",
    "\n",
    "Below analyzes 2m passwords hacked from Yahoo and released publicly.  We'll look at the most common password length and characters, as well as popular phrases (love, man, wang, dragon, windows, pass).\n",
    "\n",
    "As an aside, password length trumps complexity.  Hackers have already catalogued short 8 character passwords into rainbow hash tables as discussed here\n",
    "https://medium.com/policygenius-stories/the-sophisticates-guide-to-passwords-4bb6b5d9ecb5."
   ]
  },
  {
   "cell_type": "code",
   "execution_count": 17,
   "metadata": {},
   "outputs": [],
   "source": [
    "#initialize\n",
    "import numpy as np\n",
    "import pandas as pd\n",
    "import matplotlib.pyplot as plt\n",
    "%matplotlib inline\n",
    "\n",
    "#multiple outputs per cell\n",
    "from IPython.core.interactiveshell import InteractiveShell\n",
    "InteractiveShell.ast_node_interactivity = \"all\""
   ]
  },
  {
   "cell_type": "markdown",
   "metadata": {},
   "source": [
    "###Import data"
   ]
  },
  {
   "cell_type": "code",
   "execution_count": 2,
   "metadata": {},
   "outputs": [
    {
     "name": "stdout",
     "output_type": "stream",
     "text": [
      "passwords =  2,151,220 \n",
      "dups =  399 \n",
      "totalCharacters =  18,011,567\n",
      "Wall time: 5.01 s\n"
     ]
    }
   ],
   "source": [
    "%%time\n",
    "df = pd.read_table('http://datashaping.com/passwords.txt',skiprows=16,names=(['pw']),quoting=3)  # nrows=10\n",
    "print('passwords = ',\"{:,}\".format(df.pw.size)\n",
    "      ,'\\ndups = ',df.pw.size - df.pw.unique().size\n",
    "      ,'\\ntotalCharacters = ',\"{:,}\".format(len(df.pw.str.cat())))"
   ]
  },
  {
   "cell_type": "code",
   "execution_count": 4,
   "metadata": {},
   "outputs": [
    {
     "name": "stdout",
     "output_type": "stream",
     "text": [
      "             pw\n",
      "0   07606374520\n",
      "1  piontekendre\n",
      "2      rambo144\n",
      "3     primoz123\n",
      "4       sal1387\n",
      "                  pw\n",
      "2151215     26778982\n",
      "2151216      brazer1\n",
      "2151217   usethisone\n",
      "2151218  scare222273\n",
      "2151219     anto1962\n"
     ]
    }
   ],
   "source": [
    "print(df.head())\n",
    "print(df.tail())"
   ]
  },
  {
   "cell_type": "markdown",
   "metadata": {},
   "source": [
    "### Password Length"
   ]
  },
  {
   "cell_type": "code",
   "execution_count": 7,
   "metadata": {},
   "outputs": [
    {
     "name": "stdout",
     "output_type": "stream",
     "text": [
      "most common length:  8.0 characters\n"
     ]
    },
    {
     "data": {
      "image/png": "[encoded data removed]",
      "text/plain": [
       "<matplotlib.figure.Figure at 0x59798e3048>"
      ]
     },
     "metadata": {},
     "output_type": "display_data"
    }
   ],
   "source": [
    "# How many characters do most people use?\n",
    "df['pwlength']=df.pw.str.len()\n",
    "pp = df['pwlength'].hist()\n",
    "z = pp.set_xlabel(\"Character Length\")\n",
    "z = pp.set_ylabel(\"Passwords\")\n",
    "print('most common length: ',df['pwlength'].mode().max(), 'characters')"
   ]
  },
  {
   "cell_type": "code",
   "execution_count": 9,
   "metadata": {},
   "outputs": [
    {
     "name": "stdout",
     "output_type": "stream",
     "text": [
      "                                    pw  pwlength\n",
      "120304   waaaaaaaaaaaaaaaaaaaaaaaaaaaa      29.0\n",
      "1155769  @fytEm10 *Vb^mZ3%100iRt3h1337      29.0\n",
      "1165598  babi punyer encryptor haihhhh      29.0\n",
      "254206   IhanVitunPitkaSalasanaSaakeli      29.0\n",
      "457967   a42bdef285d431054f2848d30afac      29.0\n",
      "        pw  pwlength\n",
      "358891   a       1.0\n",
      "1688806  9       1.0\n",
      "1078081  7       1.0\n",
      "622400   Y       1.0\n",
      "1266307  J       1.0\n"
     ]
    }
   ],
   "source": [
    "#Look at some of the longest and shortest passwords\n",
    "print(df.sort_values(by='pwlength',ascending=False).head())\n",
    "print(df.sort_values(by='pwlength').head())"
   ]
  },
  {
   "cell_type": "markdown",
   "metadata": {},
   "source": [
    "### Characters Used"
   ]
  },
  {
   "cell_type": "code",
   "execution_count": 11,
   "metadata": {},
   "outputs": [
    {
     "data": {
      "text/html": [
       "<div>\n",
       "<style>\n",
       "    .dataframe thead tr:only-child th {\n",
       "        text-align: right;\n",
       "    }\n",
       "\n",
       "    .dataframe thead th {\n",
       "        text-align: left;\n",
       "    }\n",
       "\n",
       "    .dataframe tbody tr th {\n",
       "        vertical-align: top;\n",
       "    }\n",
       "</style>\n",
       "<table border=\"1\" class=\"dataframe\">\n",
       "  <thead>\n",
       "    <tr style=\"text-align: right;\">\n",
       "      <th></th>\n",
       "      <th>char</th>\n",
       "      <th>occurence</th>\n",
       "    </tr>\n",
       "  </thead>\n",
       "  <tbody>\n",
       "    <tr>\n",
       "      <th>0</th>\n",
       "      <td>a</td>\n",
       "      <td>0.059467</td>\n",
       "    </tr>\n",
       "    <tr>\n",
       "      <th>1</th>\n",
       "      <td>e</td>\n",
       "      <td>0.045304</td>\n",
       "    </tr>\n",
       "    <tr>\n",
       "      <th>2</th>\n",
       "      <td>i</td>\n",
       "      <td>0.040045</td>\n",
       "    </tr>\n",
       "  </tbody>\n",
       "</table>\n",
       "</div>"
      ],
      "text/plain": [
       "  char  occurence\n",
       "0    a   0.059467\n",
       "1    e   0.045304\n",
       "2    i   0.040045"
      ]
     },
     "execution_count": 11,
     "metadata": {},
     "output_type": "execute_result"
    }
   ],
   "source": [
    "# what alpha character is most often used?\n",
    "import nltk\n",
    "\n",
    "def printMostCommon(n):\n",
    "    df2 = pd.DataFrame(fdist.most_common(n))\n",
    "    df2.columns = ['char','freq']\n",
    "    df2['occurence']= df2.freq / len(df.pw.str.cat()) # % of all characters\n",
    "    return df2\n",
    "    \n",
    "fdist = nltk.FreqDist(ch.lower() for ch in df.pw.str.cat() if ch.isalpha())\n",
    "printMostCommon(3)[['char','occurence']]"
   ]
  },
  {
   "cell_type": "code",
   "execution_count": 18,
   "metadata": {},
   "outputs": [
    {
     "data": {
      "text/plain": [
       "nltk.probability.FreqDist"
      ]
     },
     "execution_count": 18,
     "metadata": {},
     "output_type": "execute_result"
    },
    {
     "data": {
      "text/plain": [
       "list"
      ]
     },
     "execution_count": 18,
     "metadata": {},
     "output_type": "execute_result"
    }
   ],
   "source": [
    "type(fdist)\n",
    "type(fdist.most_common(3))\n",
    "# pd.DataFrame(fdist).head(10)"
   ]
  },
  {
   "cell_type": "code",
   "execution_count": null,
   "metadata": {},
   "outputs": [],
   "source": [
    "#most common digits\n",
    "fdist = nltk.FreqDist(ch.lower() for ch in df.A.str.cat() if ch.isdigit())\n",
    "print(printMostCommon(10)[['char','occurence']].to_string(index=False))"
   ]
  },
  {
   "cell_type": "code",
   "execution_count": null,
   "metadata": {},
   "outputs": [],
   "source": [
    "#how many contain certain string\n",
    "s = 'windows'\n",
    "print('people use ',s,\n",
    "      \"{:%}\".format(df[df['A'].str.lower().str.match(s,na=False)].size / df.size),' of the time')\n",
    "\n",
    "df[df['A'].str.lower().str.match(s,na=False)].A.head(25).str.cat(sep='|')"
   ]
  },
  {
   "cell_type": "code",
   "execution_count": null,
   "metadata": {},
   "outputs": [],
   "source": [
    "df5 = pd.DataFrame({'char':['love','pass','man','wang','dragon','zzzz','and','123']})\n",
    "df5['freq']= df5.char.apply(lambda ch: df[df.A.str.lower().str.match(ch.lower(),na=False)].size)\n",
    "df5['occurence']= df5.char.apply(lambda ch: df[df.A.str.lower().str.match(ch.lower(),na=False)].size / df.size)\n",
    "df5.sort_values(by='occurence',ascending=False)"
   ]
  },
  {
   "cell_type": "code",
   "execution_count": null,
   "metadata": {},
   "outputs": [],
   "source": [
    "#most common special character\n",
    "fdist = nltk.FreqDist(ch.lower() for ch in df.A.str.cat() if not ch.isalnum())\n",
    "printMostCommon(8)[['char','occurence']]"
   ]
  },
  {
   "cell_type": "code",
   "execution_count": null,
   "metadata": {
    "scrolled": true
   },
   "outputs": [],
   "source": [
    "# how often are special case used?\n",
    "df['specialChar']=df.A.apply(lambda s: not str(s).isalnum())\n",
    "# df.A[df['specialChar']==True].head(50).str.cat(sep='|')  # print some passwords containing special characters\n",
    "print('people use special characters ', \"{:%}\".format(df.A[df['specialChar']==True].size / df.A.size),'of the time')"
   ]
  },
  {
   "cell_type": "code",
   "execution_count": null,
   "metadata": {
    "collapsed": true
   },
   "outputs": [],
   "source": [
    "import datetime\n",
    "\n",
    "def printTimeDuration (msg):\n",
    "    global dtStart, dtLast\n",
    "    dtNow = datetime.datetime.now()\n",
    "    cumDelta = dtNow - dtStart\n",
    "    curDelta = dtNow - dtLast\n",
    "    \n",
    "    hours, remainder = divmod(curDelta.seconds, 3600)\n",
    "    minutes, seconds = divmod(remainder, 60)\n",
    "\n",
    "    cumHours, cumRemainder = divmod(cumDelta.seconds, 3600)\n",
    "    cumMinutes, cumSeconds = divmod(cumRemainder, 60)\n",
    "    \n",
    "    print(msg,'incr:','%s:%s:%s' % (hours, minutes, seconds),'ttl:','%s:%s:%s' % (cumHours, cumMinutes, cumSeconds))\n",
    "    dtLast = dtNow"
   ]
  },
  {
   "cell_type": "code",
   "execution_count": null,
   "metadata": {},
   "outputs": [],
   "source": [
    "%%prun\n",
    "# what character combo is most often used?\n",
    "\n",
    "import re\n",
    "import math\n",
    "from collections import Counter\n",
    "\n",
    "def mostCommonStrings(charLen,cnt):\n",
    "    s=df.A.head(10000).str.cat()\n",
    "#     s=df.A.str.cat()\n",
    "\n",
    "    t = len(s) - (charLen - 1)\n",
    "    for i in range(t):\n",
    "        char = s[i:i+charLen]               # a sequence of characters being considered\n",
    "        allAlpha = True\n",
    "        for j in range(charLen):\n",
    "            if not char[j].isalpha():\n",
    "                allAlpha = False\n",
    "                break\n",
    "        if allAlpha:\n",
    "            numFound = len(re.findall(char,s))\n",
    "            if numFound>8 and not cnt[char]:\n",
    "                cnt[char] += numFound\n",
    "\n",
    "    printTimeDuration('charLen'+str(charLen))\n",
    "    return cnt\n",
    "\n",
    "# for timing\n",
    "dtStart = datetime.datetime.now()\n",
    "dtLast = dtStart\n",
    "printTimeDuration('start')\n",
    "    \n",
    "cnt = Counter()\n",
    "for i in range(4,9):\n",
    "    cnt = mostCommonStrings(i,cnt)\n",
    "\n",
    "df3 = pd.DataFrame.from_dict(cnt, orient='index').reset_index()\n",
    "if df3.columns.size==2:\n",
    "    df3.columns = ['char','freq']\n",
    "    #df3['freq']=df3.freq.apply(lambda x: math.sqrt(x))\n",
    "    df3['charLen']=df3.char.apply(lambda str: len(str))\n",
    "print('records=',df3.size)"
   ]
  },
  {
   "cell_type": "code",
   "execution_count": null,
   "metadata": {},
   "outputs": [],
   "source": [
    "# df2.drop(df.index, inplace=True)\n",
    "# df2 = df2.iloc[0:0].copy()\n",
    "cnt['love']"
   ]
  },
  {
   "cell_type": "code",
   "execution_count": null,
   "metadata": {
    "collapsed": true
   },
   "outputs": [],
   "source": [
    "# df3[df3.charLen==8].sort_values('freq',ascending=False).head(25)\n",
    "#remove those found with higher frequency\n",
    "#add column if found in english\n",
    "\n",
    "# df4 = df3.copy()\n",
    "# df4.sort_values('freq',ascending=False).head(10)\n",
    "df4.to_csv('pwpatterns.csv')\n",
    "#df4 = pd.read_csv('pwpatterns.csv',usecols=['char','freq','charLen'])\n"
   ]
  },
  {
   "cell_type": "code",
   "execution_count": null,
   "metadata": {},
   "outputs": [],
   "source": [
    "s=df.A.head(10000).str.cat()\n",
    "len(re.findall('gun',s))"
   ]
  },
  {
   "cell_type": "code",
   "execution_count": null,
   "metadata": {},
   "outputs": [],
   "source": [
    "len(df.A.head(50000).str.cat()) /  len(df.A.str.cat())"
   ]
  },
  {
   "cell_type": "code",
   "execution_count": null,
   "metadata": {},
   "outputs": [],
   "source": [
    "df4['small']=False\n",
    "\n",
    "# for timing\n",
    "# dtStart = datetime.datetime.now()\n",
    "# dtLast = dtStart\n",
    "# printTimeDuration('start')\n",
    "\n",
    "#cols 0..:0 char, 1 freq, 2 charLen, 3 small\n",
    "# for i in df4.index:\n",
    "#     if i % 100 == 0: printTimeDuration(i)  \n",
    "#     charLen = df4.iat[i,2]\n",
    "#     for j in df4.index:\n",
    "#         if df4.iat[j,0][0:charLen] == df4.iat[i,0] and df4.iat[j,2] > charLen:\n",
    "#             df4.iat[i,3]=True\n",
    "\n",
    "# df4[df4.char=='acces']\n",
    "# df4[df4.char=='access']\n",
    "\n",
    "# df4.sort_values('char',ascending=True).head(100)\n",
    "print('finished')"
   ]
  },
  {
   "cell_type": "code",
   "execution_count": null,
   "metadata": {
    "collapsed": true
   },
   "outputs": [],
   "source": [
    "2+4"
   ]
  },
  {
   "cell_type": "code",
   "execution_count": null,
   "metadata": {},
   "outputs": [],
   "source": [
    "#cols 0..:0 char, 1 freq, 2 charLen, 3 small\n",
    "# df4.iat[6892,3]\n",
    "# df4.iloc[6892]\n",
    "# df4[df4.char=='acces']\n"
   ]
  },
  {
   "cell_type": "code",
   "execution_count": null,
   "metadata": {},
   "outputs": [],
   "source": [
    "from nltk.corpus import words\n",
    "\"fun\" in words.words()"
   ]
  },
  {
   "cell_type": "code",
   "execution_count": null,
   "metadata": {},
   "outputs": [],
   "source": [
    "df4['word']=df4.char.apply(lambda m: 1 if m in words.words() else 0)\n",
    "df4.head()"
   ]
  },
  {
   "cell_type": "code",
   "execution_count": null,
   "metadata": {},
   "outputs": [],
   "source": [
    "df4.word.unique()"
   ]
  },
  {
   "cell_type": "code",
   "execution_count": null,
   "metadata": {},
   "outputs": [],
   "source": [
    "df4[df4.word==1].head()\n",
    "df4[df4.word==0].head()"
   ]
  },
  {
   "cell_type": "code",
   "execution_count": null,
   "metadata": {},
   "outputs": [],
   "source": [
    "df4.groupby(by='word').count()"
   ]
  },
  {
   "cell_type": "code",
   "execution_count": null,
   "metadata": {},
   "outputs": [],
   "source": [
    "df4[df4.char=='windows']\n",
    "df4[df4.char=='window']"
   ]
  },
  {
   "cell_type": "code",
   "execution_count": null,
   "metadata": {
    "collapsed": true
   },
   "outputs": [],
   "source": []
  }
 ],
 "metadata": {
  "kernelspec": {
   "display_name": "Python 3",
   "language": "python",
   "name": "python3"
  },
  "language_info": {
   "codemirror_mode": {
    "name": "ipython",
    "version": 3
   },
   "file_extension": ".py",
   "mimetype": "text/x-python",
   "name": "python",
   "nbconvert_exporter": "python",
   "pygments_lexer": "ipython3",
   "version": "3.6.1"
  }
 },
 "nbformat": 4,
 "nbformat_minor": 2
}
