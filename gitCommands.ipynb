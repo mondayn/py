{
 "cells": [
  {
   "cell_type": "markdown",
   "metadata": {},
   "source": [
    "# gitCommands"
   ]
  },
  {
   "cell_type": "markdown",
   "metadata": {},
   "source": [
    "upload changes"
   ]
  },
  {
   "cell_type": "code",
   "execution_count": 1,
   "metadata": {},
   "outputs": [
    {
     "name": "stdout",
     "output_type": "stream",
     "text": [
      "[master de6de7e] msg\n",
      " 1 file changed, 440 insertions(+)\n",
      " create mode 100644 fbProphet.ipynb\n"
     ]
    },
    {
     "name": "stderr",
     "output_type": "stream",
     "text": [
      "To https://github.com/mondayn/py.git\n",
      "   e65287c..de6de7e  master -> master\n"
     ]
    }
   ],
   "source": [
    "%%bash\n",
    "git add fbProphet.ipynb\n",
    "git commit -m \"msg\"\n",
    "git push origin master"
   ]
  },
  {
   "cell_type": "code",
   "execution_count": null,
   "metadata": {},
   "outputs": [],
   "source": [
    "# $ git config credential.helper store\n",
    "# $ git push http://example.com/repo.git\n",
    "# Username: <type your username>\n",
    "# Password: <type your password>"
   ]
  },
  {
   "cell_type": "markdown",
   "metadata": {},
   "source": [
    "#if necessary pull down project\n",
    "git clone https://github.com/mondayn/py.git\n",
    "\n",
    "#if necessary set\n",
    "git config --global user.email \"emailaddy\"\n",
    "git config --global user.name \"name\"\n",
    "\n",
    "#to upload\n",
    "git init\n",
    "git add .\t\t#adds all\n",
    "git commit -m \"msg\"\n",
    "git push origin master \t#origin is alias for remote depo, master is branch\n",
    "\n",
    "#get online changes\n",
    "git pull\t#does git fetch and git merge"
   ]
  }
 ],
 "metadata": {
  "kernelspec": {
   "display_name": "Python 3",
   "language": "python",
   "name": "python3"
  },
  "language_info": {
   "codemirror_mode": {
    "name": "ipython",
    "version": 3
   },
   "file_extension": ".py",
   "mimetype": "text/x-python",
   "name": "python",
   "nbconvert_exporter": "python",
   "pygments_lexer": "ipython3",
   "version": "3.6.5"
  }
 },
 "nbformat": 4,
 "nbformat_minor": 2
}
