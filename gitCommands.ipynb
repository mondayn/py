{
 "cells": [
  {
   "cell_type": "markdown",
   "metadata": {},
   "source": [
    "# gitCommands"
   ]
  },
  {
   "cell_type": "markdown",
   "metadata": {},
   "source": [
    "upload changes"
   ]
  },
  {
   "cell_type": "code",
   "execution_count": 1,
   "metadata": {},
   "outputs": [
    {
     "name": "stdout",
     "output_type": "stream",
     "text": [
      "Microsoft Windows [Version 6.1.7601]\r\n",
      "Copyright (c) 2009 Microsoft Corporation.  All rights reserved.\r\n",
      "\r\n",
      "C:\\Users\\hvu7470\\py>git add *.ipynb\n",
      "\r\n",
      "C:\\Users\\hvu7470\\py>git commit -m \"msg\"\n",
      "[master b6cf157] msg\n",
      " Committer: Monday Nathan <hvu7470@hca.corpad.net>\n",
      "Your name and email address were configured automatically based\n",
      "on your username and hostname. Please check that they are accurate.\n",
      "You can suppress this message by setting them explicitly. Run the\n",
      "following command and follow the instructions in your editor to edit\n",
      "your configuration file:\n",
      "\n",
      "    git config --global --edit\n",
      "\n",
      "After doing this, you may fix the identity used for this commit with:\n",
      "\n",
      "    git commit --amend --reset-author\n",
      "\n",
      " 8 files changed, 2210 insertions(+), 1438 deletions(-)\n",
      " rewrite .ipynb_checkpoints/emailAnalysis-checkpoint.ipynb (94%)\n",
      " create mode 100644 .ipynb_checkpoints/pwAnalysis-checkpoint.ipynb\n",
      " rewrite emailAnalysis.ipynb (94%)\n",
      "\r\n",
      "C:\\Users\\hvu7470\\py>git push origin master\n",
      "\r\n",
      "C:\\Users\\hvu7470\\py>"
     ]
    },
    {
     "name": "stderr",
     "output_type": "stream",
     "text": [
      "warning: LF will be replaced by CRLF in .ipynb_checkpoints/emailAnalysis-checkpoint.ipynb.\n",
      "The file will have its original line endings in your working directory.\n",
      "warning: LF will be replaced by CRLF in .ipynb_checkpoints/pandas-checkpoint.ipynb.\n",
      "The file will have its original line endings in your working directory.\n",
      "warning: LF will be replaced by CRLF in emailAnalysis.ipynb.\n",
      "The file will have its original line endings in your working directory.\n",
      "warning: LF will be replaced by CRLF in matplotlib.ipynb.\n",
      "The file will have its original line endings in your working directory.\n",
      "warning: LF will be replaced by CRLF in pandas.ipynb.\n",
      "The file will have its original line endings in your working directory.\n",
      "warning: LF will be replaced by CRLF in pwAnalysis.ipynb.\n",
      "The file will have its original line endings in your working directory.\n",
      "warning: LF will be replaced by CRLF in seaborn.ipynb.\n",
      "The file will have its original line endings in your working directory.\n",
      "warning: LF will be replaced by CRLF in .ipynb_checkpoints/pwAnalysis-checkpoint.ipynb.\n",
      "The file will have its original line endings in your working directory.\n",
      "Logon failed, use ctrl+c to cancel basic credential prompt.\r\n",
      "bash: /dev/tty: No such device or address\n",
      "error: failed to execute prompt script (exit code 1)\n",
      "fatal: could not read Username for 'https://github.com': No error\n"
     ]
    }
   ],
   "source": [
    "%%cmd\n",
    "git add *.ipynb\n",
    "git commit -m \"msg\"\n",
    "git push origin master"
   ]
  },
  {
   "cell_type": "markdown",
   "metadata": {},
   "source": [
    "#if necessary pull down project\n",
    "git clone https://github.com/mondayn/py.git\n",
    "\n",
    "#if necessary set\n",
    "git config --global user.email \"emailaddy\"\n",
    "git config --global user.name \"name\"\n",
    "\n",
    "#to upload\n",
    "git init\n",
    "git add .\t\t#adds all\n",
    "git commit -m \"msg\"\n",
    "git push origin master \t#origin is alias for remote depo, master is branch\n",
    "\n",
    "#get online changes\n",
    "git pull\t#does git fetch and git merge"
   ]
  }
 ],
 "metadata": {
  "kernelspec": {
   "display_name": "Python 3",
   "language": "python",
   "name": "python3"
  },
  "language_info": {
   "codemirror_mode": {
    "name": "ipython",
    "version": 3
   },
   "file_extension": ".py",
   "mimetype": "text/x-python",
   "name": "python",
   "nbconvert_exporter": "python",
   "pygments_lexer": "ipython3",
   "version": "3.6.3"
  }
 },
 "nbformat": 4,
 "nbformat_minor": 2
}
