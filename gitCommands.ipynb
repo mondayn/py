{
 "cells": [
  {
   "cell_type": "markdown",
   "metadata": {},
   "source": [
    "# gitCommands"
   ]
  },
  {
   "cell_type": "markdown",
   "metadata": {},
   "source": [
    "upload changes"
   ]
  },
  {
   "cell_type": "code",
   "execution_count": 1,
   "metadata": {},
   "outputs": [
    {
     "name": "stdout",
     "output_type": "stream",
     "text": [
      "[master 6fee607] msg\n",
      " 37 files changed, 14342 insertions(+), 250 deletions(-)\n",
      " create mode 100644 arima/.ipynb_checkpoints/arimaEmail-checkpoint.ipynb\n",
      " create mode 100644 arima/arimaEmail.ipynb\n",
      " create mode 100644 arima/arima_complex.ipynb\n",
      " create mode 100644 arima/arima_my.ipynb\n",
      " create mode 100644 arima/arima_simple.ipynb\n",
      " create mode 100644 arima/emailAnalysis.ipynb\n",
      " create mode 100644 arima/emailFbpropphet.ipynb\n",
      " create mode 100644 arima/pyramidArima.ipynb\n",
      " create mode 100644 arima/pyramidVsFbProphet.ipynb\n",
      " create mode 100644 basics/containers.ipynb\n",
      " create mode 100644 basics/dates.ipynb\n",
      " create mode 100644 basics/matplotlib.ipynb\n",
      " create mode 100644 basics/numpy.ipynb\n",
      " create mode 100644 basics/pandas.ipynb\n",
      " create mode 100644 basics/print.ipynb\n",
      " create mode 100644 data/champagne.csv\n",
      " create mode 100644 data/dataset.csv\n",
      " create mode 100644 data/stationary.csv\n",
      " create mode 100644 data/validation.csv\n",
      " rewrite deep.ipynb (84%)\n",
      " create mode 100644 encrypt.ipynb\n",
      " create mode 100644 train_5500.txt\n"
     ]
    },
    {
     "name": "stderr",
     "output_type": "stream",
     "text": [
      "To https://github.com/mondayn/py.git\n",
      "   2b60226..6fee607  master -> master\n"
     ]
    }
   ],
   "source": [
    "%%bash\n",
    "git add *\n",
    "git commit -m \"msg\"\n",
    "git push origin master"
   ]
  },
  {
   "cell_type": "raw",
   "metadata": {},
   "source": [
    "%%bash\n",
    "git rm --cached integerProgramming.ipynb\n",
    "git commit -m \"msg\"\n",
    "git push origin master\n",
    "\n",
    "# perform update when changes not committed\n",
    "%%bash\n",
    "git add -u"
   ]
  },
  {
   "cell_type": "code",
   "execution_count": null,
   "metadata": {},
   "outputs": [],
   "source": [
    "# $ git config credential.helper store\n",
    "# $ git push http://example.com/repo.git\n",
    "# Username: <type your username>\n",
    "# Password: <type your password>"
   ]
  },
  {
   "cell_type": "markdown",
   "metadata": {},
   "source": [
    "#if necessary pull down project\n",
    "git clone https://github.com/mondayn/py.git\n",
    "\n",
    "#if necessary set\n",
    "git config --global user.email \"emailaddy\"\n",
    "git config --global user.name \"name\"\n",
    "\n",
    "#to upload\n",
    "git init\n",
    "git add .\t\t#adds all\n",
    "git commit -m \"msg\"\n",
    "git push origin master \t#origin is alias for remote depo, master is branch\n",
    "\n",
    "#get online changes\n",
    "git pull\t#does git fetch and git merge"
   ]
  }
 ],
 "metadata": {
  "kernelspec": {
   "display_name": "Python 3",
   "language": "python",
   "name": "python3"
  },
  "language_info": {
   "codemirror_mode": {
    "name": "ipython",
    "version": 3
   },
   "file_extension": ".py",
   "mimetype": "text/x-python",
   "name": "python",
   "nbconvert_exporter": "python",
   "pygments_lexer": "ipython3",
   "version": "3.7.3"
  },
  "toc": {
   "base_numbering": 1,
   "nav_menu": {},
   "number_sections": true,
   "sideBar": true,
   "skip_h1_title": false,
   "title_cell": "Table of Contents",
   "title_sidebar": "Contents",
   "toc_cell": false,
   "toc_position": {},
   "toc_section_display": true,
   "toc_window_display": false
  }
 },
 "nbformat": 4,
 "nbformat_minor": 2
}
