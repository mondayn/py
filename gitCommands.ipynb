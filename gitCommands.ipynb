{
 "cells": [
  {
   "cell_type": "markdown",
   "metadata": {},
   "source": [
    "# gitCommands"
   ]
  },
  {
   "cell_type": "markdown",
   "metadata": {},
   "source": [
    "upload changes"
   ]
  },
  {
   "cell_type": "code",
   "execution_count": 1,
   "metadata": {},
   "outputs": [
    {
     "name": "stdout",
     "output_type": "stream",
     "text": [
      "Microsoft Windows [Version 6.2.9200]\r\n",
      "(c) 2012 Microsoft Corporation. All rights reserved.\r\n",
      "\r\n",
      "C:\\Users\\Nathan\\py>git add *.ipynb\n",
      "\r\n",
      "C:\\Users\\Nathan\\py>git commit -m \"msg\"\n",
      "[master 9d6e8a8] msg\n",
      " 9 files changed, 867 insertions(+), 428 deletions(-)\n",
      " create mode 100644 .ipynb_checkpoints/bokeh-checkpoint.ipynb\n",
      " rewrite .ipynb_checkpoints/matplotlib-checkpoint.ipynb (62%)\n",
      " create mode 100644 bokeh.ipynb\n",
      " rewrite matplotlib.ipynb (62%)\n",
      "\r\n",
      "C:\\Users\\Nathan\\py>git push origin master\n",
      "\r\n",
      "C:\\Users\\Nathan\\py>"
     ]
    },
    {
     "name": "stderr",
     "output_type": "stream",
     "text": [
      "warning: LF will be replaced by CRLF in .ipynb_checkpoints/arima_complex-checkpoint.ipynb.\n",
      "The file will have its original line endings in your working directory.\n",
      "warning: LF will be replaced by CRLF in .ipynb_checkpoints/matplotlib-checkpoint.ipynb.\n",
      "The file will have its original line endings in your working directory.\n",
      "warning: LF will be replaced by CRLF in .ipynb_checkpoints/numpy-checkpoint.ipynb.\n",
      "The file will have its original line endings in your working directory.\n",
      "warning: LF will be replaced by CRLF in arima_complex.ipynb.\n",
      "The file will have its original line endings in your working directory.\n",
      "warning: LF will be replaced by CRLF in gitCommands.ipynb.\n",
      "The file will have its original line endings in your working directory.\n",
      "warning: LF will be replaced by CRLF in matplotlib.ipynb.\n",
      "The file will have its original line endings in your working directory.\n",
      "warning: LF will be replaced by CRLF in numpy.ipynb.\n",
      "The file will have its original line endings in your working directory.\n",
      "warning: LF will be replaced by CRLF in .ipynb_checkpoints/bokeh-checkpoint.ipynb.\n",
      "The file will have its original line endings in your working directory.\n",
      "warning: LF will be replaced by CRLF in bokeh.ipynb.\n",
      "The file will have its original line endings in your working directory.\n",
      "To https://github.com/mondayn/py.git\n",
      "   b479c34..9d6e8a8  master -> master\n"
     ]
    }
   ],
   "source": [
    "%%cmd\n",
    "git add *.ipynb\n",
    "git commit -m \"msg\"\n",
    "git push origin master"
   ]
  },
  {
   "cell_type": "code",
   "execution_count": null,
   "metadata": {
    "collapsed": true
   },
   "outputs": [],
   "source": []
  },
  {
   "cell_type": "markdown",
   "metadata": {},
   "source": [
    "#if necessary pull down project\n",
    "git clone https://github.com/mondayn/py.git\n",
    "\n",
    "#if necessary set\n",
    "git config --global user.email \"emailaddy\"\n",
    "git config --global user.name \"name\"\n",
    "\n",
    "#to upload\n",
    "git init\n",
    "git add .\t\t#adds all\n",
    "git commit -m \"msg\"\n",
    "git push origin master \t#origin is alias for remote depo, master is branch\n",
    "\n",
    "#get online changes\n",
    "git pull\t#does git fetch and git merge"
   ]
  }
 ],
 "metadata": {
  "kernelspec": {
   "display_name": "Python 3",
   "language": "python",
   "name": "python3"
  },
  "language_info": {
   "codemirror_mode": {
    "name": "ipython",
    "version": 3
   },
   "file_extension": ".py",
   "mimetype": "text/x-python",
   "name": "python",
   "nbconvert_exporter": "python",
   "pygments_lexer": "ipython3",
   "version": "3.6.1"
  }
 },
 "nbformat": 4,
 "nbformat_minor": 2
}
