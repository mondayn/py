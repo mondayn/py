{
 "cells": [
  {
   "cell_type": "markdown",
   "metadata": {},
   "source": [
    "# gitCommands"
   ]
  },
  {
   "cell_type": "markdown",
   "metadata": {},
   "source": [
    "upload changes"
   ]
  },
  {
   "cell_type": "code",
   "execution_count": 4,
   "metadata": {},
   "outputs": [
    {
     "name": "stdout",
     "output_type": "stream",
     "text": [
      "Microsoft Windows [Version 6.1.7601]\r\n",
      "Copyright (c) 2009 Microsoft Corporation.  All rights reserved.\r\n",
      "\r\n",
      "C:\\Users\\hvu7470\\py>git add *.ipynb\n",
      "\r\n",
      "C:\\Users\\hvu7470\\py>git commit -m \"msg\"\n",
      "[master 9a0986d] msg\n",
      " 3 files changed, 395 insertions(+), 82 deletions(-)\n",
      "\r\n",
      "C:\\Users\\hvu7470\\py>git push origin master\n",
      "\r\n",
      "C:\\Users\\hvu7470\\py>"
     ]
    },
    {
     "name": "stderr",
     "output_type": "stream",
     "text": [
      "warning: LF will be replaced by CRLF in .ipynb_checkpoints/pwAnalysis-checkpoint.ipynb.\n",
      "The file will have its original line endings in your working directory.\n",
      "warning: LF will be replaced by CRLF in gitCommands.ipynb.\n",
      "The file will have its original line endings in your working directory.\n",
      "warning: LF will be replaced by CRLF in pwAnalysis.ipynb.\n",
      "The file will have its original line endings in your working directory.\n",
      "To https://github.com/mondayn/py.git\n",
      "   5b6d42d..9a0986d  master -> master\n"
     ]
    }
   ],
   "source": [
    "%%cmd\n",
    "git add *.ipynb\n",
    "git commit -m \"msg\"\n",
    "git push origin master"
   ]
  },
  {
   "cell_type": "markdown",
   "metadata": {},
   "source": [
    "#if necessary pull down project\n",
    "git clone https://github.com/mondayn/py.git\n",
    "\n",
    "#if necessary set\n",
    "git config --global user.email \"emailaddy\"\n",
    "git config --global user.name \"name\"\n",
    "\n",
    "#to upload\n",
    "git init\n",
    "git add .\t\t#adds all\n",
    "git commit -m \"msg\"\n",
    "git push origin master \t#origin is alias for remote depo, master is branch\n",
    "\n",
    "#get online changes\n",
    "git pull\t#does git fetch and git merge"
   ]
  }
 ],
 "metadata": {
  "kernelspec": {
   "display_name": "Python 3",
   "language": "python",
   "name": "python3"
  },
  "language_info": {
   "codemirror_mode": {
    "name": "ipython",
    "version": 3
   },
   "file_extension": ".py",
   "mimetype": "text/x-python",
   "name": "python",
   "nbconvert_exporter": "python",
   "pygments_lexer": "ipython3",
   "version": "3.6.3"
  }
 },
 "nbformat": 4,
 "nbformat_minor": 2
}
