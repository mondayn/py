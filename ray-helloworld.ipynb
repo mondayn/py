{
 "cells": [
  {
   "cell_type": "code",
   "execution_count": 1,
   "metadata": {},
   "outputs": [],
   "source": [
    "import re\n",
    "from collections import Counter\n",
    "\n",
    "import pandas as pd\n",
    "import ray\n",
    "import multiprocessing\n",
    "\n",
    "#multiple outputs per cell\n",
    "from IPython.core.interactiveshell import InteractiveShell\n",
    "InteractiveShell.ast_node_interactivity = \"all\""
   ]
  },
  {
   "cell_type": "code",
   "execution_count": 2,
   "metadata": {},
   "outputs": [],
   "source": [
    "df = pd.read_csv('data/pwAnalysis.csv',usecols=['A'])"
   ]
  },
  {
   "cell_type": "code",
   "execution_count": 5,
   "metadata": {},
   "outputs": [
    {
     "data": {
      "text/html": [
       "<div>\n",
       "<style scoped>\n",
       "    .dataframe tbody tr th:only-of-type {\n",
       "        vertical-align: middle;\n",
       "    }\n",
       "\n",
       "    .dataframe tbody tr th {\n",
       "        vertical-align: top;\n",
       "    }\n",
       "\n",
       "    .dataframe thead th {\n",
       "        text-align: right;\n",
       "    }\n",
       "</style>\n",
       "<table border=\"1\" class=\"dataframe\">\n",
       "  <thead>\n",
       "    <tr style=\"text-align: right;\">\n",
       "      <th></th>\n",
       "      <th>A</th>\n",
       "    </tr>\n",
       "  </thead>\n",
       "  <tbody>\n",
       "    <tr>\n",
       "      <th>0</th>\n",
       "      <td>07606374520</td>\n",
       "    </tr>\n",
       "    <tr>\n",
       "      <th>1</th>\n",
       "      <td>piontekendre</td>\n",
       "    </tr>\n",
       "    <tr>\n",
       "      <th>2</th>\n",
       "      <td>rambo144</td>\n",
       "    </tr>\n",
       "    <tr>\n",
       "      <th>3</th>\n",
       "      <td>primoz123</td>\n",
       "    </tr>\n",
       "    <tr>\n",
       "      <th>4</th>\n",
       "      <td>sal1387</td>\n",
       "    </tr>\n",
       "  </tbody>\n",
       "</table>\n",
       "</div>"
      ],
      "text/plain": [
       "              A\n",
       "0   07606374520\n",
       "1  piontekendre\n",
       "2      rambo144\n",
       "3     primoz123\n",
       "4       sal1387"
      ]
     },
     "execution_count": 5,
     "metadata": {},
     "output_type": "execute_result"
    }
   ],
   "source": [
    "df.head()"
   ]
  },
  {
   "cell_type": "code",
   "execution_count": 3,
   "metadata": {},
   "outputs": [
    {
     "name": "stdout",
     "output_type": "stream",
     "text": [
      "Process STDOUT and STDERR is being redirected to /tmp/raylogs/.\n",
      "Waiting for redis server at 127.0.0.1:32096 to respond...\n",
      "Waiting for redis server at 127.0.0.1:16366 to respond...\n",
      "Starting local scheduler with the following resources: {'CPU': 4, 'GPU': 0}.\n",
      "\n",
      "======================================================================\n",
      "View the web UI at http://localhost:8890/notebooks/ray_ui63279.ipynb?token=b750bd60c0a183a665601a0bb4e3033f3d302b0ecdd1cafa\n",
      "======================================================================\n",
      "\n"
     ]
    },
    {
     "data": {
      "text/plain": [
       "{'local_scheduler_socket_names': ['/tmp/scheduler51221488'],\n",
       " 'node_ip_address': '127.0.0.1',\n",
       " 'object_store_addresses': [ObjectStoreAddress(name='/tmp/plasma_store52808779', manager_name='/tmp/plasma_manager73697470', manager_port=64833)],\n",
       " 'redis_address': '127.0.0.1:32096',\n",
       " 'webui_url': 'http://localhost:8890/notebooks/ray_ui63279.ipynb?token=b750bd60c0a183a665601a0bb4e3033f3d302b0ecdd1cafa'}"
      ]
     },
     "execution_count": 3,
     "metadata": {},
     "output_type": "execute_result"
    }
   ],
   "source": [
    "ray.init()  #kick off multi-threading\n",
    "\n",
    "@ray.remote\n",
    "def mostCommonStrings(charLen,s):\n",
    "    cnt = Counter()\n",
    "    t = len(s) - (charLen - 1)\n",
    "    \n",
    "    for i in range(t):\n",
    "        \n",
    "        # a sequence of characters being considered\n",
    "        char = s[i:i+charLen]                \n",
    "        \n",
    "        # let's only look at alpha strings\n",
    "        allAlpha = True\n",
    "        for j in range(charLen):\n",
    "            if not char[j].isalpha():\n",
    "                allAlpha = False\n",
    "                break\n",
    "            \n",
    "        if allAlpha:\n",
    "            numFound = len(re.findall(char,s))\n",
    "            if numFound>1:\n",
    "                cnt[char] = numFound\n",
    "    \n",
    "    return dict(cnt)"
   ]
  },
  {
   "cell_type": "code",
   "execution_count": 4,
   "metadata": {},
   "outputs": [
    {
     "name": "stdout",
     "output_type": "stream",
     "text": [
      "2151220\n",
      "threads, batchSize = 4, 25000.0\n"
     ]
    }
   ],
   "source": [
    "threads = multiprocessing.cpu_count()\n",
    "print(df.size)\n",
    "batchSize = df.size / threads\n",
    "batchSize = 100000 / threads\n",
    "print('threads, batchSize = {}, {}'.format(threads,batchSize))"
   ]
  },
  {
   "cell_type": "code",
   "execution_count": 5,
   "metadata": {},
   "outputs": [
    {
     "name": "stdout",
     "output_type": "stream",
     "text": [
      "most common 4 digit strings are [('love', 574), ('wang', 286), ('hang', 285), ('chen', 274), ('iang', 256)]\n",
      "most common 5 digit strings are [('zhang', 182), ('admin', 180), ('ilove', 162), ('angel', 89), ('huang', 87)]\n",
      "most common 6 digit strings are [('ssword', 64), ('asswor', 62), ('passwo', 59), ('master', 55), ('woaini', 52)]\n",
      "most common 7 digit strings are [('assword', 60), ('passwor', 59), ('forever', 36), ('dearboo', 33), ('earbook', 33)]\n",
      "most common 8 digit strings are [('password', 57), ('dearbook', 33), ('iloveyou', 19), ('computer', 12), ('kikugala', 10)]\n",
      "CPU times: user 218 ms, sys: 15.4 ms, total: 233 ms\n",
      "Wall time: 3min 59s\n"
     ]
    }
   ],
   "source": [
    "%%time\n",
    "\n",
    "for charLen in range(4,9):   # look at strings of len 4 up to 8\n",
    "    cnt = Counter()\n",
    "    for i in range(threads):\n",
    "        s = df[int(i * batchSize) : int(i * batchSize + batchSize) ].A.str.cat()\n",
    "        cnt += ray.get(mostCommonStrings.remote(charLen,s)) \n",
    "    print(\"most common {} digit strings are {}\".format(charLen,cnt.most_common(5)))"
   ]
  },
  {
   "cell_type": "code",
   "execution_count": 6,
   "metadata": {},
   "outputs": [],
   "source": [
    "# df2 = df[0: int(3*batchSize + batchSize)]\n",
    "# df2[df2.A.str.contains('love',na=False)].size"
   ]
  }
 ],
 "metadata": {
  "kernelspec": {
   "display_name": "Python 3",
   "language": "python",
   "name": "python3"
  },
  "language_info": {
   "codemirror_mode": {
    "name": "ipython",
    "version": 3
   },
   "file_extension": ".py",
   "mimetype": "text/x-python",
   "name": "python",
   "nbconvert_exporter": "python",
   "pygments_lexer": "ipython3",
   "version": "3.7.3"
  }
 },
 "nbformat": 4,
 "nbformat_minor": 2
}
