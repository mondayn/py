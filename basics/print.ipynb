{
 "cells": [
  {
   "cell_type": "code",
   "execution_count": 26,
   "metadata": {},
   "outputs": [
    {
     "name": "stdout",
     "output_type": "stream",
     "text": [
      "integer 50, float 6000.3\n"
     ]
    },
    {
     "data": {
      "text/plain": [
       "'integer 50, float 6000.25'"
      ]
     },
     "execution_count": 26,
     "metadata": {},
     "output_type": "execute_result"
    }
   ],
   "source": [
    "# i or d for integer\n",
    "#f or F for float\n",
    "print('integer %i, float %.2f' % (50.65,6000.254908230))  # old style\n",
    "\n",
    "'integer {0:d}, float {1:.2f}'.format(50,6000.25)  # new style"
   ]
  },
  {
   "cell_type": "code",
   "execution_count": 47,
   "metadata": {},
   "outputs": [
    {
     "name": "stdout",
     "output_type": "stream",
     "text": [
      "comma thousands 10,000.25\n"
     ]
    }
   ],
   "source": [
    "#print the 0th item with comma format and float percision of 2\n",
    "print(\"comma thousands {:,.2f}\".format(10000.25,500.2))"
   ]
  },
  {
   "cell_type": "code",
   "execution_count": 46,
   "metadata": {},
   "outputs": [
    {
     "data": {
      "text/plain": [
       "'6000.2,   50'"
      ]
     },
     "execution_count": 46,
     "metadata": {},
     "output_type": "execute_result"
    }
   ],
   "source": [
    "#print 1st item, then 0th item (out of order)\n",
    "#4d means 4 character integer\n",
    "\"{1:.1f}, {0:4d}\".format(50,6000.25)"
   ]
  },
  {
   "cell_type": "code",
   "execution_count": 32,
   "metadata": {},
   "outputs": [
    {
     "name": "stdout",
     "output_type": "stream",
     "text": [
      "Price: $   356.09\n"
     ]
    }
   ],
   "source": [
    "print(\"Price: $ %8.2f\"% (356.08977))"
   ]
  },
  {
   "cell_type": "code",
   "execution_count": 48,
   "metadata": {},
   "outputs": [
    {
     "data": {
      "text/plain": [
       "'Spam & Eggs:           6.99'"
      ]
     },
     "execution_count": 48,
     "metadata": {},
     "output_type": "execute_result"
    }
   ],
   "source": [
    "#< character means right align\n",
    "#> would be left align\n",
    "\"{0:<20s} {1:6.2f}\".format('Spam & Eggs:', 6.99)"
   ]
  },
  {
   "cell_type": "code",
   "execution_count": 10,
   "metadata": {},
   "outputs": [
    {
     "data": {
      "text/plain": [
       "'   test   '"
      ]
     },
     "execution_count": 10,
     "metadata": {},
     "output_type": "execute_result"
    }
   ],
   "source": [
    "#center align\n",
    "'{:^10}'.format('test')"
   ]
  },
  {
   "cell_type": "code",
   "execution_count": 1,
   "metadata": {},
   "outputs": [
    {
     "data": {
      "text/plain": [
       "'00004'"
      ]
     },
     "execution_count": 1,
     "metadata": {},
     "output_type": "execute_result"
    }
   ],
   "source": [
    "#zero pad a number\n",
    "\"{0:05d}\".format(4)"
   ]
  }
 ],
 "metadata": {
  "kernelspec": {
   "display_name": "Python 3",
   "language": "python",
   "name": "python3"
  },
  "language_info": {
   "codemirror_mode": {
    "name": "ipython",
    "version": 3
   },
   "file_extension": ".py",
   "mimetype": "text/x-python",
   "name": "python",
   "nbconvert_exporter": "python",
   "pygments_lexer": "ipython3",
   "version": "3.7.3"
  }
 },
 "nbformat": 4,
 "nbformat_minor": 2
}
